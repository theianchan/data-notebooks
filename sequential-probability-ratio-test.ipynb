{
 "cells": [
  {
   "cell_type": "markdown",
   "metadata": {},
   "source": [
    "### Preamble"
   ]
  },
  {
   "cell_type": "markdown",
   "metadata": {},
   "source": [
    "Ok peeking is bad. But let's try to build some intuition around *why* peeking is bad, and what we can do about it."
   ]
  },
  {
   "cell_type": "code",
   "execution_count": 1,
   "metadata": {
    "collapsed": true
   },
   "outputs": [],
   "source": [
    "%matplotlib inline\n",
    "\n",
    "import numpy as np\n",
    "import pandas as pd\n",
    "import scipy.stats as stats\n",
    "import matplotlib.pyplot as plt\n",
    "import seaborn as sns\n",
    "import math"
   ]
  },
  {
   "cell_type": "markdown",
   "metadata": {},
   "source": [
    "Someone arrives on our homepage. They either take a conversion action or they don't. From our past observations we know that roughly 2 of every 100 visitors take a conversion action on our homepage. \n",
    "\n",
    "Here's what that might look like:"
   ]
  },
  {
   "cell_type": "code",
   "execution_count": 2,
   "metadata": {},
   "outputs": [
    {
     "name": "stdout",
     "output_type": "stream",
     "text": [
      "[0 0 0 0 0 0 0 0 0 0 0 0 0 0 0 0 0 0 0 0 0 0 0 0 0 0 0 0 0 0 0 0 0 0 0 0 0\n",
      " 0 0 0 0 0 0 0 0 0 0 0 0 0 0 0 0 0 0 0 0 0 0 0 0 0 0 0 0 0 0 0 0 0 0 0 0 0\n",
      " 0 0 0 0 0 0 0 0 0 0 0 0 0 0 0 0 0 0 0 0 0 0 0 0 0 0]\n",
      "\n",
      "Number of conversions: 0\n"
     ]
    }
   ],
   "source": [
    "visitors_100 = np.random.choice([1, 0], size=100, p=[0.02, 0.98])\n",
    "print(visitors_100)\n",
    "print(\"\\nNumber of conversions: {}\".format(visitors_100.sum()))"
   ]
  },
  {
   "cell_type": "markdown",
   "metadata": {},
   "source": [
    "An easier way to get the number of conversions would be to call the scipy random variables (rvs) method:"
   ]
  },
  {
   "cell_type": "code",
   "execution_count": 3,
   "metadata": {
    "scrolled": true
   },
   "outputs": [
    {
     "data": {
      "text/plain": [
       "1"
      ]
     },
     "execution_count": 3,
     "metadata": {},
     "output_type": "execute_result"
    }
   ],
   "source": [
    "stats.binom.rvs(n=100, p=0.02)"
   ]
  },
  {
   "cell_type": "markdown",
   "metadata": {},
   "source": [
    "Okay but we're responsible statisticians, so we know that we could be getting an abnormally high or low number of conversions in the 100 visitors we're examining due to chance. So let's repeat our \"experiment\" 10 times."
   ]
  },
  {
   "cell_type": "code",
   "execution_count": 4,
   "metadata": {},
   "outputs": [
    {
     "name": "stdout",
     "output_type": "stream",
     "text": [
      "[1 2 1 6 5 2 1 2 2 3]\n",
      "\n",
      "Average number of conversions: 2.5\n"
     ]
    }
   ],
   "source": [
    "v100_times_10 = stats.binom.rvs(n=100, p=0.02, size=10)\n",
    "print(v100_times_10)\n",
    "print(\"\\nAverage number of conversions: {}\".format(np.mean(v100_times_10)))"
   ]
  },
  {
   "cell_type": "markdown",
   "metadata": {},
   "source": [
    "So we have greater confidence in our estimation of our conversion rate, but we need more traffic to do it.\n",
    "\n",
    "A standard error calculation gives us the amount of deviation from the average conversion rate we can expect to see if our experiment is repeated multiple times."
   ]
  },
  {
   "cell_type": "code",
   "execution_count": 5,
   "metadata": {
    "collapsed": true
   },
   "outputs": [],
   "source": [
    "def std_error(p, n): return math.sqrt(p * (1 - p) / n)"
   ]
  },
  {
   "cell_type": "code",
   "execution_count": 6,
   "metadata": {},
   "outputs": [
    {
     "data": {
      "text/plain": [
       "0.014"
      ]
     },
     "execution_count": 6,
     "metadata": {},
     "output_type": "execute_result"
    }
   ],
   "source": [
    "std_error(0.02, 100)"
   ]
  },
  {
   "cell_type": "markdown",
   "metadata": {},
   "source": [
    "How can we think intuitively our standard error metric? We might think of it as \"the amount of variation we would expect to see within one standard deviation of our average conversion rate\". One standard deviation contains 68% of the outcomes we would expect to see in our data, so 68% of the time our conversion rate should lie between 0.02 - 0.014 = 0.006 and 0.02 + 0.014 = 0.034."
   ]
  },
  {
   "cell_type": "code",
   "execution_count": 7,
   "metadata": {
    "collapsed": true
   },
   "outputs": [],
   "source": [
    "se_1_below_cnv = 0.02 + std_error(0.02, 100)\n",
    "se_1_above_cnv = 0.02 - std_error(0.02, 100)"
   ]
  },
  {
   "cell_type": "code",
   "execution_count": 8,
   "metadata": {},
   "outputs": [
    {
     "data": {
      "text/plain": [
       "array([ 0.1       ,  0.2       ,  0.1       ,  0.60000002,  0.5       ,\n",
       "        0.2       ,  0.1       ,  0.2       ,  0.2       ,  0.30000001], dtype=float32)"
      ]
     },
     "execution_count": 8,
     "metadata": {},
     "output_type": "execute_result"
    }
   ],
   "source": [
    "v100_t10_cnv = np.float32(v100_times_10) / len(v100_times_10)\n",
    "v100_t10_cnv"
   ]
  },
  {
   "cell_type": "code",
   "execution_count": 9,
   "metadata": {},
   "outputs": [
    {
     "data": {
      "text/plain": [
       "array([False, False, False, False, False, False, False, False, False, False], dtype=bool)"
      ]
     },
     "execution_count": 9,
     "metadata": {},
     "output_type": "execute_result"
    }
   ],
   "source": [
    "v100_t10_blw_mean_plus_se = v100_times_10 < (0.02 + std_error(0.02, 100))\n",
    "v100_t10_blw_mean_plus_se"
   ]
  },
  {
   "cell_type": "code",
   "execution_count": 11,
   "metadata": {},
   "outputs": [
    {
     "data": {
      "text/plain": [
       "array([False, False, False, False, False, False, False, False, False, False], dtype=bool)"
      ]
     },
     "execution_count": 11,
     "metadata": {},
     "output_type": "execute_result"
    }
   ],
   "source": [
    "v100_t10_abv_mean_plus_se = v100_times_10 < (0.02 + std_error(0.02, 100))\n",
    "v100_t10_abv_mean_plus_se"
   ]
  },
  {
   "cell_type": "code",
   "execution_count": null,
   "metadata": {},
   "outputs": [],
   "source": [
    "pd.DataFrame({\n",
    "    \"Number of Conversions\": visitors_100_times_10,\n",
    "    \"Conversion Rate\": visitors_100_times_10_cnv,\n",
    "    \"Within Standard Error\": visitors_100_times_10[visitors_100_times_10[]]\n",
    "}, index=[\"Trial {}\".format(i + 1) for i in range(10)])[[\n",
    "    \"Number of Conversions\",\n",
    "    \"Conversion Rate\"\n",
    "]].T"
   ]
  },
  {
   "cell_type": "code",
   "execution_count": 12,
   "metadata": {},
   "outputs": [
    {
     "data": {
      "image/png": "[encoded data removed]",
      "text/plain": [
       "<matplotlib.figure.Figure at 0x119cf77d0>"
      ]
     },
     "metadata": {},
     "output_type": "display_data"
    }
   ],
   "source": [
    "_ = sns.distplot(v100_times_10)\n",
    "_ = plt.axvline((0.02 * 100), color=\"r\")\n",
    "_ = plt.axvline((0.02 - std_error(0.02, 100)) * 100, color=\"r\")\n",
    "_ = plt.axvline((0.02 + std_error(0.02, 100)) * 100, color=\"r\")"
   ]
  },
  {
   "cell_type": "code",
   "execution_count": 13,
   "metadata": {},
   "outputs": [
    {
     "data": {
      "image/png": "[encoded data removed]",
      "text/plain": [
       "<matplotlib.figure.Figure at 0x11d12ced0>"
      ]
     },
     "metadata": {},
     "output_type": "display_data"
    }
   ],
   "source": [
    "v100_times_100 = stats.binom.rvs(n=100, p=0.02, size=100)\n",
    "_ = sns.distplot(v100_times_100)\n",
    "_ = plt.axvline((0.02 * 100), color=\"r\")\n",
    "_ = plt.axvline((0.02 - std_error(0.02, 100)) * 100, color=\"r\")\n",
    "_ = plt.axvline((0.02 + std_error(0.02, 100)) * 100, color=\"r\")"
   ]
  },
  {
   "cell_type": "code",
   "execution_count": null,
   "metadata": {
    "collapsed": true
   },
   "outputs": [],
   "source": []
  },
  {
   "cell_type": "code",
   "execution_count": null,
   "metadata": {
    "collapsed": true
   },
   "outputs": [],
   "source": []
  },
  {
   "cell_type": "code",
   "execution_count": null,
   "metadata": {
    "collapsed": true
   },
   "outputs": [],
   "source": []
  },
  {
   "cell_type": "code",
   "execution_count": null,
   "metadata": {
    "collapsed": true
   },
   "outputs": [],
   "source": []
  },
  {
   "cell_type": "code",
   "execution_count": null,
   "metadata": {
    "collapsed": true
   },
   "outputs": [],
   "source": []
  },
  {
   "cell_type": "code",
   "execution_count": null,
   "metadata": {
    "collapsed": true
   },
   "outputs": [],
   "source": []
  },
  {
   "cell_type": "code",
   "execution_count": null,
   "metadata": {
    "collapsed": true
   },
   "outputs": [],
   "source": []
  },
  {
   "cell_type": "markdown",
   "metadata": {},
   "source": [
    "### The Problem\n",
    "\n",
    "You have 100 marketers running A/A tests, stopping as soon as they get to p < 0.05 or the test is shown to 10,000 visitors. \n",
    "\n",
    "How many of them will stop early? 5? 10? 20? 30?"
   ]
  },
  {
   "cell_type": "code",
   "execution_count": null,
   "metadata": {
    "collapsed": true
   },
   "outputs": [],
   "source": []
  },
  {
   "cell_type": "code",
   "execution_count": null,
   "metadata": {
    "collapsed": true
   },
   "outputs": [],
   "source": []
  },
  {
   "cell_type": "code",
   "execution_count": null,
   "metadata": {
    "collapsed": true
   },
   "outputs": [],
   "source": []
  },
  {
   "cell_type": "code",
   "execution_count": null,
   "metadata": {
    "collapsed": true
   },
   "outputs": [],
   "source": []
  }
 ],
 "metadata": {
  "kernelspec": {
   "display_name": "Python 2",
   "language": "python",
   "name": "python2"
  },
  "language_info": {
   "codemirror_mode": {
    "name": "ipython",
    "version": 2
   },
   "file_extension": ".py",
   "mimetype": "text/x-python",
   "name": "python",
   "nbconvert_exporter": "python",
   "pygments_lexer": "ipython2",
   "version": "2.7.14"
  }
 },
 "nbformat": 4,
 "nbformat_minor": 2
}
