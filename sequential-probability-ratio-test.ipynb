{
 "cells": [
  {
   "cell_type": "markdown",
   "metadata": {},
   "source": [
    "### Preamble"
   ]
  },
  {
   "cell_type": "markdown",
   "metadata": {},
   "source": [
    "Ok peeking is bad. But let's try to build some intuition around *why* peeking is bad, and what we can do about it."
   ]
  },
  {
   "cell_type": "code",
   "execution_count": 74,
   "metadata": {
    "collapsed": true
   },
   "outputs": [],
   "source": [
    "%matplotlib inline\n",
    "\n",
    "import numpy as np\n",
    "import pandas as pd\n",
    "import scipy.stats as stats\n",
    "import matplotlib.pyplot as plt\n",
    "import seaborn as sns\n",
    "import random\n",
    "import math"
   ]
  },
  {
   "cell_type": "markdown",
   "metadata": {
    "heading_collapsed": true
   },
   "source": [
    "### Number of visitors & conversions"
   ]
  },
  {
   "cell_type": "markdown",
   "metadata": {
    "hidden": true
   },
   "source": [
    "Someone arrives on our homepage. They either take a conversion action or they don't. From our past observations we know that roughly 2 of every 100 visitors take a conversion action on our homepage. \n",
    "\n",
    "Here's what that might look like:"
   ]
  },
  {
   "cell_type": "code",
   "execution_count": 2,
   "metadata": {
    "collapsed": true,
    "hidden": true
   },
   "outputs": [],
   "source": [
    "n_visitors = 100\n",
    "p_conversion = 2.0 / n_visitors"
   ]
  },
  {
   "cell_type": "code",
   "execution_count": 3,
   "metadata": {
    "hidden": true
   },
   "outputs": [
    {
     "name": "stdout",
     "output_type": "stream",
     "text": [
      "[0 0 0 0 0 0 0 0 0 0 0 0 0 0 0 0 0 1 0 0 0 0 0 0 0 0 0 0 0 0 0 0 0 0 0 0 0\n",
      " 0 0 0 0 0 0 0 0 0 0 0 0 0 0 0 0 0 0 0 0 0 0 0 0 0 0 0 0 0 0 0 0 0 0 0 0 0\n",
      " 0 0 0 0 0 0 0 0 0 0 0 0 0 0 0 0 0 0 0 0 0 0 0 1 0 0]\n",
      "\n",
      "Number of conversions: 2\n"
     ]
    }
   ],
   "source": [
    "visitors_100 = np.random.choice([1, 0], size=n_visitors, p=[p_conversion, 1 - p_conversion])\n",
    "print(visitors_100)\n",
    "print(\"\\nNumber of conversions: {}\".format(visitors_100.sum()))"
   ]
  },
  {
   "cell_type": "markdown",
   "metadata": {
    "hidden": true
   },
   "source": [
    "An easier way to get the number of conversions would be to call the scipy random variables (rvs) method:"
   ]
  },
  {
   "cell_type": "code",
   "execution_count": 4,
   "metadata": {
    "hidden": true,
    "scrolled": false
   },
   "outputs": [
    {
     "data": {
      "text/plain": [
       "1"
      ]
     },
     "execution_count": 4,
     "metadata": {},
     "output_type": "execute_result"
    }
   ],
   "source": [
    "stats.binom.rvs(n=n_visitors, p=p_conversion)"
   ]
  },
  {
   "cell_type": "markdown",
   "metadata": {},
   "source": [
    "### Number of experiments"
   ]
  },
  {
   "cell_type": "markdown",
   "metadata": {},
   "source": [
    "We're responsible statisticians, so we know that we could be getting an abnormally high or low number of conversions in the 100 visitors we're examining due to chance. So let's repeat our \"experiment\" 10 times."
   ]
  },
  {
   "cell_type": "code",
   "execution_count": 5,
   "metadata": {
    "collapsed": true
   },
   "outputs": [],
   "source": [
    "n_experiments = 10"
   ]
  },
  {
   "cell_type": "code",
   "execution_count": 6,
   "metadata": {
    "scrolled": false
   },
   "outputs": [
    {
     "name": "stdout",
     "output_type": "stream",
     "text": [
      "[1 2 5 6 3 2 2 3 2 1]\n",
      "\n",
      "Average number of conversions: 2.7\n"
     ]
    }
   ],
   "source": [
    "v100_times_10 = stats.binom.rvs(n=n_visitors, p=p_conversion, size=n_experiments)\n",
    "print(v100_times_10)\n",
    "print(\"\\nAverage number of conversions: {}\".format(np.mean(v100_times_10)))"
   ]
  },
  {
   "cell_type": "code",
   "execution_count": 7,
   "metadata": {},
   "outputs": [
    {
     "name": "stdout",
     "output_type": "stream",
     "text": [
      "[ 0.01  0.02  0.05  0.06  0.03  0.02  0.02  0.03  0.02  0.01]\n",
      "\n",
      "Average conversion rate: 0.027\n"
     ]
    }
   ],
   "source": [
    "v100_t10_cnv = v100_times_10 / float(n_visitors)\n",
    "\n",
    "print(v100_t10_cnv)\n",
    "print(\"\\nAverage conversion rate: {}\".format(np.mean(v100_t10_cnv)))"
   ]
  },
  {
   "cell_type": "markdown",
   "metadata": {},
   "source": [
    "So we have greater confidence in our estimation of our conversion rate, but we need more traffic to do it."
   ]
  },
  {
   "cell_type": "markdown",
   "metadata": {
    "heading_collapsed": true
   },
   "source": [
    "### Standard error"
   ]
  },
  {
   "cell_type": "markdown",
   "metadata": {
    "hidden": true
   },
   "source": [
    "A standard error calculation gives us the amount of deviation from the average conversion rate we can expect to see if our experiment is repeated multiple times."
   ]
  },
  {
   "cell_type": "code",
   "execution_count": 8,
   "metadata": {
    "collapsed": true,
    "hidden": true
   },
   "outputs": [],
   "source": [
    "def std_error(p, n): return math.sqrt(p * (1 - p) / n)"
   ]
  },
  {
   "cell_type": "code",
   "execution_count": 9,
   "metadata": {
    "hidden": true
   },
   "outputs": [
    {
     "name": "stdout",
     "output_type": "stream",
     "text": [
      "0.014\n"
     ]
    }
   ],
   "source": [
    "std_error = std_error(p_conversion, n_visitors)\n",
    "print(std_error)"
   ]
  },
  {
   "cell_type": "markdown",
   "metadata": {
    "heading_collapsed": true
   },
   "source": [
    "### Building intuition for standard error"
   ]
  },
  {
   "cell_type": "markdown",
   "metadata": {
    "hidden": true
   },
   "source": [
    "How can we think intuitively about our standard error metric? \n",
    "\n",
    "We might think of it as \"the amount of variation we would expect to see within one standard deviation of our average conversion rate\". One standard deviation contains 68% of the outcomes we would expect to see in our data, so 68% of the time our conversion rate should lie between 0.02 - 0.014 = 0.006 and 0.02 + 0.014 = 0.034.\n",
    "\n",
    "Let's see if our data conforms to this assumption."
   ]
  },
  {
   "cell_type": "code",
   "execution_count": 10,
   "metadata": {
    "hidden": true,
    "scrolled": true
   },
   "outputs": [
    {
     "name": "stdout",
     "output_type": "stream",
     "text": [
      "CNV - Std Error: 0.006\n",
      "CNV + Std Error: 0.034\n"
     ]
    }
   ],
   "source": [
    "lower_se = p_conversion - std_error\n",
    "upper_se = p_conversion + std_error\n",
    "print(\"CNV - Std Error: {}\\nCNV + Std Error: {}\".format(lower_se, upper_se))"
   ]
  },
  {
   "cell_type": "code",
   "execution_count": 11,
   "metadata": {
    "hidden": true
   },
   "outputs": [
    {
     "name": "stdout",
     "output_type": "stream",
     "text": [
      "[ True  True False False  True  True  True  True  True  True]\n"
     ]
    }
   ],
   "source": [
    "v100_t10_between_se = ((v100_t10_cnv >= lower_se) & (v100_t10_cnv <= upper_se))\n",
    "print(v100_t10_between_se)"
   ]
  },
  {
   "cell_type": "code",
   "execution_count": 12,
   "metadata": {
    "hidden": true
   },
   "outputs": [
    {
     "data": {
      "text/html": [
       "<div>\n",
       "<style>\n",
       "    .dataframe thead tr:only-child th {\n",
       "        text-align: right;\n",
       "    }\n",
       "\n",
       "    .dataframe thead th {\n",
       "        text-align: left;\n",
       "    }\n",
       "\n",
       "    .dataframe tbody tr th {\n",
       "        vertical-align: top;\n",
       "    }\n",
       "</style>\n",
       "<table border=\"1\" class=\"dataframe\">\n",
       "  <thead>\n",
       "    <tr style=\"text-align: right;\">\n",
       "      <th></th>\n",
       "      <th>Trial 1</th>\n",
       "      <th>Trial 2</th>\n",
       "      <th>Trial 3</th>\n",
       "      <th>Trial 4</th>\n",
       "      <th>Trial 5</th>\n",
       "      <th>Trial 6</th>\n",
       "      <th>Trial 7</th>\n",
       "      <th>Trial 8</th>\n",
       "      <th>Trial 9</th>\n",
       "      <th>Trial 10</th>\n",
       "    </tr>\n",
       "  </thead>\n",
       "  <tbody>\n",
       "    <tr>\n",
       "      <th>Number of Conversions</th>\n",
       "      <td>1.00</td>\n",
       "      <td>2.00</td>\n",
       "      <td>5.00</td>\n",
       "      <td>6.00</td>\n",
       "      <td>3.00</td>\n",
       "      <td>2.00</td>\n",
       "      <td>2.00</td>\n",
       "      <td>3.00</td>\n",
       "      <td>2.00</td>\n",
       "      <td>1.00</td>\n",
       "    </tr>\n",
       "    <tr>\n",
       "      <th>Conversion Rate</th>\n",
       "      <td>0.01</td>\n",
       "      <td>0.02</td>\n",
       "      <td>0.05</td>\n",
       "      <td>0.06</td>\n",
       "      <td>0.03</td>\n",
       "      <td>0.02</td>\n",
       "      <td>0.02</td>\n",
       "      <td>0.03</td>\n",
       "      <td>0.02</td>\n",
       "      <td>0.01</td>\n",
       "    </tr>\n",
       "    <tr>\n",
       "      <th>Within Standard Error</th>\n",
       "      <td>1.00</td>\n",
       "      <td>1.00</td>\n",
       "      <td>0.00</td>\n",
       "      <td>0.00</td>\n",
       "      <td>1.00</td>\n",
       "      <td>1.00</td>\n",
       "      <td>1.00</td>\n",
       "      <td>1.00</td>\n",
       "      <td>1.00</td>\n",
       "      <td>1.00</td>\n",
       "    </tr>\n",
       "  </tbody>\n",
       "</table>\n",
       "</div>"
      ],
      "text/plain": [
       "                       Trial 1  Trial 2  Trial 3  Trial 4  Trial 5  Trial 6  \\\n",
       "Number of Conversions     1.00     2.00     5.00     6.00     3.00     2.00   \n",
       "Conversion Rate           0.01     0.02     0.05     0.06     0.03     0.02   \n",
       "Within Standard Error     1.00     1.00     0.00     0.00     1.00     1.00   \n",
       "\n",
       "                       Trial 7  Trial 8  Trial 9  Trial 10  \n",
       "Number of Conversions     2.00     3.00     2.00      1.00  \n",
       "Conversion Rate           0.02     0.03     0.02      0.01  \n",
       "Within Standard Error     1.00     1.00     1.00      1.00  "
      ]
     },
     "execution_count": 12,
     "metadata": {},
     "output_type": "execute_result"
    }
   ],
   "source": [
    "df_trials = pd.DataFrame({\n",
    "    \"Number of Conversions\": v100_times_10,\n",
    "    \"Conversion Rate\": v100_t10_cnv,\n",
    "    \"Within Standard Error\": [1 if i == True else 0 for i in v100_t10_between_se]\n",
    "}, index=[\"Trial {}\".format(i + 1) for i in range(n_experiments)])[[\n",
    "    \"Number of Conversions\",\n",
    "    \"Conversion Rate\",\n",
    "    \"Within Standard Error\"\n",
    "]].T\n",
    "\n",
    "df_trials"
   ]
  },
  {
   "cell_type": "markdown",
   "metadata": {
    "hidden": true
   },
   "source": [
    "What % of trials ended up with a conversion rate within our standard error range?"
   ]
  },
  {
   "cell_type": "code",
   "execution_count": 13,
   "metadata": {
    "hidden": true,
    "scrolled": false
   },
   "outputs": [
    {
     "data": {
      "text/html": [
       "<div>\n",
       "<style>\n",
       "    .dataframe thead tr:only-child th {\n",
       "        text-align: right;\n",
       "    }\n",
       "\n",
       "    .dataframe thead th {\n",
       "        text-align: left;\n",
       "    }\n",
       "\n",
       "    .dataframe tbody tr th {\n",
       "        vertical-align: top;\n",
       "    }\n",
       "</style>\n",
       "<table border=\"1\" class=\"dataframe\">\n",
       "  <thead>\n",
       "    <tr style=\"text-align: right;\">\n",
       "      <th></th>\n",
       "      <th>Conversion Rate</th>\n",
       "      <th>Counts</th>\n",
       "    </tr>\n",
       "  </thead>\n",
       "  <tbody>\n",
       "    <tr>\n",
       "      <th>0</th>\n",
       "      <td>0.01</td>\n",
       "      <td>2</td>\n",
       "    </tr>\n",
       "    <tr>\n",
       "      <th>1</th>\n",
       "      <td>0.02</td>\n",
       "      <td>4</td>\n",
       "    </tr>\n",
       "    <tr>\n",
       "      <th>2</th>\n",
       "      <td>0.03</td>\n",
       "      <td>2</td>\n",
       "    </tr>\n",
       "    <tr>\n",
       "      <th>3</th>\n",
       "      <td>0.05</td>\n",
       "      <td>1</td>\n",
       "    </tr>\n",
       "    <tr>\n",
       "      <th>4</th>\n",
       "      <td>0.06</td>\n",
       "      <td>1</td>\n",
       "    </tr>\n",
       "  </tbody>\n",
       "</table>\n",
       "</div>"
      ],
      "text/plain": [
       "   Conversion Rate  Counts\n",
       "0             0.01       2\n",
       "1             0.02       4\n",
       "2             0.03       2\n",
       "3             0.05       1\n",
       "4             0.06       1"
      ]
     },
     "execution_count": 13,
     "metadata": {},
     "output_type": "execute_result"
    }
   ],
   "source": [
    "pd.DataFrame(\n",
    "    zip(*np.unique(v100_t10_cnv, return_counts=True)), \n",
    "    columns=[\"Conversion Rate\", \"Counts\"]\n",
    ")"
   ]
  },
  {
   "cell_type": "code",
   "execution_count": 14,
   "metadata": {
    "collapsed": true,
    "hidden": true
   },
   "outputs": [],
   "source": [
    "def percent_between(arr, lower, upper):\n",
    "    return np.sum((arr >= lower) * (arr <= upper)) / float(len(arr))"
   ]
  },
  {
   "cell_type": "code",
   "execution_count": 15,
   "metadata": {
    "hidden": true,
    "scrolled": true
   },
   "outputs": [
    {
     "data": {
      "text/plain": [
       "0.80000000000000004"
      ]
     },
     "execution_count": 15,
     "metadata": {},
     "output_type": "execute_result"
    }
   ],
   "source": [
    "percent_between(v100_t10_cnv, lower_se, upper_se)"
   ]
  },
  {
   "cell_type": "markdown",
   "metadata": {
    "heading_collapsed": true
   },
   "source": [
    "### Visualizing standard error"
   ]
  },
  {
   "cell_type": "markdown",
   "metadata": {
    "hidden": true
   },
   "source": [
    "Let's increase the number of our experiments so we can get a more robust picture."
   ]
  },
  {
   "cell_type": "code",
   "execution_count": 16,
   "metadata": {
    "collapsed": true,
    "hidden": true
   },
   "outputs": [],
   "source": [
    "v100_times_100 = stats.binom.rvs(n=n_visitors, p=p_conversion, size=100)\n",
    "v100_t100_cnv = v100_times_100 / float(n_visitors)"
   ]
  },
  {
   "cell_type": "code",
   "execution_count": 17,
   "metadata": {
    "hidden": true,
    "scrolled": true
   },
   "outputs": [
    {
     "data": {
      "text/html": [
       "<div>\n",
       "<style>\n",
       "    .dataframe thead tr:only-child th {\n",
       "        text-align: right;\n",
       "    }\n",
       "\n",
       "    .dataframe thead th {\n",
       "        text-align: left;\n",
       "    }\n",
       "\n",
       "    .dataframe tbody tr th {\n",
       "        vertical-align: top;\n",
       "    }\n",
       "</style>\n",
       "<table border=\"1\" class=\"dataframe\">\n",
       "  <thead>\n",
       "    <tr style=\"text-align: right;\">\n",
       "      <th></th>\n",
       "      <th>Conversion Rate</th>\n",
       "      <th>Counts</th>\n",
       "    </tr>\n",
       "  </thead>\n",
       "  <tbody>\n",
       "    <tr>\n",
       "      <th>0</th>\n",
       "      <td>0.00</td>\n",
       "      <td>16</td>\n",
       "    </tr>\n",
       "    <tr>\n",
       "      <th>1</th>\n",
       "      <td>0.01</td>\n",
       "      <td>26</td>\n",
       "    </tr>\n",
       "    <tr>\n",
       "      <th>2</th>\n",
       "      <td>0.02</td>\n",
       "      <td>22</td>\n",
       "    </tr>\n",
       "    <tr>\n",
       "      <th>3</th>\n",
       "      <td>0.03</td>\n",
       "      <td>20</td>\n",
       "    </tr>\n",
       "    <tr>\n",
       "      <th>4</th>\n",
       "      <td>0.04</td>\n",
       "      <td>11</td>\n",
       "    </tr>\n",
       "    <tr>\n",
       "      <th>5</th>\n",
       "      <td>0.05</td>\n",
       "      <td>4</td>\n",
       "    </tr>\n",
       "    <tr>\n",
       "      <th>6</th>\n",
       "      <td>0.07</td>\n",
       "      <td>1</td>\n",
       "    </tr>\n",
       "  </tbody>\n",
       "</table>\n",
       "</div>"
      ],
      "text/plain": [
       "   Conversion Rate  Counts\n",
       "0             0.00      16\n",
       "1             0.01      26\n",
       "2             0.02      22\n",
       "3             0.03      20\n",
       "4             0.04      11\n",
       "5             0.05       4\n",
       "6             0.07       1"
      ]
     },
     "execution_count": 17,
     "metadata": {},
     "output_type": "execute_result"
    }
   ],
   "source": [
    "pd.DataFrame(\n",
    "    zip(*np.unique(v100_t100_cnv, return_counts=True)),\n",
    "    columns=[\"Conversion Rate\", \"Counts\"]\n",
    ")"
   ]
  },
  {
   "cell_type": "code",
   "execution_count": 18,
   "metadata": {
    "hidden": true
   },
   "outputs": [
    {
     "data": {
      "text/plain": [
       "0.68000000000000005"
      ]
     },
     "execution_count": 18,
     "metadata": {},
     "output_type": "execute_result"
    }
   ],
   "source": [
    "percent_between(v100_t100_cnv, lower_se, upper_se)"
   ]
  },
  {
   "cell_type": "code",
   "execution_count": 61,
   "metadata": {
    "hidden": true,
    "scrolled": false
   },
   "outputs": [
    {
     "data": {
      "image/png": "[encoded data removed]",
      "text/plain": [
       "<matplotlib.figure.Figure at 0x11e6a2490>"
      ]
     },
     "metadata": {},
     "output_type": "display_data"
    }
   ],
   "source": [
    "fig, axarr = plt.subplots(figsize=(8, 6))\n",
    "\n",
    "_ = sns.distplot(\n",
    "    v100_t100_cnv, \n",
    "    bins=len(np.unique(v100_t100_cnv))\n",
    ")\n",
    "\n",
    "plt_height = plt.ylim()[1]\n",
    "_ = plt.fill_between(\n",
    "    x=np.arange(lower_se, upper_se, 0.001),\n",
    "    y1=plt_height,\n",
    "    facecolor=\"red\",\n",
    "    alpha=0.35\n",
    ")\n",
    "\n",
    "# _ = plt.annotate(\"CNV less std error: {}\".format(lower_se), xy=(lower_se + 0.002, 7))\n",
    "# _ = plt.annotate(\"CNV plus std error: {}\".format(upper_se), xy=(upper_se + 0.002, 22))"
   ]
  },
  {
   "cell_type": "markdown",
   "metadata": {
    "heading_collapsed": true
   },
   "source": [
    "### Confidence intervals"
   ]
  },
  {
   "cell_type": "markdown",
   "metadata": {
    "hidden": true
   },
   "source": [
    "The red shaded area represents the space (between our standard error ranges) in which 68% of our observations can be found. 0.006 and 0.034 represent the lower and upper bounds, respectively, of a 68% confidence interval for our data.\n",
    "\n",
    "What if we want to show the area representing 80% of expected values? What would the lower and upper bounds be for an 80% confidence interval?"
   ]
  },
  {
   "cell_type": "code",
   "execution_count": 69,
   "metadata": {
    "collapsed": true,
    "hidden": true
   },
   "outputs": [],
   "source": [
    "s_stdev = np.std(v100_t100_cnv)\n",
    "s_mean = np.mean(v100_t100_cnv)\n",
    "s_df = n_visitors - 1"
   ]
  },
  {
   "cell_type": "code",
   "execution_count": 70,
   "metadata": {
    "hidden": true
   },
   "outputs": [
    {
     "name": "stdout",
     "output_type": "stream",
     "text": [
      "80% Confidence Lower Interval: 0.019\n",
      "80% Confidence Upper Interval: 0.021\n"
     ]
    }
   ],
   "source": [
    "t_critical = stats.t.ppf(q=0.8, df=s_df)\n",
    "margin_err = t_critical * s_stdev / math.sqrt(n_visitors)\n",
    "c_interval = (s_mean - margin_err, s_mean + margin_err)\n",
    "print(\"80% Confidence Lower Interval: {}\\n80% Confidence Upper Interval: {}\".format(\n",
    "    round(c_interval[0], 3), round(c_interval[1], 3)\n",
    "))"
   ]
  },
  {
   "cell_type": "code",
   "execution_count": 71,
   "metadata": {
    "hidden": true,
    "scrolled": false
   },
   "outputs": [
    {
     "name": "stdout",
     "output_type": "stream",
     "text": [
      "80% Confidence Lower Interval: 0.001\n",
      "80% Confidence Upper Interval: 0.039\n"
     ]
    }
   ],
   "source": [
    "lower_ci = stats.t.ppf(0.1, df=s_df, loc=s_mean, scale=s_stdev)\n",
    "upper_ci = stats.t.ppf(0.9, df=s_df, loc=s_mean, scale=s_stdev)\n",
    "print(\"80% Confidence Lower Interval: {}\\n80% Confidence Upper Interval: {}\".format(\n",
    "    round(lower_ci, 3), round(upper_ci, 3)\n",
    "))"
   ]
  },
  {
   "cell_type": "code",
   "execution_count": 72,
   "metadata": {
    "hidden": true
   },
   "outputs": [
    {
     "name": "stdout",
     "output_type": "stream",
     "text": [
      "80% Confidence Lower Interval: 0.001\n",
      "80% Confidence Upper Interval: 0.039\n"
     ]
    }
   ],
   "source": [
    "lower_ci, upper_ci = stats.t.interval(alpha=0.8, df=s_df, loc=s_mean, scale=s_stdev)\n",
    "print(\"80% Confidence Lower Interval: {}\\n80% Confidence Upper Interval: {}\".format(\n",
    "    round(lower_ci, 3), round(upper_ci, 3)\n",
    "))"
   ]
  },
  {
   "cell_type": "code",
   "execution_count": 73,
   "metadata": {
    "hidden": true
   },
   "outputs": [
    {
     "data": {
      "text/plain": [
       "0.68000000000000005"
      ]
     },
     "execution_count": 73,
     "metadata": {},
     "output_type": "execute_result"
    }
   ],
   "source": [
    "percent_between(v100_t100_cnv, lower_ci, upper_ci)"
   ]
  },
  {
   "cell_type": "markdown",
   "metadata": {
    "hidden": true
   },
   "source": [
    "If we look at our plots side by side we can see that the range has indeed increased."
   ]
  },
  {
   "cell_type": "code",
   "execution_count": 23,
   "metadata": {
    "hidden": true
   },
   "outputs": [
    {
     "data": {
      "image/png": "[encoded data removed]",
      "text/plain": [
       "<matplotlib.figure.Figure at 0x11da74410>"
      ]
     },
     "metadata": {},
     "output_type": "display_data"
    }
   ],
   "source": [
    "fig, axarr = plt.subplots(1, 2, figsize=(16, 6))\n",
    "\n",
    "ax1 = axarr[0]\n",
    "_ = sns.distplot(v100_t100_cnv, bins=len(np.unique(v100_t100_cnv)), ax=ax1)\n",
    "_ = ax1.fill_between(\n",
    "    x=np.arange(lower_se, upper_se, 0.001),\n",
    "    y1=plt_height,\n",
    "    facecolor=\"red\",\n",
    "    alpha=0.35\n",
    ")\n",
    "\n",
    "ax2 = axarr[1]\n",
    "_ = sns.distplot(v100_t100_cnv, bins=len(np.unique(v100_t100_cnv)), ax=ax2)\n",
    "_ = ax2.fill_between(\n",
    "    x=np.arange(lower_ci, upper_ci, 0.001),\n",
    "    y1=plt_height,\n",
    "    facecolor=\"red\",\n",
    "    alpha=0.35\n",
    ")"
   ]
  },
  {
   "cell_type": "markdown",
   "metadata": {},
   "source": [
    "### Simple A/A testing"
   ]
  },
  {
   "cell_type": "code",
   "execution_count": null,
   "metadata": {
    "collapsed": true
   },
   "outputs": [],
   "source": []
  },
  {
   "cell_type": "code",
   "execution_count": null,
   "metadata": {
    "collapsed": true
   },
   "outputs": [],
   "source": []
  },
  {
   "cell_type": "code",
   "execution_count": null,
   "metadata": {
    "collapsed": true
   },
   "outputs": [],
   "source": []
  },
  {
   "cell_type": "code",
   "execution_count": null,
   "metadata": {
    "collapsed": true
   },
   "outputs": [],
   "source": []
  },
  {
   "cell_type": "code",
   "execution_count": null,
   "metadata": {
    "collapsed": true
   },
   "outputs": [],
   "source": []
  },
  {
   "cell_type": "code",
   "execution_count": null,
   "metadata": {
    "collapsed": true
   },
   "outputs": [],
   "source": []
  },
  {
   "cell_type": "markdown",
   "metadata": {},
   "source": [
    "### The Problem\n",
    "\n",
    "You have 100 marketers running A/A tests, stopping as soon as they get to p < 0.05 or the test is shown to 10,000 visitors. \n",
    "\n",
    "How many of them will stop early? 5? 10? 20? 30?"
   ]
  },
  {
   "cell_type": "code",
   "execution_count": null,
   "metadata": {
    "collapsed": true
   },
   "outputs": [],
   "source": []
  },
  {
   "cell_type": "code",
   "execution_count": null,
   "metadata": {
    "collapsed": true
   },
   "outputs": [],
   "source": []
  },
  {
   "cell_type": "code",
   "execution_count": null,
   "metadata": {
    "collapsed": true
   },
   "outputs": [],
   "source": []
  },
  {
   "cell_type": "code",
   "execution_count": null,
   "metadata": {
    "collapsed": true
   },
   "outputs": [],
   "source": []
  },
  {
   "cell_type": "code",
   "execution_count": null,
   "metadata": {
    "collapsed": true
   },
   "outputs": [],
   "source": []
  },
  {
   "cell_type": "code",
   "execution_count": 92,
   "metadata": {},
   "outputs": [
    {
     "name": "stdout",
     "output_type": "stream",
     "text": [
      "Type I Error: 0.0467\n",
      "CPU times: user 14.9 s, sys: 162 ms, total: 15.1 s\n",
      "Wall time: 15.2 s\n"
     ]
    }
   ],
   "source": [
    "%%time \n",
    "\n",
    "n = 1000\n",
    "stopped = 0\n",
    "stop_point = 1.96 * math.sqrt(n)\n",
    "\n",
    "for i in range(10000):\n",
    "    d = 0\n",
    "    for j in range(n):\n",
    "        d += random.choice([-1, 1])\n",
    "        if d > stop_point:\n",
    "            stopped += 1\n",
    "            break\n",
    "            \n",
    "print(\"Type I Error: {}\".format(stopped / 10000.0))"
   ]
  },
  {
   "cell_type": "code",
   "execution_count": null,
   "metadata": {
    "collapsed": true
   },
   "outputs": [],
   "source": []
  },
  {
   "cell_type": "code",
   "execution_count": null,
   "metadata": {
    "collapsed": true
   },
   "outputs": [],
   "source": []
  },
  {
   "cell_type": "code",
   "execution_count": null,
   "metadata": {
    "collapsed": true
   },
   "outputs": [],
   "source": []
  },
  {
   "cell_type": "code",
   "execution_count": null,
   "metadata": {
    "collapsed": true
   },
   "outputs": [],
   "source": []
  },
  {
   "cell_type": "code",
   "execution_count": null,
   "metadata": {
    "collapsed": true
   },
   "outputs": [],
   "source": []
  }
 ],
 "metadata": {
  "kernelspec": {
   "display_name": "Python 2",
   "language": "python",
   "name": "python2"
  },
  "language_info": {
   "codemirror_mode": {
    "name": "ipython",
    "version": 2
   },
   "file_extension": ".py",
   "mimetype": "text/x-python",
   "name": "python",
   "nbconvert_exporter": "python",
   "pygments_lexer": "ipython2",
   "version": "2.7.14"
  }
 },
 "nbformat": 4,
 "nbformat_minor": 2
}
