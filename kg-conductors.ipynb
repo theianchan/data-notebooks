{
 "cells": [
  {
   "cell_type": "code",
   "execution_count": 1,
   "metadata": {},
   "outputs": [],
   "source": [
    "%load_ext autoreload\n",
    "%autoreload 2\n",
    "\n",
    "%matplotlib inline"
   ]
  },
  {
   "cell_type": "code",
   "execution_count": 2,
   "metadata": {},
   "outputs": [],
   "source": [
    "from fastai.imports import *\n",
    "from fastai.structured import *\n",
    "\n",
    "from pandas_summary import DataFrameSummary\n",
    "from sklearn.ensemble import RandomForestRegressor, RandomForestClassifier\n",
    "from IPython.display import display\n",
    "\n",
    "from sklearn import metrics"
   ]
  },
  {
   "cell_type": "code",
   "execution_count": 3,
   "metadata": {},
   "outputs": [],
   "source": [
    "df_smp = pd.read_csv(\"data/conductors-sample-subm.csv.zip\", low_memory=False)"
   ]
  },
  {
   "cell_type": "code",
   "execution_count": 4,
   "metadata": {},
   "outputs": [
    {
     "data": {
      "text/html": [
       "<div>\n",
       "<style scoped>\n",
       "    .dataframe tbody tr th:only-of-type {\n",
       "        vertical-align: middle;\n",
       "    }\n",
       "\n",
       "    .dataframe tbody tr th {\n",
       "        vertical-align: top;\n",
       "    }\n",
       "\n",
       "    .dataframe thead th {\n",
       "        text-align: right;\n",
       "    }\n",
       "</style>\n",
       "<table border=\"1\" class=\"dataframe\">\n",
       "  <thead>\n",
       "    <tr style=\"text-align: right;\">\n",
       "      <th></th>\n",
       "      <th>id</th>\n",
       "      <th>formation_energy_ev_natom</th>\n",
       "      <th>bandgap_energy_ev</th>\n",
       "    </tr>\n",
       "  </thead>\n",
       "  <tbody>\n",
       "    <tr>\n",
       "      <th>0</th>\n",
       "      <td>1</td>\n",
       "      <td>0.1779</td>\n",
       "      <td>1.8892</td>\n",
       "    </tr>\n",
       "    <tr>\n",
       "      <th>1</th>\n",
       "      <td>2</td>\n",
       "      <td>0.1779</td>\n",
       "      <td>1.8892</td>\n",
       "    </tr>\n",
       "    <tr>\n",
       "      <th>2</th>\n",
       "      <td>3</td>\n",
       "      <td>0.1779</td>\n",
       "      <td>1.8892</td>\n",
       "    </tr>\n",
       "  </tbody>\n",
       "</table>\n",
       "</div>"
      ],
      "text/plain": [
       "   id  formation_energy_ev_natom  bandgap_energy_ev\n",
       "0   1                     0.1779             1.8892\n",
       "1   2                     0.1779             1.8892\n",
       "2   3                     0.1779             1.8892"
      ]
     },
     "execution_count": 4,
     "metadata": {},
     "output_type": "execute_result"
    }
   ],
   "source": [
    "df_smp.head(3)"
   ]
  },
  {
   "cell_type": "code",
   "execution_count": 5,
   "metadata": {},
   "outputs": [],
   "source": [
    "df_trn_raw = pd.read_csv(\"data/conductors-train.csv.zip\", low_memory=False)"
   ]
  },
  {
   "cell_type": "code",
   "execution_count": 6,
   "metadata": {},
   "outputs": [
    {
     "data": {
      "text/html": [
       "<div>\n",
       "<style scoped>\n",
       "    .dataframe tbody tr th:only-of-type {\n",
       "        vertical-align: middle;\n",
       "    }\n",
       "\n",
       "    .dataframe tbody tr th {\n",
       "        vertical-align: top;\n",
       "    }\n",
       "\n",
       "    .dataframe thead th {\n",
       "        text-align: right;\n",
       "    }\n",
       "</style>\n",
       "<table border=\"1\" class=\"dataframe\">\n",
       "  <thead>\n",
       "    <tr style=\"text-align: right;\">\n",
       "      <th></th>\n",
       "      <th>0</th>\n",
       "      <th>1</th>\n",
       "      <th>2</th>\n",
       "    </tr>\n",
       "  </thead>\n",
       "  <tbody>\n",
       "    <tr>\n",
       "      <th>id</th>\n",
       "      <td>1.0000</td>\n",
       "      <td>2.0000</td>\n",
       "      <td>3.0000</td>\n",
       "    </tr>\n",
       "    <tr>\n",
       "      <th>spacegroup</th>\n",
       "      <td>33.0000</td>\n",
       "      <td>194.0000</td>\n",
       "      <td>227.0000</td>\n",
       "    </tr>\n",
       "    <tr>\n",
       "      <th>number_of_total_atoms</th>\n",
       "      <td>80.0000</td>\n",
       "      <td>80.0000</td>\n",
       "      <td>40.0000</td>\n",
       "    </tr>\n",
       "    <tr>\n",
       "      <th>percent_atom_al</th>\n",
       "      <td>0.6250</td>\n",
       "      <td>0.6250</td>\n",
       "      <td>0.8125</td>\n",
       "    </tr>\n",
       "    <tr>\n",
       "      <th>percent_atom_ga</th>\n",
       "      <td>0.3750</td>\n",
       "      <td>0.3750</td>\n",
       "      <td>0.1875</td>\n",
       "    </tr>\n",
       "    <tr>\n",
       "      <th>percent_atom_in</th>\n",
       "      <td>0.0000</td>\n",
       "      <td>0.0000</td>\n",
       "      <td>0.0000</td>\n",
       "    </tr>\n",
       "    <tr>\n",
       "      <th>lattice_vector_1_ang</th>\n",
       "      <td>9.9523</td>\n",
       "      <td>6.1840</td>\n",
       "      <td>9.7510</td>\n",
       "    </tr>\n",
       "    <tr>\n",
       "      <th>lattice_vector_2_ang</th>\n",
       "      <td>8.5513</td>\n",
       "      <td>6.1838</td>\n",
       "      <td>5.6595</td>\n",
       "    </tr>\n",
       "    <tr>\n",
       "      <th>lattice_vector_3_ang</th>\n",
       "      <td>9.1775</td>\n",
       "      <td>23.6287</td>\n",
       "      <td>13.9630</td>\n",
       "    </tr>\n",
       "    <tr>\n",
       "      <th>lattice_angle_alpha_degree</th>\n",
       "      <td>90.0026</td>\n",
       "      <td>90.0186</td>\n",
       "      <td>90.9688</td>\n",
       "    </tr>\n",
       "    <tr>\n",
       "      <th>lattice_angle_beta_degree</th>\n",
       "      <td>90.0023</td>\n",
       "      <td>89.9980</td>\n",
       "      <td>91.1228</td>\n",
       "    </tr>\n",
       "    <tr>\n",
       "      <th>lattice_angle_gamma_degree</th>\n",
       "      <td>90.0017</td>\n",
       "      <td>120.0025</td>\n",
       "      <td>30.5185</td>\n",
       "    </tr>\n",
       "    <tr>\n",
       "      <th>formation_energy_ev_natom</th>\n",
       "      <td>0.0680</td>\n",
       "      <td>0.2490</td>\n",
       "      <td>0.1821</td>\n",
       "    </tr>\n",
       "    <tr>\n",
       "      <th>bandgap_energy_ev</th>\n",
       "      <td>3.4387</td>\n",
       "      <td>2.9210</td>\n",
       "      <td>2.7438</td>\n",
       "    </tr>\n",
       "  </tbody>\n",
       "</table>\n",
       "</div>"
      ],
      "text/plain": [
       "                                  0         1         2\n",
       "id                           1.0000    2.0000    3.0000\n",
       "spacegroup                  33.0000  194.0000  227.0000\n",
       "number_of_total_atoms       80.0000   80.0000   40.0000\n",
       "percent_atom_al              0.6250    0.6250    0.8125\n",
       "percent_atom_ga              0.3750    0.3750    0.1875\n",
       "percent_atom_in              0.0000    0.0000    0.0000\n",
       "lattice_vector_1_ang         9.9523    6.1840    9.7510\n",
       "lattice_vector_2_ang         8.5513    6.1838    5.6595\n",
       "lattice_vector_3_ang         9.1775   23.6287   13.9630\n",
       "lattice_angle_alpha_degree  90.0026   90.0186   90.9688\n",
       "lattice_angle_beta_degree   90.0023   89.9980   91.1228\n",
       "lattice_angle_gamma_degree  90.0017  120.0025   30.5185\n",
       "formation_energy_ev_natom    0.0680    0.2490    0.1821\n",
       "bandgap_energy_ev            3.4387    2.9210    2.7438"
      ]
     },
     "execution_count": 6,
     "metadata": {},
     "output_type": "execute_result"
    }
   ],
   "source": [
    "df_trn_raw.head(3).T"
   ]
  },
  {
   "cell_type": "code",
   "execution_count": 7,
   "metadata": {},
   "outputs": [
    {
     "data": {
      "text/plain": [
       "<matplotlib.axes._subplots.AxesSubplot at 0x7f15694760f0>"
      ]
     },
     "execution_count": 7,
     "metadata": {},
     "output_type": "execute_result"
    },
    {
     "data": {
      "image/png": "[encoded data removed]",
      "text/plain": [
       "<matplotlib.figure.Figure at 0x7f15694b0ac8>"
      ]
     },
     "metadata": {},
     "output_type": "display_data"
    }
   ],
   "source": [
    "df_trn_raw.drop(\"id\", axis=1).plot(kind=\"box\", figsize=(8, 6))"
   ]
  },
  {
   "cell_type": "code",
   "execution_count": 8,
   "metadata": {},
   "outputs": [],
   "source": [
    "del df_trn_raw[\"id\"]"
   ]
  },
  {
   "cell_type": "code",
   "execution_count": 9,
   "metadata": {},
   "outputs": [],
   "source": [
    "y1 = df_trn_raw[\"formation_energy_ev_natom\"]\n",
    "y2 = df_trn_raw[\"bandgap_energy_ev\"]\n",
    "\n",
    "del df_trn_raw[\"formation_energy_ev_natom\"]\n",
    "del df_trn_raw[\"bandgap_energy_ev\"]"
   ]
  },
  {
   "cell_type": "code",
   "execution_count": 10,
   "metadata": {},
   "outputs": [
    {
     "data": {
      "text/plain": [
       "<matplotlib.axes._subplots.AxesSubplot at 0x7f15669fe240>"
      ]
     },
     "execution_count": 10,
     "metadata": {},
     "output_type": "execute_result"
    },
    {
     "data": {
      "image/png": "[encoded data removed]",
      "text/plain": [
       "<matplotlib.figure.Figure at 0x7f1566a6fc50>"
      ]
     },
     "metadata": {},
     "output_type": "display_data"
    }
   ],
   "source": [
    "df_trn_norm = (df_trn_raw - np.mean(df_trn_raw)) / np.std(df_trn_raw)\n",
    "df_trn_norm.plot(kind=\"box\", figsize=(8, 6))"
   ]
  },
  {
   "cell_type": "code",
   "execution_count": 11,
   "metadata": {},
   "outputs": [
    {
     "data": {
      "text/html": [
       "<div>\n",
       "<style scoped>\n",
       "    .dataframe tbody tr th:only-of-type {\n",
       "        vertical-align: middle;\n",
       "    }\n",
       "\n",
       "    .dataframe tbody tr th {\n",
       "        vertical-align: top;\n",
       "    }\n",
       "\n",
       "    .dataframe thead th {\n",
       "        text-align: right;\n",
       "    }\n",
       "</style>\n",
       "<table border=\"1\" class=\"dataframe\">\n",
       "  <thead>\n",
       "    <tr style=\"text-align: right;\">\n",
       "      <th></th>\n",
       "      <th>0</th>\n",
       "      <th>1</th>\n",
       "      <th>2</th>\n",
       "    </tr>\n",
       "  </thead>\n",
       "  <tbody>\n",
       "    <tr>\n",
       "      <th>spacegroup</th>\n",
       "      <td>-1.281235</td>\n",
       "      <td>0.619639</td>\n",
       "      <td>1.009259</td>\n",
       "    </tr>\n",
       "    <tr>\n",
       "      <th>number_of_total_atoms</th>\n",
       "      <td>0.810885</td>\n",
       "      <td>0.810885</td>\n",
       "      <td>-0.959526</td>\n",
       "    </tr>\n",
       "    <tr>\n",
       "      <th>percent_atom_al</th>\n",
       "      <td>0.902265</td>\n",
       "      <td>0.902265</td>\n",
       "      <td>1.608450</td>\n",
       "    </tr>\n",
       "    <tr>\n",
       "      <th>percent_atom_ga</th>\n",
       "      <td>0.284159</td>\n",
       "      <td>0.284159</td>\n",
       "      <td>-0.518259</td>\n",
       "    </tr>\n",
       "    <tr>\n",
       "      <th>percent_atom_in</th>\n",
       "      <td>-1.162707</td>\n",
       "      <td>-1.162707</td>\n",
       "      <td>-1.162707</td>\n",
       "    </tr>\n",
       "    <tr>\n",
       "      <th>lattice_vector_1_ang</th>\n",
       "      <td>-0.013767</td>\n",
       "      <td>-0.681399</td>\n",
       "      <td>-0.049431</td>\n",
       "    </tr>\n",
       "    <tr>\n",
       "      <th>lattice_vector_2_ang</th>\n",
       "      <td>0.774800</td>\n",
       "      <td>-0.477888</td>\n",
       "      <td>-0.755305</td>\n",
       "    </tr>\n",
       "    <tr>\n",
       "      <th>lattice_vector_3_ang</th>\n",
       "      <td>-0.626795</td>\n",
       "      <td>2.024991</td>\n",
       "      <td>0.251341</td>\n",
       "    </tr>\n",
       "    <tr>\n",
       "      <th>lattice_angle_alpha_degree</th>\n",
       "      <td>-0.180793</td>\n",
       "      <td>-0.168794</td>\n",
       "      <td>0.543833</td>\n",
       "    </tr>\n",
       "    <tr>\n",
       "      <th>lattice_angle_beta_degree</th>\n",
       "      <td>-0.452319</td>\n",
       "      <td>-0.453130</td>\n",
       "      <td>-0.240849</td>\n",
       "    </tr>\n",
       "    <tr>\n",
       "      <th>lattice_angle_gamma_degree</th>\n",
       "      <td>-0.185047</td>\n",
       "      <td>0.974936</td>\n",
       "      <td>-2.484970</td>\n",
       "    </tr>\n",
       "  </tbody>\n",
       "</table>\n",
       "</div>"
      ],
      "text/plain": [
       "                                   0         1         2\n",
       "spacegroup                 -1.281235  0.619639  1.009259\n",
       "number_of_total_atoms       0.810885  0.810885 -0.959526\n",
       "percent_atom_al             0.902265  0.902265  1.608450\n",
       "percent_atom_ga             0.284159  0.284159 -0.518259\n",
       "percent_atom_in            -1.162707 -1.162707 -1.162707\n",
       "lattice_vector_1_ang       -0.013767 -0.681399 -0.049431\n",
       "lattice_vector_2_ang        0.774800 -0.477888 -0.755305\n",
       "lattice_vector_3_ang       -0.626795  2.024991  0.251341\n",
       "lattice_angle_alpha_degree -0.180793 -0.168794  0.543833\n",
       "lattice_angle_beta_degree  -0.452319 -0.453130 -0.240849\n",
       "lattice_angle_gamma_degree -0.185047  0.974936 -2.484970"
      ]
     },
     "execution_count": 11,
     "metadata": {},
     "output_type": "execute_result"
    }
   ],
   "source": [
    "df_trn_norm.head(3).T"
   ]
  },
  {
   "cell_type": "code",
   "execution_count": 14,
   "metadata": {},
   "outputs": [
    {
     "data": {
      "text/plain": [
       "0.9320666542226342"
      ]
     },
     "execution_count": 14,
     "metadata": {},
     "output_type": "execute_result"
    }
   ],
   "source": [
    "m1 = RandomForestRegressor(n_jobs=-1)\n",
    "m1.fit(df_trn_norm, y1)\n",
    "m1.score(df_trn_norm, y1)"
   ]
  },
  {
   "cell_type": "code",
   "execution_count": 15,
   "metadata": {},
   "outputs": [
    {
     "data": {
      "text/plain": [
       "0.9818936356378486"
      ]
     },
     "execution_count": 15,
     "metadata": {},
     "output_type": "execute_result"
    }
   ],
   "source": [
    "m2 = RandomForestRegressor(n_jobs=-1)\n",
    "m2.fit(df_trn_norm, y2)\n",
    "m2.score(df_trn_norm, y2)"
   ]
  },
  {
   "cell_type": "code",
   "execution_count": 21,
   "metadata": {},
   "outputs": [],
   "source": [
    "df_test_raw = pd.read_csv(\"data/conductors-test.csv.zip\", low_memory=False)"
   ]
  },
  {
   "cell_type": "code",
   "execution_count": 22,
   "metadata": {},
   "outputs": [
    {
     "data": {
      "text/plain": [
       "id                            0.0\n",
       "spacegroup                    0.0\n",
       "number_of_total_atoms         0.0\n",
       "percent_atom_al               0.0\n",
       "percent_atom_ga               0.0\n",
       "percent_atom_in               0.0\n",
       "lattice_vector_1_ang          0.0\n",
       "lattice_vector_2_ang          0.0\n",
       "lattice_vector_3_ang          0.0\n",
       "lattice_angle_alpha_degree    0.0\n",
       "lattice_angle_beta_degree     0.0\n",
       "lattice_angle_gamma_degree    0.0\n",
       "dtype: float64"
      ]
     },
     "execution_count": 22,
     "metadata": {},
     "output_type": "execute_result"
    }
   ],
   "source": [
    "df_test_raw.isnull().sum() / len(df_test_raw)"
   ]
  },
  {
   "cell_type": "code",
   "execution_count": 23,
   "metadata": {},
   "outputs": [],
   "source": [
    "df_test_norm = (df_test_raw - np.mean(df_test_raw)) / np.std(df_test_raw)"
   ]
  },
  {
   "cell_type": "code",
   "execution_count": 24,
   "metadata": {},
   "outputs": [],
   "source": [
    "del df_test_norm[\"id\"]"
   ]
  },
  {
   "cell_type": "code",
   "execution_count": 25,
   "metadata": {},
   "outputs": [],
   "source": [
    "y1_pred = m1.predict(df_test_norm)\n",
    "y2_pred = m2.predict(df_test_norm)"
   ]
  },
  {
   "cell_type": "code",
   "execution_count": 26,
   "metadata": {},
   "outputs": [],
   "source": [
    "subm = pd.DataFrame({\n",
    "    \"id\": df_test_raw[\"id\"],\n",
    "    \"formation_energy_ev_natom\": y1_pred,\n",
    "    \"bandgap_energy_ev\": y2_pred\n",
    "})"
   ]
  },
  {
   "cell_type": "code",
   "execution_count": 29,
   "metadata": {},
   "outputs": [],
   "source": [
    "subm.to_csv(\"data/conductors-rf-subm.csv\", index=False)"
   ]
  },
  {
   "cell_type": "code",
   "execution_count": 30,
   "metadata": {},
   "outputs": [],
   "source": [
    "from IPython.display import FileLinks"
   ]
  },
  {
   "cell_type": "code",
   "execution_count": 31,
   "metadata": {},
   "outputs": [
    {
     "data": {
      "text/html": [
       "data/<br>\n",
       "&nbsp;&nbsp;<a href='data/sample_submission.csv' target='_blank'>sample_submission.csv</a><br>\n",
       "&nbsp;&nbsp;<a href='data/titanic-sample-subm.csv' target='_blank'>titanic-sample-subm.csv</a><br>\n",
       "&nbsp;&nbsp;<a href='data/house-rf-subm.csv' target='_blank'>house-rf-subm.csv</a><br>\n",
       "&nbsp;&nbsp;<a href='data/conductors-train.csv.zip' target='_blank'>conductors-train.csv.zip</a><br>\n",
       "&nbsp;&nbsp;<a href='data/titanic-test.csv' target='_blank'>titanic-test.csv</a><br>\n",
       "&nbsp;&nbsp;<a href='data/titanic-train.csv' target='_blank'>titanic-train.csv</a><br>\n",
       "&nbsp;&nbsp;<a href='data/conductors-sample-subm.csv.zip' target='_blank'>conductors-sample-subm.csv.zip</a><br>\n",
       "&nbsp;&nbsp;<a href='data/titanic-rf-submission.csv' target='_blank'>titanic-rf-submission.csv</a><br>\n",
       "&nbsp;&nbsp;<a href='data/conductors-test.csv.zip' target='_blank'>conductors-test.csv.zip</a><br>\n",
       "&nbsp;&nbsp;<a href='data/train.csv' target='_blank'>train.csv</a><br>\n",
       "&nbsp;&nbsp;<a href='data/house-test.csv' target='_blank'>house-test.csv</a><br>\n",
       "&nbsp;&nbsp;<a href='data/house-train.csv' target='_blank'>house-train.csv</a><br>\n",
       "&nbsp;&nbsp;<a href='data/test.csv' target='_blank'>test.csv</a><br>\n",
       "&nbsp;&nbsp;<a href='data/conductors-rf-subm.csv' target='_blank'>conductors-rf-subm.csv</a><br>\n",
       "&nbsp;&nbsp;<a href='data/house-sample-subm.csv' target='_blank'>house-sample-subm.csv</a><br>"
      ],
      "text/plain": [
       "data/\n",
       "  sample_submission.csv\n",
       "  titanic-sample-subm.csv\n",
       "  house-rf-subm.csv\n",
       "  conductors-train.csv.zip\n",
       "  titanic-test.csv\n",
       "  titanic-train.csv\n",
       "  conductors-sample-subm.csv.zip\n",
       "  titanic-rf-submission.csv\n",
       "  conductors-test.csv.zip\n",
       "  train.csv\n",
       "  house-test.csv\n",
       "  house-train.csv\n",
       "  test.csv\n",
       "  conductors-rf-subm.csv\n",
       "  house-sample-subm.csv"
      ]
     },
     "execution_count": 31,
     "metadata": {},
     "output_type": "execute_result"
    }
   ],
   "source": [
    "FileLinks(\"data/\")"
   ]
  }
 ],
 "metadata": {
  "kernelspec": {
   "display_name": "Python 3",
   "language": "python",
   "name": "python3"
  },
  "language_info": {
   "codemirror_mode": {
    "name": "ipython",
    "version": 3
   },
   "file_extension": ".py",
   "mimetype": "text/x-python",
   "name": "python",
   "nbconvert_exporter": "python",
   "pygments_lexer": "ipython3",
   "version": "3.6.4"
  }
 },
 "nbformat": 4,
 "nbformat_minor": 2
}
