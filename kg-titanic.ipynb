{
 "cells": [
  {
   "cell_type": "code",
   "execution_count": 1,
   "metadata": {},
   "outputs": [],
   "source": [
    "%load_ext autoreload\n",
    "%autoreload 2\n",
    "\n",
    "%matplotlib inline"
   ]
  },
  {
   "cell_type": "code",
   "execution_count": 2,
   "metadata": {},
   "outputs": [],
   "source": [
    "from fastai.imports import *\n",
    "from fastai.structured import *\n",
    "\n",
    "from pandas_summary import DataFrameSummary\n",
    "from sklearn.ensemble import RandomForestRegressor, RandomForestClassifier\n",
    "from IPython.display import FileLinks\n",
    "\n",
    "from sklearn import metrics"
   ]
  },
  {
   "cell_type": "markdown",
   "metadata": {},
   "source": [
    "1. add_datepart (not relevant)\n",
    "2. train_cats\n",
    "3. proc_df"
   ]
  },
  {
   "cell_type": "markdown",
   "metadata": {},
   "source": [
    "### Import and explore"
   ]
  },
  {
   "cell_type": "code",
   "execution_count": 67,
   "metadata": {},
   "outputs": [],
   "source": [
    "df_trn_raw = pd.read_csv(\"data/titanic-train.csv\", low_memory=False)"
   ]
  },
  {
   "cell_type": "code",
   "execution_count": 68,
   "metadata": {},
   "outputs": [
    {
     "data": {
      "text/html": [
       "<div>\n",
       "<style scoped>\n",
       "    .dataframe tbody tr th:only-of-type {\n",
       "        vertical-align: middle;\n",
       "    }\n",
       "\n",
       "    .dataframe tbody tr th {\n",
       "        vertical-align: top;\n",
       "    }\n",
       "\n",
       "    .dataframe thead th {\n",
       "        text-align: right;\n",
       "    }\n",
       "</style>\n",
       "<table border=\"1\" class=\"dataframe\">\n",
       "  <thead>\n",
       "    <tr style=\"text-align: right;\">\n",
       "      <th></th>\n",
       "      <th>PassengerId</th>\n",
       "      <th>Survived</th>\n",
       "      <th>Pclass</th>\n",
       "      <th>Name</th>\n",
       "      <th>Sex</th>\n",
       "      <th>Age</th>\n",
       "      <th>SibSp</th>\n",
       "      <th>Parch</th>\n",
       "      <th>Ticket</th>\n",
       "      <th>Fare</th>\n",
       "      <th>Cabin</th>\n",
       "      <th>Embarked</th>\n",
       "    </tr>\n",
       "  </thead>\n",
       "  <tbody>\n",
       "    <tr>\n",
       "      <th>0</th>\n",
       "      <td>1</td>\n",
       "      <td>0</td>\n",
       "      <td>3</td>\n",
       "      <td>Braund, Mr. Owen Harris</td>\n",
       "      <td>male</td>\n",
       "      <td>22.0</td>\n",
       "      <td>1</td>\n",
       "      <td>0</td>\n",
       "      <td>A/5 21171</td>\n",
       "      <td>7.2500</td>\n",
       "      <td>NaN</td>\n",
       "      <td>S</td>\n",
       "    </tr>\n",
       "    <tr>\n",
       "      <th>1</th>\n",
       "      <td>2</td>\n",
       "      <td>1</td>\n",
       "      <td>1</td>\n",
       "      <td>Cumings, Mrs. John Bradley (Florence Briggs Th...</td>\n",
       "      <td>female</td>\n",
       "      <td>38.0</td>\n",
       "      <td>1</td>\n",
       "      <td>0</td>\n",
       "      <td>PC 17599</td>\n",
       "      <td>71.2833</td>\n",
       "      <td>C85</td>\n",
       "      <td>C</td>\n",
       "    </tr>\n",
       "    <tr>\n",
       "      <th>2</th>\n",
       "      <td>3</td>\n",
       "      <td>1</td>\n",
       "      <td>3</td>\n",
       "      <td>Heikkinen, Miss. Laina</td>\n",
       "      <td>female</td>\n",
       "      <td>26.0</td>\n",
       "      <td>0</td>\n",
       "      <td>0</td>\n",
       "      <td>STON/O2. 3101282</td>\n",
       "      <td>7.9250</td>\n",
       "      <td>NaN</td>\n",
       "      <td>S</td>\n",
       "    </tr>\n",
       "  </tbody>\n",
       "</table>\n",
       "</div>"
      ],
      "text/plain": [
       "   PassengerId  Survived  Pclass  \\\n",
       "0            1         0       3   \n",
       "1            2         1       1   \n",
       "2            3         1       3   \n",
       "\n",
       "                                                Name     Sex   Age  SibSp  \\\n",
       "0                            Braund, Mr. Owen Harris    male  22.0      1   \n",
       "1  Cumings, Mrs. John Bradley (Florence Briggs Th...  female  38.0      1   \n",
       "2                             Heikkinen, Miss. Laina  female  26.0      0   \n",
       "\n",
       "   Parch            Ticket     Fare Cabin Embarked  \n",
       "0      0         A/5 21171   7.2500   NaN        S  \n",
       "1      0          PC 17599  71.2833   C85        C  \n",
       "2      0  STON/O2. 3101282   7.9250   NaN        S  "
      ]
     },
     "execution_count": 68,
     "metadata": {},
     "output_type": "execute_result"
    }
   ],
   "source": [
    "df_trn_raw.head(3)"
   ]
  },
  {
   "cell_type": "markdown",
   "metadata": {},
   "source": [
    "### Remove columns"
   ]
  },
  {
   "cell_type": "code",
   "execution_count": 69,
   "metadata": {},
   "outputs": [],
   "source": [
    "del df_trn_raw[\"PassengerId\"]\n",
    "del df_trn_raw[\"Name\"]\n",
    "del df_trn_raw[\"Ticket\"]"
   ]
  },
  {
   "cell_type": "markdown",
   "metadata": {},
   "source": [
    "### Replace null values\n",
    "\n",
    "1. Convert Cabin\n",
    "2. Convert strings to categorical"
   ]
  },
  {
   "cell_type": "code",
   "execution_count": 70,
   "metadata": {},
   "outputs": [],
   "source": [
    "df_trn_raw[\"Cabin\"] = df_trn_raw[\"Cabin\"].fillna(\"N\").str[0]\n",
    "train_cats(df_trn_raw)\n",
    "X_trn, y_trn, nas = proc_df(df_trn_raw, \"Survived\")"
   ]
  },
  {
   "cell_type": "markdown",
   "metadata": {},
   "source": [
    "3. Scale and center values"
   ]
  },
  {
   "cell_type": "code",
   "execution_count": 71,
   "metadata": {},
   "outputs": [],
   "source": [
    "X_sc, y_sc, nas = proc_df(df_trn_raw, \"Survived\")"
   ]
  },
  {
   "cell_type": "code",
   "execution_count": 74,
   "metadata": {},
   "outputs": [
    {
     "data": {
      "text/html": [
       "<div>\n",
       "<style scoped>\n",
       "    .dataframe tbody tr th:only-of-type {\n",
       "        vertical-align: middle;\n",
       "    }\n",
       "\n",
       "    .dataframe tbody tr th {\n",
       "        vertical-align: top;\n",
       "    }\n",
       "\n",
       "    .dataframe thead th {\n",
       "        text-align: right;\n",
       "    }\n",
       "</style>\n",
       "<table border=\"1\" class=\"dataframe\">\n",
       "  <thead>\n",
       "    <tr style=\"text-align: right;\">\n",
       "      <th></th>\n",
       "      <th>0</th>\n",
       "      <th>1</th>\n",
       "      <th>2</th>\n",
       "      <th>3</th>\n",
       "      <th>4</th>\n",
       "    </tr>\n",
       "  </thead>\n",
       "  <tbody>\n",
       "    <tr>\n",
       "      <th>Pclass</th>\n",
       "      <td>3</td>\n",
       "      <td>1</td>\n",
       "      <td>3</td>\n",
       "      <td>1</td>\n",
       "      <td>3</td>\n",
       "    </tr>\n",
       "    <tr>\n",
       "      <th>Sex</th>\n",
       "      <td>2</td>\n",
       "      <td>1</td>\n",
       "      <td>1</td>\n",
       "      <td>1</td>\n",
       "      <td>2</td>\n",
       "    </tr>\n",
       "    <tr>\n",
       "      <th>Age</th>\n",
       "      <td>22</td>\n",
       "      <td>38</td>\n",
       "      <td>26</td>\n",
       "      <td>35</td>\n",
       "      <td>35</td>\n",
       "    </tr>\n",
       "    <tr>\n",
       "      <th>SibSp</th>\n",
       "      <td>1</td>\n",
       "      <td>1</td>\n",
       "      <td>0</td>\n",
       "      <td>1</td>\n",
       "      <td>0</td>\n",
       "    </tr>\n",
       "    <tr>\n",
       "      <th>Parch</th>\n",
       "      <td>0</td>\n",
       "      <td>0</td>\n",
       "      <td>0</td>\n",
       "      <td>0</td>\n",
       "      <td>0</td>\n",
       "    </tr>\n",
       "    <tr>\n",
       "      <th>Fare</th>\n",
       "      <td>7.25</td>\n",
       "      <td>71.2833</td>\n",
       "      <td>7.925</td>\n",
       "      <td>53.1</td>\n",
       "      <td>8.05</td>\n",
       "    </tr>\n",
       "    <tr>\n",
       "      <th>Cabin</th>\n",
       "      <td>8</td>\n",
       "      <td>3</td>\n",
       "      <td>8</td>\n",
       "      <td>3</td>\n",
       "      <td>8</td>\n",
       "    </tr>\n",
       "    <tr>\n",
       "      <th>Embarked</th>\n",
       "      <td>3</td>\n",
       "      <td>1</td>\n",
       "      <td>3</td>\n",
       "      <td>3</td>\n",
       "      <td>3</td>\n",
       "    </tr>\n",
       "    <tr>\n",
       "      <th>Age_na</th>\n",
       "      <td>False</td>\n",
       "      <td>False</td>\n",
       "      <td>False</td>\n",
       "      <td>False</td>\n",
       "      <td>False</td>\n",
       "    </tr>\n",
       "  </tbody>\n",
       "</table>\n",
       "</div>"
      ],
      "text/plain": [
       "              0        1      2      3      4\n",
       "Pclass        3        1      3      1      3\n",
       "Sex           2        1      1      1      2\n",
       "Age          22       38     26     35     35\n",
       "SibSp         1        1      0      1      0\n",
       "Parch         0        0      0      0      0\n",
       "Fare       7.25  71.2833  7.925   53.1   8.05\n",
       "Cabin         8        3      8      3      8\n",
       "Embarked      3        1      3      3      3\n",
       "Age_na    False    False  False  False  False"
      ]
     },
     "execution_count": 74,
     "metadata": {},
     "output_type": "execute_result"
    }
   ],
   "source": [
    "X_sc.head(5).T"
   ]
  },
  {
   "cell_type": "code",
   "execution_count": 78,
   "metadata": {},
   "outputs": [],
   "source": [
    "X_sc[\"Age\"] = (X_sc[\"Age\"] - np.mean(X_sc[\"Age\"])) / np.std(X_sc[\"Age\"])\n",
    "X_sc[\"Fare\"] = (X_sc[\"Fare\"] - np.mean(X_sc[\"Fare\"])) / np.std(X_sc[\"Fare\"])"
   ]
  },
  {
   "cell_type": "markdown",
   "metadata": {},
   "source": [
    "### Create validation set"
   ]
  },
  {
   "cell_type": "code",
   "execution_count": 48,
   "metadata": {},
   "outputs": [],
   "source": [
    "def split_val(a, n): return a[:n], a[n:]\n",
    "\n",
    "def rmse(x, y): return math.sqrt(((x - y) ** 2).mean())\n",
    "\n",
    "def rf_eval(m, X_trn, y_trn, X_val, y_val):\n",
    "    print(\"RMSE trn: {}\\nRMSE val: {}\\nScore trn: {}\\nScore val: {}\".format(\n",
    "        rmse(m.predict(X_trn), y_trn),\n",
    "        rmse(m.predict(X_val), y_val),\n",
    "        m.score(X_trn, y_trn),\n",
    "        m.score(X_val, y_val)\n",
    "    ))"
   ]
  },
  {
   "cell_type": "code",
   "execution_count": 50,
   "metadata": {},
   "outputs": [],
   "source": [
    "n_val = math.ceil(len(df_trn_raw) * 0.25)\n",
    "n_trn = 1 - n_val "
   ]
  },
  {
   "cell_type": "code",
   "execution_count": 79,
   "metadata": {},
   "outputs": [],
   "source": [
    "X_trn_sc, X_val_sc = split_val(X_sc, n_trn)\n",
    "y_trn_sc, y_val_sc = split_val(y_sc, n_trn)"
   ]
  },
  {
   "cell_type": "code",
   "execution_count": 80,
   "metadata": {},
   "outputs": [
    {
     "data": {
      "text/plain": [
       "RandomForestClassifier(bootstrap=True, class_weight=None, criterion='gini',\n",
       "            max_depth=None, max_features='auto', max_leaf_nodes=None,\n",
       "            min_impurity_decrease=0.0, min_impurity_split=None,\n",
       "            min_samples_leaf=1, min_samples_split=2,\n",
       "            min_weight_fraction_leaf=0.0, n_estimators=10, n_jobs=-1,\n",
       "            oob_score=False, random_state=None, verbose=0,\n",
       "            warm_start=False)"
      ]
     },
     "execution_count": 80,
     "metadata": {},
     "output_type": "execute_result"
    }
   ],
   "source": [
    "m = RandomForestClassifier(n_jobs=-1)\n",
    "m.fit(X_trn_sc, y_trn_sc)"
   ]
  },
  {
   "cell_type": "markdown",
   "metadata": {},
   "source": [
    "#### Original"
   ]
  },
  {
   "cell_type": "code",
   "execution_count": 52,
   "metadata": {},
   "outputs": [
    {
     "name": "stdout",
     "output_type": "stream",
     "text": [
      "RMSE trn: 0.16852476941780506\n",
      "RMSE val: 0.3970612769556579\n",
      "Score trn: 0.9715994020926756\n",
      "Score val: 0.8423423423423423\n"
     ]
    }
   ],
   "source": [
    "rf_eval(m, X_trn, y_trn, X_val, y_val)"
   ]
  },
  {
   "cell_type": "markdown",
   "metadata": {},
   "source": [
    "#### Scaled & centered"
   ]
  },
  {
   "cell_type": "code",
   "execution_count": 81,
   "metadata": {},
   "outputs": [
    {
     "name": "stdout",
     "output_type": "stream",
     "text": [
      "RMSE trn: 0.1771726122433938\n",
      "RMSE val: 0.3855498004780299\n",
      "Score trn: 0.968609865470852\n",
      "Score val: 0.8513513513513513\n"
     ]
    }
   ],
   "source": [
    "rf_eval(m, X_trn_sc, y_trn_sc, X_val_sc, y_val_sc)"
   ]
  },
  {
   "cell_type": "markdown",
   "metadata": {},
   "source": [
    "#### Increase num trees & leaf size "
   ]
  },
  {
   "cell_type": "code",
   "execution_count": 85,
   "metadata": {},
   "outputs": [
    {
     "name": "stdout",
     "output_type": "stream",
     "text": [
      "CPU times: user 1.54 s, sys: 160 ms, total: 1.7 s\n",
      "Wall time: 1.34 s\n",
      "RMSE trn: 0.3280599310882849\n",
      "RMSE val: 0.3796631983009996\n",
      "Score trn: 0.8923766816143498\n",
      "Score val: 0.8558558558558559\n"
     ]
    }
   ],
   "source": [
    "m = RandomForestClassifier(n_estimators=1000, min_samples_leaf=3, n_jobs=-1,)\n",
    "% time m.fit(X_trn_sc, y_trn_sc)\n",
    "rf_eval(m, X_trn_sc, y_trn_sc, X_val_sc, y_val_sc)"
   ]
  },
  {
   "cell_type": "markdown",
   "metadata": {},
   "source": [
    "#### Reduce max features"
   ]
  },
  {
   "cell_type": "code",
   "execution_count": 127,
   "metadata": {},
   "outputs": [
    {
     "name": "stdout",
     "output_type": "stream",
     "text": [
      "CPU times: user 1.54 s, sys: 140 ms, total: 1.68 s\n",
      "Wall time: 1.35 s\n",
      "RMSE trn: 0.31881694613367556\n",
      "RMSE val: 0.3736838766118223\n",
      "Score trn: 0.898355754857997\n",
      "Score val: 0.8603603603603603\n"
     ]
    }
   ],
   "source": [
    "m = RandomForestClassifier(n_estimators=1000, min_samples_leaf=3, max_features=0.5, n_jobs=-1,)\n",
    "% time m.fit(X_trn_sc, y_trn_sc)\n",
    "rf_eval(m, X_trn_sc, y_trn_sc, X_val_sc, y_val_sc)"
   ]
  },
  {
   "cell_type": "code",
   "execution_count": 116,
   "metadata": {},
   "outputs": [
    {
     "data": {
      "text/html": [
       "<div>\n",
       "<style scoped>\n",
       "    .dataframe tbody tr th:only-of-type {\n",
       "        vertical-align: middle;\n",
       "    }\n",
       "\n",
       "    .dataframe tbody tr th {\n",
       "        vertical-align: top;\n",
       "    }\n",
       "\n",
       "    .dataframe thead th {\n",
       "        text-align: right;\n",
       "    }\n",
       "</style>\n",
       "<table border=\"1\" class=\"dataframe\">\n",
       "  <thead>\n",
       "    <tr style=\"text-align: right;\">\n",
       "      <th></th>\n",
       "      <th>cols</th>\n",
       "      <th>imp</th>\n",
       "    </tr>\n",
       "  </thead>\n",
       "  <tbody>\n",
       "    <tr>\n",
       "      <th>1</th>\n",
       "      <td>Sex</td>\n",
       "      <td>0.391241</td>\n",
       "    </tr>\n",
       "    <tr>\n",
       "      <th>5</th>\n",
       "      <td>Fare</td>\n",
       "      <td>0.193441</td>\n",
       "    </tr>\n",
       "    <tr>\n",
       "      <th>2</th>\n",
       "      <td>Age</td>\n",
       "      <td>0.153267</td>\n",
       "    </tr>\n",
       "    <tr>\n",
       "      <th>0</th>\n",
       "      <td>Pclass</td>\n",
       "      <td>0.095162</td>\n",
       "    </tr>\n",
       "    <tr>\n",
       "      <th>6</th>\n",
       "      <td>Cabin</td>\n",
       "      <td>0.056590</td>\n",
       "    </tr>\n",
       "    <tr>\n",
       "      <th>3</th>\n",
       "      <td>SibSp</td>\n",
       "      <td>0.043196</td>\n",
       "    </tr>\n",
       "    <tr>\n",
       "      <th>7</th>\n",
       "      <td>Embarked</td>\n",
       "      <td>0.033916</td>\n",
       "    </tr>\n",
       "    <tr>\n",
       "      <th>4</th>\n",
       "      <td>Parch</td>\n",
       "      <td>0.020815</td>\n",
       "    </tr>\n",
       "    <tr>\n",
       "      <th>8</th>\n",
       "      <td>Age_na</td>\n",
       "      <td>0.012373</td>\n",
       "    </tr>\n",
       "  </tbody>\n",
       "</table>\n",
       "</div>"
      ],
      "text/plain": [
       "       cols       imp\n",
       "1       Sex  0.391241\n",
       "5      Fare  0.193441\n",
       "2       Age  0.153267\n",
       "0    Pclass  0.095162\n",
       "6     Cabin  0.056590\n",
       "3     SibSp  0.043196\n",
       "7  Embarked  0.033916\n",
       "4     Parch  0.020815\n",
       "8    Age_na  0.012373"
      ]
     },
     "execution_count": 116,
     "metadata": {},
     "output_type": "execute_result"
    }
   ],
   "source": [
    "rf_feat_importance(m, X_trn_sc)"
   ]
  },
  {
   "cell_type": "code",
   "execution_count": 126,
   "metadata": {},
   "outputs": [
    {
     "name": "stdout",
     "output_type": "stream",
     "text": [
      "CPU times: user 1.57 s, sys: 208 ms, total: 1.78 s\n",
      "Wall time: 1.45 s\n",
      "RMSE trn: 0.32577377131183904\n",
      "RMSE val: 0.39134786718871123\n",
      "Score trn: 0.8938714499252616\n",
      "Score val: 0.8468468468468469\n"
     ]
    }
   ],
   "source": [
    "m = RandomForestClassifier(n_estimators=1000, min_samples_leaf=3, max_features=\"log2\", n_jobs=-1,)\n",
    "% time m.fit(X_trn_sc, y_trn_sc)\n",
    "rf_eval(m, X_trn_sc, y_trn_sc, X_val_sc, y_val_sc)"
   ]
  },
  {
   "cell_type": "code",
   "execution_count": 125,
   "metadata": {
    "scrolled": true
   },
   "outputs": [
    {
     "name": "stdout",
     "output_type": "stream",
     "text": [
      "CPU times: user 1.45 s, sys: 124 ms, total: 1.58 s\n",
      "Wall time: 1.35 s\n",
      "RMSE trn: 0.3280599310882849\n",
      "RMSE val: 0.39134786718871123\n",
      "Score trn: 0.8923766816143498\n",
      "Score val: 0.8468468468468469\n"
     ]
    }
   ],
   "source": [
    "m = RandomForestClassifier(n_estimators=1000, min_samples_leaf=3, max_features=\"sqrt\", n_jobs=-1,)\n",
    "% time m.fit(X_trn_sc, y_trn_sc)\n",
    "rf_eval(m, X_trn_sc, y_trn_sc, X_val_sc, y_val_sc)"
   ]
  },
  {
   "cell_type": "markdown",
   "metadata": {},
   "source": [
    "#### Use subsamples"
   ]
  },
  {
   "cell_type": "code",
   "execution_count": 110,
   "metadata": {},
   "outputs": [],
   "source": [
    "reset_rf_samples()"
   ]
  },
  {
   "cell_type": "code",
   "execution_count": 92,
   "metadata": {},
   "outputs": [
    {
     "name": "stdout",
     "output_type": "stream",
     "text": [
      "CPU times: user 2.16 s, sys: 400 ms, total: 2.56 s\n",
      "Wall time: 1.85 s\n",
      "RMSE trn: 0.32115263264204263\n",
      "RMSE val: 0.3796631983009996\n",
      "Score trn: 0.8968609865470852\n",
      "Score val: 0.8558558558558559\n"
     ]
    }
   ],
   "source": [
    "m = RandomForestClassifier(n_estimators=1000, min_samples_leaf=3, max_features=0.5, n_jobs=-1,)\n",
    "% time m.fit(X_trn_sc, y_trn_sc)\n",
    "rf_eval(m, X_trn_sc, y_trn_sc, X_val_sc, y_val_sc)"
   ]
  },
  {
   "cell_type": "markdown",
   "metadata": {},
   "source": [
    "#### ExtraTreesClassifier"
   ]
  },
  {
   "cell_type": "code",
   "execution_count": 93,
   "metadata": {},
   "outputs": [],
   "source": [
    "from sklearn.ensemble import ExtraTreesClassifier"
   ]
  },
  {
   "cell_type": "code",
   "execution_count": 96,
   "metadata": {},
   "outputs": [
    {
     "name": "stdout",
     "output_type": "stream",
     "text": [
      "CPU times: user 1.5 s, sys: 280 ms, total: 1.78 s\n",
      "Wall time: 1.4 s\n",
      "RMSE trn: 0.1222607177678836\n",
      "RMSE val: 0.44010645722790037\n",
      "Score trn: 0.9850523168908819\n",
      "Score val: 0.8063063063063063\n"
     ]
    }
   ],
   "source": [
    "m = ExtraTreesClassifier(n_estimators=1000, n_jobs=-1)\n",
    "% time m.fit(X_trn_sc, y_trn_sc)\n",
    "rf_eval(m, X_trn_sc, y_trn_sc, X_val_sc, y_val_sc)"
   ]
  },
  {
   "cell_type": "code",
   "execution_count": 97,
   "metadata": {},
   "outputs": [
    {
     "name": "stdout",
     "output_type": "stream",
     "text": [
      "CPU times: user 1.33 s, sys: 188 ms, total: 1.52 s\n",
      "Wall time: 1.2 s\n",
      "RMSE trn: 0.36881420294366996\n",
      "RMSE val: 0.4026936331284146\n",
      "Score trn: 0.8639760837070254\n",
      "Score val: 0.8378378378378378\n"
     ]
    }
   ],
   "source": [
    "m = ExtraTreesClassifier(n_estimators=1000, min_samples_leaf=3, n_jobs=-1)\n",
    "% time m.fit(X_trn_sc, y_trn_sc)\n",
    "rf_eval(m, X_trn_sc, y_trn_sc, X_val_sc, y_val_sc)"
   ]
  },
  {
   "cell_type": "code",
   "execution_count": 98,
   "metadata": {
    "scrolled": true
   },
   "outputs": [
    {
     "name": "stdout",
     "output_type": "stream",
     "text": [
      "CPU times: user 1.6 s, sys: 244 ms, total: 1.84 s\n",
      "Wall time: 1.41 s\n",
      "RMSE trn: 0.3522297117020086\n",
      "RMSE val: 0.39134786718871123\n",
      "Score trn: 0.8759342301943199\n",
      "Score val: 0.8468468468468469\n"
     ]
    }
   ],
   "source": [
    "m = ExtraTreesClassifier(n_estimators=1000, min_samples_leaf=3, max_features=0.5, n_jobs=-1)\n",
    "% time m.fit(X_trn_sc, y_trn_sc)\n",
    "rf_eval(m, X_trn_sc, y_trn_sc, X_val_sc, y_val_sc)"
   ]
  },
  {
   "cell_type": "code",
   "execution_count": 135,
   "metadata": {},
   "outputs": [
    {
     "data": {
      "text/html": [
       "<div>\n",
       "<style scoped>\n",
       "    .dataframe tbody tr th:only-of-type {\n",
       "        vertical-align: middle;\n",
       "    }\n",
       "\n",
       "    .dataframe tbody tr th {\n",
       "        vertical-align: top;\n",
       "    }\n",
       "\n",
       "    .dataframe thead th {\n",
       "        text-align: right;\n",
       "    }\n",
       "</style>\n",
       "<table border=\"1\" class=\"dataframe\">\n",
       "  <thead>\n",
       "    <tr style=\"text-align: right;\">\n",
       "      <th>Survived</th>\n",
       "      <th>0</th>\n",
       "      <th>1</th>\n",
       "      <th>All</th>\n",
       "    </tr>\n",
       "    <tr>\n",
       "      <th>Sex</th>\n",
       "      <th></th>\n",
       "      <th></th>\n",
       "      <th></th>\n",
       "    </tr>\n",
       "  </thead>\n",
       "  <tbody>\n",
       "    <tr>\n",
       "      <th>female</th>\n",
       "      <td>81</td>\n",
       "      <td>233</td>\n",
       "      <td>314</td>\n",
       "    </tr>\n",
       "    <tr>\n",
       "      <th>male</th>\n",
       "      <td>468</td>\n",
       "      <td>109</td>\n",
       "      <td>577</td>\n",
       "    </tr>\n",
       "    <tr>\n",
       "      <th>All</th>\n",
       "      <td>549</td>\n",
       "      <td>342</td>\n",
       "      <td>891</td>\n",
       "    </tr>\n",
       "  </tbody>\n",
       "</table>\n",
       "</div>"
      ],
      "text/plain": [
       "Survived    0    1  All\n",
       "Sex                    \n",
       "female     81  233  314\n",
       "male      468  109  577\n",
       "All       549  342  891"
      ]
     },
     "execution_count": 135,
     "metadata": {},
     "output_type": "execute_result"
    }
   ],
   "source": [
    "pd.crosstab(index=df_trn_raw[\"Sex\"], columns=df_trn_raw[\"Survived\"], margins=True)"
   ]
  },
  {
   "cell_type": "markdown",
   "metadata": {},
   "source": [
    "### Predict training data"
   ]
  },
  {
   "cell_type": "code",
   "execution_count": 128,
   "metadata": {},
   "outputs": [],
   "source": [
    "df_test_raw = pd.read_csv(\"data/titanic-test.csv\", low_memory=False)"
   ]
  },
  {
   "cell_type": "code",
   "execution_count": 129,
   "metadata": {},
   "outputs": [],
   "source": [
    "df_test = df_test_raw.copy()\n",
    "df_test[\"_\"] = \"_\"\n",
    "\n",
    "del df_test[\"PassengerId\"]\n",
    "del df_test[\"Name\"]\n",
    "del df_test[\"Ticket\"]"
   ]
  },
  {
   "cell_type": "code",
   "execution_count": 130,
   "metadata": {},
   "outputs": [],
   "source": [
    "df_test[\"Cabin\"] = df_test[\"Cabin\"].fillna(\"N\").str[0]\n",
    "train_cats(df_test)\n",
    "X_test, _, nas = proc_df(df_test, \"_\")"
   ]
  },
  {
   "cell_type": "code",
   "execution_count": 131,
   "metadata": {},
   "outputs": [],
   "source": [
    "X_test[\"Age\"] = (X_test[\"Age\"] - np.mean(X_test[\"Age\"])) / np.std(X_test[\"Age\"])\n",
    "X_test[\"Fare\"] = (X_test[\"Fare\"] - np.mean(X_test[\"Fare\"])) / np.std(X_test[\"Fare\"])"
   ]
  },
  {
   "cell_type": "code",
   "execution_count": 132,
   "metadata": {},
   "outputs": [],
   "source": [
    "del X_test[\"Fare_na\"]"
   ]
  },
  {
   "cell_type": "code",
   "execution_count": 133,
   "metadata": {},
   "outputs": [],
   "source": [
    "preds_test = m.predict(X_test)"
   ]
  },
  {
   "cell_type": "code",
   "execution_count": 134,
   "metadata": {},
   "outputs": [
    {
     "data": {
      "text/html": [
       "data/<br>\n",
       "&nbsp;&nbsp;<a href='data/sample_submission.csv' target='_blank'>sample_submission.csv</a><br>\n",
       "&nbsp;&nbsp;<a href='data/titanic-sample-subm.csv' target='_blank'>titanic-sample-subm.csv</a><br>\n",
       "&nbsp;&nbsp;<a href='data/house-rf-subm.csv' target='_blank'>house-rf-subm.csv</a><br>\n",
       "&nbsp;&nbsp;<a href='data/conductors-train.csv.zip' target='_blank'>conductors-train.csv.zip</a><br>\n",
       "&nbsp;&nbsp;<a href='data/titanic-test.csv' target='_blank'>titanic-test.csv</a><br>\n",
       "&nbsp;&nbsp;<a href='data/titanic-train.csv' target='_blank'>titanic-train.csv</a><br>\n",
       "&nbsp;&nbsp;<a href='data/conductors-sample-subm.csv.zip' target='_blank'>conductors-sample-subm.csv.zip</a><br>\n",
       "&nbsp;&nbsp;<a href='data/titanic-rf-submission.csv' target='_blank'>titanic-rf-submission.csv</a><br>\n",
       "&nbsp;&nbsp;<a href='data/conductors-test.csv.zip' target='_blank'>conductors-test.csv.zip</a><br>\n",
       "&nbsp;&nbsp;<a href='data/titanic-rf3-submission.csv' target='_blank'>titanic-rf3-submission.csv</a><br>\n",
       "&nbsp;&nbsp;<a href='data/train.csv' target='_blank'>train.csv</a><br>\n",
       "&nbsp;&nbsp;<a href='data/house-test.csv' target='_blank'>house-test.csv</a><br>\n",
       "&nbsp;&nbsp;<a href='data/house-train.csv' target='_blank'>house-train.csv</a><br>\n",
       "&nbsp;&nbsp;<a href='data/test.csv' target='_blank'>test.csv</a><br>\n",
       "&nbsp;&nbsp;<a href='data/conductors-rf-subm.csv' target='_blank'>conductors-rf-subm.csv</a><br>\n",
       "&nbsp;&nbsp;<a href='data/titanic-rf2-submission.csv' target='_blank'>titanic-rf2-submission.csv</a><br>\n",
       "&nbsp;&nbsp;<a href='data/house-sample-subm.csv' target='_blank'>house-sample-subm.csv</a><br>"
      ],
      "text/plain": [
       "data/\n",
       "  sample_submission.csv\n",
       "  titanic-sample-subm.csv\n",
       "  house-rf-subm.csv\n",
       "  conductors-train.csv.zip\n",
       "  titanic-test.csv\n",
       "  titanic-train.csv\n",
       "  conductors-sample-subm.csv.zip\n",
       "  titanic-rf-submission.csv\n",
       "  conductors-test.csv.zip\n",
       "  titanic-rf3-submission.csv\n",
       "  train.csv\n",
       "  house-test.csv\n",
       "  house-train.csv\n",
       "  test.csv\n",
       "  conductors-rf-subm.csv\n",
       "  titanic-rf2-submission.csv\n",
       "  house-sample-subm.csv"
      ]
     },
     "execution_count": 134,
     "metadata": {},
     "output_type": "execute_result"
    }
   ],
   "source": [
    "subm = pd.DataFrame({\n",
    "    \"PassengerId\": df_test_raw[\"PassengerId\"],\n",
    "    \"Survived\": preds_test\n",
    "})\n",
    "\n",
    "subm.to_csv(\"data/titanic-rf3-submission.csv\", index=False)\n",
    "FileLinks(\"data/\")"
   ]
  }
 ],
 "metadata": {
  "kernelspec": {
   "display_name": "Python 3",
   "language": "python",
   "name": "python3"
  },
  "language_info": {
   "codemirror_mode": {
    "name": "ipython",
    "version": 3
   },
   "file_extension": ".py",
   "mimetype": "text/x-python",
   "name": "python",
   "nbconvert_exporter": "python",
   "pygments_lexer": "ipython3",
   "version": "3.6.4"
  }
 },
 "nbformat": 4,
 "nbformat_minor": 2
}
