{
 "cells": [
  {
   "cell_type": "code",
   "execution_count": 1,
   "metadata": {
    "collapsed": true
   },
   "outputs": [],
   "source": [
    "%matplotlib inline\n",
    "%reload_ext autoreload\n",
    "%autoreload 2\n",
    "\n",
    "import pandas as pd\n",
    "import numpy as np\n",
    "import matplotlib.pyplot as plt\n",
    "import scipy.stats as stats\n",
    "import random\n",
    "import math\n",
    "\n",
    "from utils.explore import *"
   ]
  },
  {
   "cell_type": "markdown",
   "metadata": {},
   "source": [
    "## Point estimates"
   ]
  },
  {
   "cell_type": "code",
   "execution_count": 2,
   "metadata": {},
   "outputs": [
    {
     "data": {
      "text/plain": [
       "43.002372000000001"
      ]
     },
     "execution_count": 2,
     "metadata": {},
     "output_type": "execute_result"
    }
   ],
   "source": [
    "np.random.seed(10)\n",
    "pop_age1 = stats.poisson.rvs(loc=18, mu=35, size=150000)\n",
    "pop_age2 = stats.poisson.rvs(loc=18, mu=10, size=100000)\n",
    "pop_ages = np.concatenate((pop_age1, pop_age2))\n",
    "\n",
    "pop_ages.mean()"
   ]
  },
  {
   "cell_type": "code",
   "execution_count": 3,
   "metadata": {},
   "outputs": [
    {
     "data": {
      "text/plain": [
       "42.387999999999998"
      ]
     },
     "execution_count": 3,
     "metadata": {},
     "output_type": "execute_result"
    }
   ],
   "source": [
    "np.random.seed(6)\n",
    "smp_ages = np.random.choice(a=pop_ages, size=500)\n",
    "\n",
    "smp_ages.mean()"
   ]
  },
  {
   "cell_type": "code",
   "execution_count": 15,
   "metadata": {},
   "outputs": [
    {
     "name": "stdout",
     "output_type": "stream",
     "text": [
      "other proportion estimate: 0.086\n",
      "white proportion estimate: 0.38\n",
      "hispn proportion estimate: 0.209\n",
      "black proportion estimate: 0.215\n",
      "asian proportion estimate: 0.11\n"
     ]
    }
   ],
   "source": [
    "random.seed(10)\n",
    "pop_races = (\n",
    "    ([\"white\"] * 400000) + \n",
    "    ([\"black\"] * 200000) +\n",
    "    ([\"hispn\"] * 200000) +\n",
    "    ([\"asian\"] * 100000) +\n",
    "    ([\"other\"] * 100000)\n",
    ")\n",
    "smp_races = random.sample(pop_races, 1000)\n",
    "for race in set(smp_races):\n",
    "    print(\"{} proportion estimate: {}\".format(race, float(smp_races.count(race)) / len(smp_races)))"
   ]
  },
  {
   "cell_type": "markdown",
   "metadata": {},
   "source": [
    "## Sampling distributions, central limit theorem"
   ]
  },
  {
   "cell_type": "code",
   "execution_count": 20,
   "metadata": {},
   "outputs": [
    {
     "data": {
      "text/plain": [
       "<matplotlib.axes._subplots.AxesSubplot at 0x11907cd90>"
      ]
     },
     "execution_count": 20,
     "metadata": {},
     "output_type": "execute_result"
    },
    {
     "data": {
      "image/png": "[encoded data removed]",
      "text/plain": [
       "<matplotlib.figure.Figure at 0x1190e6dd0>"
      ]
     },
     "metadata": {},
     "output_type": "display_data"
    }
   ],
   "source": [
    "pd.DataFrame(pop_ages).plot(kind=\"hist\", bins=max(pop_ages) - min(pop_ages))"
   ]
  },
  {
   "cell_type": "code",
   "execution_count": 22,
   "metadata": {},
   "outputs": [
    {
     "data": {
      "text/plain": [
       "-0.12008483603917186"
      ]
     },
     "execution_count": 22,
     "metadata": {},
     "output_type": "execute_result"
    }
   ],
   "source": [
    "stats.skew(pop_ages)"
   ]
  },
  {
   "cell_type": "code",
   "execution_count": 24,
   "metadata": {},
   "outputs": [
    {
     "data": {
      "text/plain": [
       "<matplotlib.axes._subplots.AxesSubplot at 0x11a2f29d0>"
      ]
     },
     "execution_count": 24,
     "metadata": {},
     "output_type": "execute_result"
    },
    {
     "data": {
      "image/png": "[encoded data removed]",
      "text/plain": [
       "<matplotlib.figure.Figure at 0x117358390>"
      ]
     },
     "metadata": {},
     "output_type": "display_data"
    }
   ],
   "source": [
    "pd.DataFrame(smp_ages).plot(kind=\"hist\", bins=max(smp_ages) - min(smp_ages))"
   ]
  },
  {
   "cell_type": "code",
   "execution_count": 23,
   "metadata": {},
   "outputs": [
    {
     "data": {
      "text/plain": [
       "-0.056225282585406065"
      ]
     },
     "execution_count": 23,
     "metadata": {},
     "output_type": "execute_result"
    }
   ],
   "source": [
    "stats.skew(smp_ages)"
   ]
  },
  {
   "cell_type": "code",
   "execution_count": 32,
   "metadata": {},
   "outputs": [
    {
     "data": {
      "text/plain": [
       "45.445"
      ]
     },
     "execution_count": 32,
     "metadata": {},
     "output_type": "execute_result"
    }
   ],
   "source": [
    "max(pt_est)"
   ]
  },
  {
   "cell_type": "code",
   "execution_count": 31,
   "metadata": {},
   "outputs": [
    {
     "data": {
      "text/plain": [
       "40.060000000000002"
      ]
     },
     "execution_count": 31,
     "metadata": {},
     "output_type": "execute_result"
    }
   ],
   "source": [
    "min(pt_est)"
   ]
  },
  {
   "cell_type": "code",
   "execution_count": 41,
   "metadata": {},
   "outputs": [
    {
     "data": {
      "text/plain": [
       "<matplotlib.axes._subplots.AxesSubplot at 0x1214c99d0>"
      ]
     },
     "execution_count": 41,
     "metadata": {},
     "output_type": "execute_result"
    },
    {
     "data": {
      "image/png": "[encoded data removed]",
      "text/plain": [
       "<matplotlib.figure.Figure at 0x121666550>"
      ]
     },
     "metadata": {},
     "output_type": "display_data"
    }
   ],
   "source": [
    "np.random.seed(10)\n",
    "pt_est = []\n",
    "for x in range(200):\n",
    "    sample = np.random.choice(a=pop_ages, size=100)\n",
    "    pt_est.append(sample.mean())\n",
    "pd.DataFrame(pt_est).plot(kind=\"density\")"
   ]
  },
  {
   "cell_type": "code",
   "execution_count": 42,
   "metadata": {},
   "outputs": [
    {
     "data": {
      "text/plain": [
       "<matplotlib.axes._subplots.AxesSubplot at 0x121698b10>"
      ]
     },
     "execution_count": 42,
     "metadata": {},
     "output_type": "execute_result"
    },
    {
     "data": {
      "image/png": "[encoded data removed]",
      "text/plain": [
       "<matplotlib.figure.Figure at 0x1216c3bd0>"
      ]
     },
     "metadata": {},
     "output_type": "display_data"
    }
   ],
   "source": [
    "np.random.seed(10)\n",
    "pt_est = []\n",
    "for x in range(200):\n",
    "    sample = np.random.choice(a=pop_ages, size=200)\n",
    "    pt_est.append(sample.mean())\n",
    "pd.DataFrame(pt_est).plot(kind=\"density\")"
   ]
  },
  {
   "cell_type": "code",
   "execution_count": 43,
   "metadata": {},
   "outputs": [
    {
     "data": {
      "text/plain": [
       "<matplotlib.axes._subplots.AxesSubplot at 0x12181f110>"
      ]
     },
     "execution_count": 43,
     "metadata": {},
     "output_type": "execute_result"
    },
    {
     "data": {
      "image/png": "[encoded data removed]",
      "text/plain": [
       "<matplotlib.figure.Figure at 0x12192a5d0>"
      ]
     },
     "metadata": {},
     "output_type": "display_data"
    }
   ],
   "source": [
    "np.random.seed(10)\n",
    "pt_est = []\n",
    "for x in range(200):\n",
    "    sample = np.random.choice(a=pop_ages, size=400)\n",
    "    pt_est.append(sample.mean())\n",
    "pd.DataFrame(pt_est).plot(kind=\"density\")"
   ]
  },
  {
   "cell_type": "code",
   "execution_count": 44,
   "metadata": {},
   "outputs": [
    {
     "data": {
      "text/plain": [
       "<matplotlib.axes._subplots.AxesSubplot at 0x121a181d0>"
      ]
     },
     "execution_count": 44,
     "metadata": {},
     "output_type": "execute_result"
    },
    {
     "data": {
      "image/png": "[encoded data removed]",
      "text/plain": [
       "<matplotlib.figure.Figure at 0x1219b9890>"
      ]
     },
     "metadata": {},
     "output_type": "display_data"
    }
   ],
   "source": [
    "np.random.seed(10)\n",
    "pt_est = []\n",
    "for x in range(200):\n",
    "    sample = np.random.choice(a=pop_ages, size=800)\n",
    "    pt_est.append(sample.mean())\n",
    "pd.DataFrame(pt_est).plot(kind=\"density\")"
   ]
  },
  {
   "cell_type": "code",
   "execution_count": 45,
   "metadata": {},
   "outputs": [
    {
     "data": {
      "text/plain": [
       "<matplotlib.axes._subplots.AxesSubplot at 0x121b7b2d0>"
      ]
     },
     "execution_count": 45,
     "metadata": {},
     "output_type": "execute_result"
    },
    {
     "data": {
      "image/png": "[encoded data removed]",
      "text/plain": [
       "<matplotlib.figure.Figure at 0x121bf6a90>"
      ]
     },
     "metadata": {},
     "output_type": "display_data"
    }
   ],
   "source": [
    "np.random.seed(10)\n",
    "pt_est = []\n",
    "for x in range(200):\n",
    "    sample = np.random.choice(a=pop_ages, size=1600)\n",
    "    pt_est.append(sample.mean())\n",
    "pd.DataFrame(pt_est).plot(kind=\"density\")"
   ]
  },
  {
   "cell_type": "code",
   "execution_count": 47,
   "metadata": {},
   "outputs": [
    {
     "data": {
      "text/plain": [
       "-0.084407999999996264"
      ]
     },
     "execution_count": 47,
     "metadata": {},
     "output_type": "execute_result"
    }
   ],
   "source": [
    "pop_ages.mean() - np.array(pt_est).mean()"
   ]
  },
  {
   "cell_type": "markdown",
   "metadata": {
    "heading_collapsed": true
   },
   "source": [
    "## Confidence intervals for a point estimate of a population parameter"
   ]
  },
  {
   "cell_type": "code",
   "execution_count": 52,
   "metadata": {
    "hidden": true
   },
   "outputs": [
    {
     "data": {
      "text/plain": [
       "1.959963984540054"
      ]
     },
     "execution_count": 52,
     "metadata": {},
     "output_type": "execute_result"
    }
   ],
   "source": [
    "np.random.seed(10)\n",
    "\n",
    "sample_size = 1000\n",
    "sample = np.random.choice(a=pop_ages, size=sample_size)\n",
    "sample_mean = sample.mean()\n",
    "\n",
    "z_crit = stats.norm.ppf(q=0.975)\n",
    "z_crit"
   ]
  },
  {
   "cell_type": "code",
   "execution_count": 53,
   "metadata": {
    "hidden": true
   },
   "outputs": [
    {
     "data": {
      "text/plain": [
       "(41.703064068826833, 43.342935931173173)"
      ]
     },
     "execution_count": 53,
     "metadata": {},
     "output_type": "execute_result"
    }
   ],
   "source": [
    "pop_stdev = pop_ages.std()\n",
    "margin_err = z_crit * (pop_stdev / math.sqrt(sample_size))\n",
    "c_interval = (sample_mean - margin_err, sample_mean + margin_err)\n",
    "c_interval"
   ]
  },
  {
   "cell_type": "code",
   "execution_count": 54,
   "metadata": {
    "hidden": true
   },
   "outputs": [
    {
     "data": {
      "text/plain": [
       "43.002372000000001"
      ]
     },
     "execution_count": 54,
     "metadata": {},
     "output_type": "execute_result"
    }
   ],
   "source": [
    "pop_ages.mean()"
   ]
  },
  {
   "cell_type": "code",
   "execution_count": 55,
   "metadata": {
    "collapsed": true,
    "hidden": true
   },
   "outputs": [],
   "source": [
    "np.random.seed(12)\n",
    "\n",
    "c_intervals = []\n",
    "sample_means = []\n",
    "sample_size = 1000\n",
    "pop_stdev = pop_ages.std()\n",
    "\n",
    "for sample in range(25):\n",
    "    sample = np.random.choice(a=pop_ages, size=sample_size)\n",
    "    sample_mean = sample.mean()\n",
    "    sample_means.append(sample_mean)\n",
    "    z_crit = stats.norm.ppf(q=0.975)\n",
    "    \n",
    "    margin_err = z_crit * (pop_stdev / math.sqrt(sample_size))\n",
    "    c_interval = (sample_mean - margin_err, sample_mean + margin_err)\n",
    "    c_intervals.append(c_interval)"
   ]
  },
  {
   "cell_type": "code",
   "execution_count": 58,
   "metadata": {
    "hidden": true,
    "scrolled": false
   },
   "outputs": [
    {
     "data": {
      "text/plain": [
       "<matplotlib.collections.LineCollection at 0x12204e910>"
      ]
     },
     "execution_count": 58,
     "metadata": {},
     "output_type": "execute_result"
    },
    {
     "data": {
      "image/png": "[encoded data removed]",
      "text/plain": [
       "<matplotlib.figure.Figure at 0x122058d10>"
      ]
     },
     "metadata": {},
     "output_type": "display_data"
    }
   ],
   "source": [
    "plt.figure(figsize=(9, 9))\n",
    "plt.errorbar(\n",
    "    x=np.arange(0.1, 25, 1), \n",
    "    y=sample_means, \n",
    "    yerr=[(top - bot) / 2 for top, bot in c_intervals],\n",
    "    fmt=\"o\"\n",
    ")\n",
    "plt.hlines(xmin=0, xmax=25, y=pop_ages.mean(), color=\"red\")"
   ]
  },
  {
   "cell_type": "code",
   "execution_count": 63,
   "metadata": {
    "hidden": true
   },
   "outputs": [
    {
     "name": "stdout",
     "output_type": "stream",
     "text": [
      "t_crit: 2.06389856163\n",
      "c_interval: (37.757112737010608, 48.002887262989397)\n"
     ]
    }
   ],
   "source": [
    "# t_crit\n",
    "# sigma - stdev(sample)\n",
    "# sqrt(sample_size)\n",
    "\n",
    "np.random.seed(10)\n",
    "sample_size = 25\n",
    "sample = np.random.choice(a=pop_ages, size=sample_size)\n",
    "sample_mean = sample.mean()\n",
    "\n",
    "t_crit = stats.t.ppf(q=0.975, df=24)\n",
    "sample_stdev = sample.std()\n",
    "margin_err = t_crit * (sample_stdev / math.sqrt(sample_size))\n",
    "c_interval = (sample_mean - margin_err, sample_mean + margin_err)\n",
    "\n",
    "print(\"\"\"t_crit: {}\n",
    "c_interval: {}\"\"\".format(t_crit, c_interval))"
   ]
  },
  {
   "cell_type": "code",
   "execution_count": 68,
   "metadata": {
    "hidden": true
   },
   "outputs": [
    {
     "data": {
      "text/plain": [
       "(37.757112737010608, 48.002887262989397)"
      ]
     },
     "execution_count": 68,
     "metadata": {},
     "output_type": "execute_result"
    }
   ],
   "source": [
    "stats.t.interval(\n",
    "    alpha=0.95,                                   # confidence level\n",
    "    df=24,                                        # degrees of freedom\n",
    "    loc=sample_mean,                              # sample mean\n",
    "    scale=(sample_stdev / math.sqrt(sample_size)) # standard deviation / sqrt(sample)\n",
    ")"
   ]
  },
  {
   "cell_type": "markdown",
   "metadata": {},
   "source": [
    "## Confidence interval for a point estimate of a population proportion"
   ]
  },
  {
   "cell_type": "code",
   "execution_count": 69,
   "metadata": {},
   "outputs": [
    {
     "name": "stdout",
     "output_type": "stream",
     "text": [
      "other proportion estimate: 0.086\n",
      "white proportion estimate: 0.38\n",
      "hispn proportion estimate: 0.209\n",
      "black proportion estimate: 0.215\n",
      "asian proportion estimate: 0.11\n"
     ]
    }
   ],
   "source": [
    "for race in set(smp_races):\n",
    "    print(\"{} proportion estimate: {}\".format(race, float(smp_races.count(race)) / len(smp_races)))"
   ]
  },
  {
   "cell_type": "code",
   "execution_count": null,
   "metadata": {
    "collapsed": true
   },
   "outputs": [],
   "source": [
    "1 - 0.95"
   ]
  },
  {
   "cell_type": "code",
   "execution_count": 71,
   "metadata": {},
   "outputs": [
    {
     "data": {
      "text/plain": [
       "(0.18379948153750936, 0.23420051846249063)"
      ]
     },
     "execution_count": 71,
     "metadata": {},
     "output_type": "execute_result"
    }
   ],
   "source": [
    "z_crit = stats.norm.ppf(0.975)\n",
    "p_hisp = 0.209\n",
    "samp_s = 1000\n",
    "margin = z_crit * math.sqrt((p_hisp * (1 - p_hisp)) / samp_s)\n",
    "c_intl = (p_hisp - margin, p_hisp + margin)\n",
    "c_intl"
   ]
  },
  {
   "cell_type": "code",
   "execution_count": 72,
   "metadata": {},
   "outputs": [
    {
     "data": {
      "text/plain": [
       "(0.18379948153750936, 0.23420051846249063)"
      ]
     },
     "execution_count": 72,
     "metadata": {},
     "output_type": "execute_result"
    }
   ],
   "source": [
    "stats.norm.interval(\n",
    "    alpha=0.95,\n",
    "    loc=0.209,\n",
    "    scale=math.sqrt((p_hisp * (1 - p_hisp)) / samp_s)\n",
    ")"
   ]
  }
 ],
 "metadata": {
  "kernelspec": {
   "display_name": "Python 2",
   "language": "python",
   "name": "python2"
  },
  "language_info": {
   "codemirror_mode": {
    "name": "ipython",
    "version": 2
   },
   "file_extension": ".py",
   "mimetype": "text/x-python",
   "name": "python",
   "nbconvert_exporter": "python",
   "pygments_lexer": "ipython2",
   "version": "2.7.13"
  }
 },
 "nbformat": 4,
 "nbformat_minor": 2
}
