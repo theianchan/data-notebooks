{
 "cells": [
  {
   "cell_type": "code",
   "execution_count": 1,
   "metadata": {
    "collapsed": true
   },
   "outputs": [],
   "source": [
    "%matplotlib inline\n",
    "%reload_ext autoreload\n",
    "%autoreload 2"
   ]
  },
  {
   "cell_type": "code",
   "execution_count": 2,
   "metadata": {
    "collapsed": true
   },
   "outputs": [],
   "source": [
    "import pandas as pd\n",
    "import numpy as np\n",
    "\n",
    "from utils.explore import *"
   ]
  },
  {
   "cell_type": "code",
   "execution_count": 3,
   "metadata": {
    "collapsed": true
   },
   "outputs": [],
   "source": [
    "comments = pd.read_csv(\"data/twolves-comments.csv\")"
   ]
  },
  {
   "cell_type": "code",
   "execution_count": 5,
   "metadata": {},
   "outputs": [],
   "source": [
    "comments = comments[\"body\"]"
   ]
  },
  {
   "cell_type": "code",
   "execution_count": 6,
   "metadata": {},
   "outputs": [
    {
     "data": {
      "text/plain": [
       "(4166,)"
      ]
     },
     "execution_count": 6,
     "metadata": {},
     "output_type": "execute_result"
    }
   ],
   "source": [
    "comments.shape"
   ]
  },
  {
   "cell_type": "code",
   "execution_count": 8,
   "metadata": {},
   "outputs": [
    {
     "data": {
      "text/plain": [
       "0    Strongly encouraging sign for us.  The T-Wolve...\n",
       "1    [My reaction.](http://4.bp.blogspot.com/-3ySob...\n",
       "2                     http://imgur.com/gallery/Zch2AWw\n",
       "3    Wolves have more talent than they ever had rig...\n",
       "4    Nah. Wigg is on the level of KG but where's ou...\n",
       "5           2004 was a pretty damn talented team dude.\n",
       "6                                                  :')\n",
       "7                                              *swoon*\n",
       "8                            Is Joe Smith available..?\n",
       "9                           I FUCKING LOVE YOU ANDREW \n",
       "Name: body, dtype: object"
      ]
     },
     "execution_count": 8,
     "metadata": {},
     "output_type": "execute_result"
    }
   ],
   "source": [
    "comments.head(10)"
   ]
  },
  {
   "cell_type": "code",
   "execution_count": 11,
   "metadata": {},
   "outputs": [
    {
     "data": {
      "text/plain": [
       "0     Strongly encouraging sign for us.  The T-Wolve...\n",
       "4     Nah. Wigg is on the level of KG but where's ou...\n",
       "9                            I FUCKING LOVE YOU ANDREW \n",
       "10                                   I LOVE YOU WIGGINS\n",
       "33    Yupiii!!!!!! Great Wiggins celebration!!!!! =D...\n",
       "44                         Wiggins on the level of KG?!\n",
       "45    I'm comfortable with saying that Wiggins is as...\n",
       "62       They seem so Wiggins. Did he help design them?\n",
       "63    The more I think about this the more I can und...\n",
       "64    I dig these a lot. Like the AW logo too with t...\n",
       "Name: body, dtype: object"
      ]
     },
     "execution_count": 11,
     "metadata": {},
     "output_type": "execute_result"
    }
   ],
   "source": [
    "comments[comments.str.lower().str.contains(\"wigg|drew\")].head(10)"
   ]
  },
  {
   "cell_type": "code",
   "execution_count": 14,
   "metadata": {},
   "outputs": [
    {
     "data": {
      "text/plain": [
       "0.06649063850216035"
      ]
     },
     "execution_count": 14,
     "metadata": {},
     "output_type": "execute_result"
    }
   ],
   "source": [
    "float(len(comments[comments.str.lower().str.contains(\"wigg|drew\")])) / len(comments)"
   ]
  },
  {
   "cell_type": "code",
   "execution_count": 16,
   "metadata": {},
   "outputs": [
    {
     "data": {
      "text/plain": [
       "0     Strongly encouraging sign for us.  The T-Wolve...\n",
       "1     [My reaction.](http://4.bp.blogspot.com/-3ySob...\n",
       "2                      http://imgur.com/gallery/Zch2AWw\n",
       "3     Wolves have more talent than they ever had rig...\n",
       "4     Nah. Wigg is on the level of KG but where's ou...\n",
       "5            2004 was a pretty damn talented team dude.\n",
       "7                                               *swoon*\n",
       "8                             Is Joe Smith available..?\n",
       "9                            I FUCKING LOVE YOU ANDREW \n",
       "10                                   I LOVE YOU WIGGINS\n",
       "Name: body, dtype: object"
      ]
     },
     "execution_count": 16,
     "metadata": {},
     "output_type": "execute_result"
    }
   ],
   "source": [
    "comments[comments.str.contains(\"\\w\")].head(10)"
   ]
  },
  {
   "cell_type": "code",
   "execution_count": 20,
   "metadata": {},
   "outputs": [
    {
     "data": {
      "text/plain": [
       "0    2\n",
       "1    0\n",
       "2    0\n",
       "3    1\n",
       "4    0\n",
       "5    0\n",
       "6    0\n",
       "7    0\n",
       "8    0\n",
       "9    0\n",
       "Name: body, dtype: int64"
      ]
     },
     "execution_count": 20,
     "metadata": {},
     "output_type": "execute_result"
    }
   ],
   "source": [
    "comments.str.count(r\"[Ww]olves\").head(10)"
   ]
  },
  {
   "cell_type": "code",
   "execution_count": 21,
   "metadata": {},
   "outputs": [
    {
     "data": {
      "text/plain": [
       "0                                   []\n",
       "1    [4, 3, 3, 8, 6, 8, 1, 6, 0, 0, 2]\n",
       "2                                  [2]\n",
       "3                                   []\n",
       "4                                   []\n",
       "5                         [2, 0, 0, 4]\n",
       "6                                   []\n",
       "7                                   []\n",
       "8                                   []\n",
       "9                                   []\n",
       "Name: body, dtype: object"
      ]
     },
     "execution_count": 21,
     "metadata": {},
     "output_type": "execute_result"
    }
   ],
   "source": [
    "comments.str.findall(r\"[0-9]\").head(10)"
   ]
  },
  {
   "cell_type": "code",
   "execution_count": 24,
   "metadata": {},
   "outputs": [
    {
     "data": {
      "text/plain": [
       "1     [My reaction.](http://4.bp.blogspot.com/-3ySob...\n",
       "2                      http://imgur.com/gallery/Zch2AWw\n",
       "25    [January 4th, 2005 - 47 Pts, 17 Rebs](https://...\n",
       "29    [You're right.](http://espn.go.com/nba/noteboo...\n",
       "34    https://www.youtube.com/watch?v=K1VtZht_8t4\\n\\...\n",
       "40    [You son of a bitch...](https://www.youtube.co...\n",
       "69    https://instagram.com/p/2HWfB3o8rK/\\n\\nThe map...\n",
       "76    [Part 2](https://www.youtube.com/watch?v=524h4...\n",
       "93    How about this?\\n\\nhttp://i.imgur.com/OrjShZv.jpg\n",
       "95    The logo in the middle was fine, this one is t...\n",
       "Name: body, dtype: object"
      ]
     },
     "execution_count": 24,
     "metadata": {},
     "output_type": "execute_result"
    }
   ],
   "source": [
    "comments[comments.str.contains(r\"https?\")].head(10)"
   ]
  },
  {
   "cell_type": "code",
   "execution_count": 25,
   "metadata": {},
   "outputs": [
    {
     "data": {
      "text/plain": [
       "216"
      ]
     },
     "execution_count": 25,
     "metadata": {},
     "output_type": "execute_result"
    }
   ],
   "source": [
    "len(comments[comments.str.contains(r\"https?\")])"
   ]
  },
  {
   "cell_type": "code",
   "execution_count": 30,
   "metadata": {},
   "outputs": [
    {
     "data": {
      "text/plain": [
       "1     [http://4.bp.blogspot.com/-3ySobv38ihc/U6yxpPw...\n",
       "2                    [http://imgur.com/gallery/Zch2AWw]\n",
       "25    [https://www.youtube.com/watch?v=iLRsJ9gcW0Y, ...\n",
       "29    [http://espn.go.com/nba/notebook/_/page/ROY141...\n",
       "34        [https://www.youtube.com/watch?v=K1VtZht_8t4]\n",
       "40        [https://www.youtube.com/watch?v=mFEzW1Z6TRM]\n",
       "69                [https://instagram.com/p/2HWfB3o8rK/]\n",
       "76    [https://www.youtube.com/watch?v=524h48CWlMc&a...\n",
       "93                     [http://i.imgur.com/OrjShZv.jpg]\n",
       "95    [http://content.sportslogos.net/logos/6/232/fu...\n",
       "Name: body, dtype: object"
      ]
     },
     "execution_count": 30,
     "metadata": {},
     "output_type": "execute_result"
    }
   ],
   "source": [
    "comments[comments.str.contains(r\"https?\")].str.findall(r\"https?:[^ ^\\n\\)]+\").head(10)"
   ]
  }
 ],
 "metadata": {
  "kernelspec": {
   "display_name": "Python 2",
   "language": "python",
   "name": "python2"
  },
  "language_info": {
   "codemirror_mode": {
    "name": "ipython",
    "version": 2
   },
   "file_extension": ".py",
   "mimetype": "text/x-python",
   "name": "python",
   "nbconvert_exporter": "python",
   "pygments_lexer": "ipython2",
   "version": "2.7.13"
  }
 },
 "nbformat": 4,
 "nbformat_minor": 2
}
