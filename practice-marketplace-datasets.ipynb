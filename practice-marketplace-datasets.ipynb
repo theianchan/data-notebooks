{
 "cells": [
  {
   "cell_type": "markdown",
   "metadata": {},
   "source": [
    "## Problem"
   ]
  },
  {
   "cell_type": "markdown",
   "metadata": {},
   "source": [
    "I want to practice SQL and Python on datasets resembling what I might encounter at a marketplace company like Uber, Lyft, or Doordash. The 538 [Uber Pickups in New York City](https://www.kaggle.com/fivethirtyeight/uber-pickups-in-new-york-city/data) dataset exists, but contains mostly location data:"
   ]
  },
  {
   "cell_type": "code",
   "execution_count": 1,
   "metadata": {
    "collapsed": true
   },
   "outputs": [],
   "source": [
    "import pandas as pd"
   ]
  },
  {
   "cell_type": "code",
   "execution_count": 2,
   "metadata": {},
   "outputs": [
    {
     "data": {
      "text/html": [
       "<div>\n",
       "<style>\n",
       "    .dataframe thead tr:only-child th {\n",
       "        text-align: right;\n",
       "    }\n",
       "\n",
       "    .dataframe thead th {\n",
       "        text-align: left;\n",
       "    }\n",
       "\n",
       "    .dataframe tbody tr th {\n",
       "        vertical-align: top;\n",
       "    }\n",
       "</style>\n",
       "<table border=\"1\" class=\"dataframe\">\n",
       "  <thead>\n",
       "    <tr style=\"text-align: right;\">\n",
       "      <th></th>\n",
       "      <th>dispatching_base_number</th>\n",
       "      <th>date</th>\n",
       "      <th>active_vehicles</th>\n",
       "      <th>trips</th>\n",
       "    </tr>\n",
       "  </thead>\n",
       "  <tbody>\n",
       "    <tr>\n",
       "      <th>0</th>\n",
       "      <td>B02512</td>\n",
       "      <td>2015-01-01</td>\n",
       "      <td>190</td>\n",
       "      <td>1132</td>\n",
       "    </tr>\n",
       "    <tr>\n",
       "      <th>1</th>\n",
       "      <td>B02765</td>\n",
       "      <td>2015-01-01</td>\n",
       "      <td>225</td>\n",
       "      <td>1765</td>\n",
       "    </tr>\n",
       "    <tr>\n",
       "      <th>2</th>\n",
       "      <td>B02764</td>\n",
       "      <td>2015-01-01</td>\n",
       "      <td>3427</td>\n",
       "      <td>29421</td>\n",
       "    </tr>\n",
       "  </tbody>\n",
       "</table>\n",
       "</div>"
      ],
      "text/plain": [
       "  dispatching_base_number       date  active_vehicles  trips\n",
       "0                  B02512 2015-01-01              190   1132\n",
       "1                  B02765 2015-01-01              225   1765\n",
       "2                  B02764 2015-01-01             3427  29421"
      ]
     },
     "execution_count": 2,
     "metadata": {},
     "output_type": "execute_result"
    }
   ],
   "source": [
    "foil_538 = pd.read_csv(\"data/uber/uber-foil.csv\", parse_dates=[\"date\"])\n",
    "foil_538.head(3)"
   ]
  },
  {
   "cell_type": "code",
   "execution_count": 3,
   "metadata": {},
   "outputs": [
    {
     "data": {
      "text/html": [
       "<div>\n",
       "<style>\n",
       "    .dataframe thead tr:only-child th {\n",
       "        text-align: right;\n",
       "    }\n",
       "\n",
       "    .dataframe thead th {\n",
       "        text-align: left;\n",
       "    }\n",
       "\n",
       "    .dataframe tbody tr th {\n",
       "        vertical-align: top;\n",
       "    }\n",
       "</style>\n",
       "<table border=\"1\" class=\"dataframe\">\n",
       "  <thead>\n",
       "    <tr style=\"text-align: right;\">\n",
       "      <th></th>\n",
       "      <th>Date/Time</th>\n",
       "      <th>Lat</th>\n",
       "      <th>Lon</th>\n",
       "      <th>Base</th>\n",
       "    </tr>\n",
       "  </thead>\n",
       "  <tbody>\n",
       "    <tr>\n",
       "      <th>0</th>\n",
       "      <td>2014-04-01 00:11:00</td>\n",
       "      <td>40.7690</td>\n",
       "      <td>-73.9549</td>\n",
       "      <td>B02512</td>\n",
       "    </tr>\n",
       "    <tr>\n",
       "      <th>1</th>\n",
       "      <td>2014-04-01 00:17:00</td>\n",
       "      <td>40.7267</td>\n",
       "      <td>-74.0345</td>\n",
       "      <td>B02512</td>\n",
       "    </tr>\n",
       "    <tr>\n",
       "      <th>2</th>\n",
       "      <td>2014-04-01 00:21:00</td>\n",
       "      <td>40.7316</td>\n",
       "      <td>-73.9873</td>\n",
       "      <td>B02512</td>\n",
       "    </tr>\n",
       "  </tbody>\n",
       "</table>\n",
       "</div>"
      ],
      "text/plain": [
       "            Date/Time      Lat      Lon    Base\n",
       "0 2014-04-01 00:11:00  40.7690 -73.9549  B02512\n",
       "1 2014-04-01 00:17:00  40.7267 -74.0345  B02512\n",
       "2 2014-04-01 00:21:00  40.7316 -73.9873  B02512"
      ]
     },
     "execution_count": 3,
     "metadata": {},
     "output_type": "execute_result"
    }
   ],
   "source": [
    "dapr_538 = pd.read_csv(\"data/uber/uber-raw-apr14.csv\", parse_dates=[\"Date/Time\"])\n",
    "dapr_538.head(3)"
   ]
  },
  {
   "cell_type": "markdown",
   "metadata": {},
   "source": [
    "## Solution"
   ]
  },
  {
   "cell_type": "markdown",
   "metadata": {},
   "source": [
    "Generate an entire universe of simulated data. Duh.\n",
    "\n",
    "In this universe, our ridesharing data exists in four tables:\n",
    "\n",
    "**trips**\n",
    "\n",
    "* id - integer\n",
    "* pilot - integer\n",
    "* passenger - integer\n",
    "* planet - id\n",
    "* trip_completed - boolean\n",
    "* trip_requested - timestamp\n",
    "* trip_started - timestamp\n",
    "* trip_ended - timestamp\n",
    "* price - integer\n",
    "* pilot_rating - integer\n",
    "* passenger_rating - integer\n",
    "\n",
    "**planets**\n",
    "\n",
    "* id - integer\n",
    "* name - string\n",
    "\n",
    "**pilots**\n",
    "\n",
    "* id - integer\n",
    "* rating - integer\n",
    "* banned - boolean\n",
    "* created - timestamp\n",
    "\n",
    "**passengers**\n",
    "\n",
    "* id - integer\n",
    "* rating - integer\n",
    "* banned - boolean\n",
    "* created - timestamp\n",
    "\n",
    "Yes, when I said \"universe\" I meant it literally."
   ]
  },
  {
   "cell_type": "markdown",
   "metadata": {},
   "source": [
    "## Planets"
   ]
  },
  {
   "cell_type": "markdown",
   "metadata": {},
   "source": [
    "Let's start with planets, which seems like it should be pretty easy."
   ]
  },
  {
   "cell_type": "code",
   "execution_count": 4,
   "metadata": {
    "collapsed": true
   },
   "outputs": [],
   "source": [
    "planets = [\"Alderaan\", \"Chandrila\", \"Corellia\", \"Coruscant\", \"Duro\", \"Hosnian Prime\", \"Kuat\"]"
   ]
  },
  {
   "cell_type": "markdown",
   "metadata": {},
   "source": [
    "I know that I'm listing core worlds only, and I can already hear your accusations about my liberal core world elitism, but the reality is that worlds in the outer rim simply don't have the infrastructure to support ridesharing on the scale we're interested in. \n",
    "\n",
    "Pilots and passengers do occasionally arrange shared rides within and between systems, but these trips are usually negotiated in a more informal setting like, for example, a cantina."
   ]
  },
  {
   "cell_type": "code",
   "execution_count": 5,
   "metadata": {},
   "outputs": [
    {
     "data": {
      "text/html": [
       "<div>\n",
       "<style>\n",
       "    .dataframe thead tr:only-child th {\n",
       "        text-align: right;\n",
       "    }\n",
       "\n",
       "    .dataframe thead th {\n",
       "        text-align: left;\n",
       "    }\n",
       "\n",
       "    .dataframe tbody tr th {\n",
       "        vertical-align: top;\n",
       "    }\n",
       "</style>\n",
       "<table border=\"1\" class=\"dataframe\">\n",
       "  <thead>\n",
       "    <tr style=\"text-align: right;\">\n",
       "      <th></th>\n",
       "      <th>name</th>\n",
       "    </tr>\n",
       "  </thead>\n",
       "  <tbody>\n",
       "    <tr>\n",
       "      <th>0</th>\n",
       "      <td>Alderaan</td>\n",
       "    </tr>\n",
       "    <tr>\n",
       "      <th>1</th>\n",
       "      <td>Chandrila</td>\n",
       "    </tr>\n",
       "    <tr>\n",
       "      <th>2</th>\n",
       "      <td>Corellia</td>\n",
       "    </tr>\n",
       "    <tr>\n",
       "      <th>3</th>\n",
       "      <td>Coruscant</td>\n",
       "    </tr>\n",
       "    <tr>\n",
       "      <th>4</th>\n",
       "      <td>Duro</td>\n",
       "    </tr>\n",
       "    <tr>\n",
       "      <th>5</th>\n",
       "      <td>Hosnian Prime</td>\n",
       "    </tr>\n",
       "    <tr>\n",
       "      <th>6</th>\n",
       "      <td>Kuat</td>\n",
       "    </tr>\n",
       "  </tbody>\n",
       "</table>\n",
       "</div>"
      ],
      "text/plain": [
       "            name\n",
       "0       Alderaan\n",
       "1      Chandrila\n",
       "2       Corellia\n",
       "3      Coruscant\n",
       "4           Duro\n",
       "5  Hosnian Prime\n",
       "6           Kuat"
      ]
     },
     "execution_count": 5,
     "metadata": {},
     "output_type": "execute_result"
    }
   ],
   "source": [
    "df_planets = pd.DataFrame({\"name\": planets})\n",
    "df_planets"
   ]
  },
  {
   "cell_type": "markdown",
   "metadata": {},
   "source": [
    "## Pilots"
   ]
  },
  {
   "cell_type": "markdown",
   "metadata": {},
   "source": [
    "Let's say that we have about 100 pilots in our system. Pilot maintain a rating between 1 and 5 stars. Just like in our world, passengers in our simulated universe tend to be pretty nice when rating pilots, so a distribution of pilot ratings would be skewed towards the higher end: "
   ]
  },
  {
   "cell_type": "code",
   "execution_count": 6,
   "metadata": {
    "collapsed": true
   },
   "outputs": [],
   "source": [
    "%matplotlib inline\n",
    "import numpy as np\n",
    "import scipy.stats as stats"
   ]
  },
  {
   "cell_type": "code",
   "execution_count": 7,
   "metadata": {},
   "outputs": [],
   "source": [
    "pilot_ratings = np.concatenate((\n",
    "    stats.norm.rvs(loc=4.5, scale=0.3, size=70),\n",
    "    stats.skewnorm.rvs(a=-1, loc=4, scale=1, size=30)\n",
    ")).clip(0.01, 4.99)\n",
    "\n",
    "df_pilots = pd.DataFrame({\"rating\" : pilot_ratings}, index=[range(len(pilot_ratings))])"
   ]
  },
  {
   "cell_type": "code",
   "execution_count": 43,
   "metadata": {},
   "outputs": [
    {
     "data": {
      "image/png": "[encoded data removed]",
      "text/plain": [
       "<matplotlib.figure.Figure at 0x111281450>"
      ]
     },
     "metadata": {},
     "output_type": "display_data"
    }
   ],
   "source": [
    "_ = df_pilots[\"rating\"].plot(kind=\"hist\", bins=11)"
   ]
  },
  {
   "cell_type": "markdown",
   "metadata": {},
   "source": [
    "Next, some portion of pilots have been banned from our system. Pilots with low ratings are more likely to be banned:"
   ]
  },
  {
   "cell_type": "code",
   "execution_count": 9,
   "metadata": {},
   "outputs": [],
   "source": [
    "df_pilots[\"banned\"] = 0\n",
    "\n",
    "pct_75 = df_pilots[\"rating\"].quantile(0.75)\n",
    "pct_50 = df_pilots[\"rating\"].quantile(0.50)\n",
    "\n",
    "pilots_abv_75th_pct = (df_pilots[\"rating\"] >= pct_75)\n",
    "pilots_abv_50th_pct = ((df_pilots[\"rating\"] >= pct_50) & (df_pilots[\"rating\"] < pct_75))\n",
    "pilots_blw_50th_pct = (df_pilots[\"rating\"] < pct_50)\n",
    "\n",
    "df_pilots.loc[pilots_abv_75th_pct, \"banned\"] = np.random.choice([1, 0], size=25, p=[0.05, 0.95])\n",
    "df_pilots.loc[pilots_abv_50th_pct, \"banned\"] = np.random.choice([1, 0], size=25, p=[0.10, 0.90]) \n",
    "df_pilots.loc[pilots_blw_50th_pct, \"banned\"] = np.random.choice([1, 0], size=50, p=[0.15, 0.85]) "
   ]
  },
  {
   "cell_type": "code",
   "execution_count": 10,
   "metadata": {
    "collapsed": true
   },
   "outputs": [],
   "source": [
    "# do a stacked histogram here"
   ]
  },
  {
   "cell_type": "markdown",
   "metadata": {},
   "source": [
    "And finally, let's uniformly distribute the `created` time for each pilot throughout 2017 (yes, our simulated universe runs entirely on UTC it's quite remarkable):"
   ]
  },
  {
   "cell_type": "code",
   "execution_count": 11,
   "metadata": {
    "collapsed": true
   },
   "outputs": [],
   "source": [
    "import datetime, random"
   ]
  },
  {
   "cell_type": "code",
   "execution_count": 12,
   "metadata": {},
   "outputs": [],
   "source": [
    "def timestamps_between(start, end, size):\n",
    "    ts_start = int((start - datetime.datetime(1970, 1, 1)).total_seconds())\n",
    "    duration = int((end - start).total_seconds())\n",
    "    return np.array(random.sample(xrange(int(duration)), size)) + ts_start"
   ]
  },
  {
   "cell_type": "code",
   "execution_count": 13,
   "metadata": {
    "collapsed": true
   },
   "outputs": [],
   "source": [
    "str_2017 = datetime.datetime(2017, 1, 1, 0, 0, 0)\n",
    "end_2017 = datetime.datetime(2017, 12, 31, 23, 59, 59)"
   ]
  },
  {
   "cell_type": "code",
   "execution_count": 14,
   "metadata": {},
   "outputs": [],
   "source": [
    "pilot_timestamps = timestamps_between(str_2017, end_2017, 100)\n",
    "df_pilots[\"created\"] = pilot_timestamps"
   ]
  },
  {
   "cell_type": "code",
   "execution_count": 15,
   "metadata": {},
   "outputs": [
    {
     "data": {
      "image/png": "[encoded data removed]",
      "text/plain": [
       "<matplotlib.figure.Figure at 0x10d46a750>"
      ]
     },
     "metadata": {},
     "output_type": "display_data"
    }
   ],
   "source": [
    "_ = df_pilots[\"created\"].plot(kind=\"density\")"
   ]
  },
  {
   "cell_type": "code",
   "execution_count": 16,
   "metadata": {},
   "outputs": [
    {
     "data": {
      "text/html": [
       "<div>\n",
       "<style>\n",
       "    .dataframe thead tr:only-child th {\n",
       "        text-align: right;\n",
       "    }\n",
       "\n",
       "    .dataframe thead th {\n",
       "        text-align: left;\n",
       "    }\n",
       "\n",
       "    .dataframe tbody tr th {\n",
       "        vertical-align: top;\n",
       "    }\n",
       "</style>\n",
       "<table border=\"1\" class=\"dataframe\">\n",
       "  <thead>\n",
       "    <tr style=\"text-align: right;\">\n",
       "      <th></th>\n",
       "      <th>rating</th>\n",
       "      <th>banned</th>\n",
       "      <th>created</th>\n",
       "    </tr>\n",
       "  </thead>\n",
       "  <tbody>\n",
       "    <tr>\n",
       "      <th>0</th>\n",
       "      <td>4.907038</td>\n",
       "      <td>0</td>\n",
       "      <td>1502025346</td>\n",
       "    </tr>\n",
       "    <tr>\n",
       "      <th>1</th>\n",
       "      <td>4.089292</td>\n",
       "      <td>0</td>\n",
       "      <td>1503467860</td>\n",
       "    </tr>\n",
       "    <tr>\n",
       "      <th>2</th>\n",
       "      <td>4.870246</td>\n",
       "      <td>0</td>\n",
       "      <td>1497169652</td>\n",
       "    </tr>\n",
       "  </tbody>\n",
       "</table>\n",
       "</div>"
      ],
      "text/plain": [
       "     rating  banned     created\n",
       "0  4.907038       0  1502025346\n",
       "1  4.089292       0  1503467860\n",
       "2  4.870246       0  1497169652"
      ]
     },
     "execution_count": 16,
     "metadata": {},
     "output_type": "execute_result"
    }
   ],
   "source": [
    "df_pilots.head(3)"
   ]
  },
  {
   "cell_type": "markdown",
   "metadata": {},
   "source": [
    "Nice!"
   ]
  },
  {
   "cell_type": "markdown",
   "metadata": {},
   "source": [
    "## Passengers"
   ]
  },
  {
   "cell_type": "markdown",
   "metadata": {},
   "source": [
    "We're going to do the same for our 1,000 passengers, but relax the skew in the distribution of their ratings:"
   ]
  },
  {
   "cell_type": "code",
   "execution_count": 17,
   "metadata": {
    "collapsed": true
   },
   "outputs": [],
   "source": [
    "passenger_ratings = np.concatenate((\n",
    "    stats.norm.rvs(loc=4.5, scale=0.3, size=500),\n",
    "    stats.skewnorm.rvs(a=-1, loc=4, scale=1, size=500)\n",
    ")).clip(0.01, 4.99)\n",
    "\n",
    "df_passengers = pd.DataFrame({\"rating\" : passenger_ratings}, index=[range(len(passenger_ratings))])"
   ]
  },
  {
   "cell_type": "code",
   "execution_count": 18,
   "metadata": {},
   "outputs": [
    {
     "data": {
      "image/png": "[encoded data removed]",
      "text/plain": [
       "<matplotlib.figure.Figure at 0x10d8d7510>"
      ]
     },
     "metadata": {},
     "output_type": "display_data"
    }
   ],
   "source": [
    "_ = df_passengers[\"rating\"].plot(kind=\"hist\", bins=11)"
   ]
  },
  {
   "cell_type": "markdown",
   "metadata": {},
   "source": [
    "We'll also slightly reduce the probability of a passenger having been banned from the service:"
   ]
  },
  {
   "cell_type": "code",
   "execution_count": 19,
   "metadata": {},
   "outputs": [],
   "source": [
    "df_passengers[\"banned\"] = 0\n",
    "\n",
    "pct_75 = df_passengers[\"rating\"].quantile(0.75)\n",
    "pct_50 = df_passengers[\"rating\"].quantile(0.50)\n",
    "\n",
    "passengers_abv_75th_pct = (df_passengers[\"rating\"] >= pct_75)\n",
    "passengers_abv_50th_pct = ((df_passengers[\"rating\"] >= pct_50) & (df_passengers[\"rating\"] < pct_75))\n",
    "passengers_blw_50th_pct = (df_passengers[\"rating\"] < pct_50)\n",
    "\n",
    "df_passengers.loc[passengers_abv_75th_pct, \"banned\"] = np.random.choice([1, 0], size=250, p=[0.03, 0.97])\n",
    "df_passengers.loc[passengers_abv_50th_pct, \"banned\"] = np.random.choice([1, 0], size=250, p=[0.07, 0.93]) \n",
    "df_passengers.loc[passengers_blw_50th_pct, \"banned\"] = np.random.choice([1, 0], size=500, p=[0.13, 0.87]) "
   ]
  },
  {
   "cell_type": "code",
   "execution_count": 20,
   "metadata": {
    "collapsed": true
   },
   "outputs": [],
   "source": [
    "# stacked histogram!"
   ]
  },
  {
   "cell_type": "code",
   "execution_count": 21,
   "metadata": {},
   "outputs": [],
   "source": [
    "passenger_timestamps = timestamps_between(str_2017, end_2017, 1000)\n",
    "df_passengers[\"created\"] = passenger_timestamps"
   ]
  },
  {
   "cell_type": "code",
   "execution_count": 22,
   "metadata": {},
   "outputs": [
    {
     "data": {
      "image/png": "[encoded data removed]",
      "text/plain": [
       "<matplotlib.figure.Figure at 0x10d9984d0>"
      ]
     },
     "metadata": {},
     "output_type": "display_data"
    }
   ],
   "source": [
    "_ = df_passengers[\"created\"].plot(kind=\"density\")"
   ]
  },
  {
   "cell_type": "code",
   "execution_count": 23,
   "metadata": {},
   "outputs": [
    {
     "data": {
      "text/html": [
       "<div>\n",
       "<style>\n",
       "    .dataframe thead tr:only-child th {\n",
       "        text-align: right;\n",
       "    }\n",
       "\n",
       "    .dataframe thead th {\n",
       "        text-align: left;\n",
       "    }\n",
       "\n",
       "    .dataframe tbody tr th {\n",
       "        vertical-align: top;\n",
       "    }\n",
       "</style>\n",
       "<table border=\"1\" class=\"dataframe\">\n",
       "  <thead>\n",
       "    <tr style=\"text-align: right;\">\n",
       "      <th></th>\n",
       "      <th>rating</th>\n",
       "      <th>banned</th>\n",
       "      <th>created</th>\n",
       "    </tr>\n",
       "  </thead>\n",
       "  <tbody>\n",
       "    <tr>\n",
       "      <th>0</th>\n",
       "      <td>4.672831</td>\n",
       "      <td>0</td>\n",
       "      <td>1507195888</td>\n",
       "    </tr>\n",
       "    <tr>\n",
       "      <th>1</th>\n",
       "      <td>4.513382</td>\n",
       "      <td>0</td>\n",
       "      <td>1489547541</td>\n",
       "    </tr>\n",
       "    <tr>\n",
       "      <th>2</th>\n",
       "      <td>4.088261</td>\n",
       "      <td>0</td>\n",
       "      <td>1490255231</td>\n",
       "    </tr>\n",
       "  </tbody>\n",
       "</table>\n",
       "</div>"
      ],
      "text/plain": [
       "     rating  banned     created\n",
       "0  4.672831       0  1507195888\n",
       "1  4.513382       0  1489547541\n",
       "2  4.088261       0  1490255231"
      ]
     },
     "execution_count": 23,
     "metadata": {},
     "output_type": "execute_result"
    }
   ],
   "source": [
    "df_passengers.head(3)"
   ]
  },
  {
   "cell_type": "markdown",
   "metadata": {},
   "source": [
    "## Trips"
   ]
  },
  {
   "cell_type": "markdown",
   "metadata": {},
   "source": [
    "This is the big one. Let's break it down into its component parts:\n",
    "\n",
    "* id - integer\n",
    "* pilot - integer\n",
    "* passenger - integer\n",
    "* planet - id\n",
    "\n",
    "Let's start by assigning pilots and passengers to planets. For sanity's sake, we'll make the assumption that neither pilots nor passengers ever participate in trips outside their home planets."
   ]
  },
  {
   "cell_type": "code",
   "execution_count": 24,
   "metadata": {},
   "outputs": [],
   "source": [
    "probs_planets = [0.05, 0.03, 0.18, 0.34, 0.10, 0.16, 0.14]"
   ]
  },
  {
   "cell_type": "code",
   "execution_count": 25,
   "metadata": {},
   "outputs": [],
   "source": [
    "pilot_planets = pd.DataFrame({\n",
    "    \"planet\": np.random.choice(df_planets.index, size=len(df_pilots), p=probs_planets)\n",
    "}, index=[range(len(df_pilots))])\n",
    "\n",
    "passenger_planets = pd.DataFrame({\n",
    "    \"planet\": np.random.choice(df_planets.index, size=len(df_passengers), p=probs_planets)\n",
    "}, index=[range(len(df_passengers))])"
   ]
  },
  {
   "cell_type": "markdown",
   "metadata": {},
   "source": [
    "We'll suppose that 40% of our pilots are providing roughly 50% of the 10,000 trips."
   ]
  },
  {
   "cell_type": "code",
   "execution_count": 26,
   "metadata": {},
   "outputs": [],
   "source": [
    "def split_indexes(df, split_size):\n",
    "    a = np.random.choice(df.index, size=split_size, replace=False)\n",
    "    b = np.array(df.copy().drop(a).index)\n",
    "    return a, b"
   ]
  },
  {
   "cell_type": "code",
   "execution_count": 27,
   "metadata": {},
   "outputs": [],
   "source": [
    "pilots_40_idx, pilots_60_idx = split_indexes(df_pilots, 40)\n",
    "\n",
    "trip_pilots = np.concatenate((\n",
    "    np.random.choice(pilots_40_idx, size=5000, replace=True),\n",
    "    np.random.choice(pilots_60_idx, size=5000, replace=True)\n",
    "))\n",
    "\n",
    "df_trips = pd.DataFrame({\"pilot\": trip_pilots}, index=[range(len(trip_pilots))])"
   ]
  },
  {
   "cell_type": "markdown",
   "metadata": {},
   "source": [
    "Which gives us a wonky-looking bimodal distribution for trips per pilot:"
   ]
  },
  {
   "cell_type": "code",
   "execution_count": 28,
   "metadata": {},
   "outputs": [
    {
     "data": {
      "image/png": "[encoded data removed]",
      "text/plain": [
       "<matplotlib.figure.Figure at 0x10dbe44d0>"
      ]
     },
     "metadata": {},
     "output_type": "display_data"
    }
   ],
   "source": [
    "_ = pd.DataFrame(df_trips[\"pilot\"].value_counts()).plot(kind=\"hist\", bins=11)"
   ]
  },
  {
   "cell_type": "markdown",
   "metadata": {},
   "source": [
    "Now let's assign a planet to each trip depending on the pilot's planet:"
   ]
  },
  {
   "cell_type": "code",
   "execution_count": 29,
   "metadata": {},
   "outputs": [],
   "source": [
    "df_trips = pd.merge(df_trips, pilot_planets, how=\"left\", left_on=\"pilot\", right_index=True)"
   ]
  },
  {
   "cell_type": "markdown",
   "metadata": {},
   "source": [
    "Now we can assign passengers to trips that took place on their planet."
   ]
  },
  {
   "cell_type": "code",
   "execution_count": 31,
   "metadata": {},
   "outputs": [],
   "source": [
    "df_trips[\"passenger\"] = None\n",
    "for idx, row in df_trips.iterrows():\n",
    "    passengers_from_planet = passenger_planets[passenger_planets[\"planet\"] == row[\"planet\"]]\n",
    "    df_trips.loc[idx, \"passenger\"] = row[\"passenger\"] = np.random.choice(passengers_from_planet.index)"
   ]
  },
  {
   "cell_type": "markdown",
   "metadata": {},
   "source": [
    "And the way we do this results in a more normal-looking distribution:"
   ]
  },
  {
   "cell_type": "code",
   "execution_count": 44,
   "metadata": {},
   "outputs": [
    {
     "data": {
      "image/png": "[encoded data removed]",
      "text/plain": [
       "<matplotlib.figure.Figure at 0x1112413d0>"
      ]
     },
     "metadata": {},
     "output_type": "display_data"
    }
   ],
   "source": [
    "_ = pd.DataFrame(df_trips[\"passenger\"].value_counts()).plot(kind=\"hist\", bins=11)"
   ]
  },
  {
   "cell_type": "code",
   "execution_count": 30,
   "metadata": {},
   "outputs": [
    {
     "data": {
      "text/html": [
       "<div>\n",
       "<style>\n",
       "    .dataframe thead tr:only-child th {\n",
       "        text-align: right;\n",
       "    }\n",
       "\n",
       "    .dataframe thead th {\n",
       "        text-align: left;\n",
       "    }\n",
       "\n",
       "    .dataframe tbody tr th {\n",
       "        vertical-align: top;\n",
       "    }\n",
       "</style>\n",
       "<table border=\"1\" class=\"dataframe\">\n",
       "  <thead>\n",
       "    <tr style=\"text-align: right;\">\n",
       "      <th></th>\n",
       "      <th>pilot</th>\n",
       "      <th>planet</th>\n",
       "    </tr>\n",
       "  </thead>\n",
       "  <tbody>\n",
       "    <tr>\n",
       "      <th>0</th>\n",
       "      <td>4</td>\n",
       "      <td>5</td>\n",
       "    </tr>\n",
       "    <tr>\n",
       "      <th>1</th>\n",
       "      <td>23</td>\n",
       "      <td>2</td>\n",
       "    </tr>\n",
       "    <tr>\n",
       "      <th>2</th>\n",
       "      <td>55</td>\n",
       "      <td>6</td>\n",
       "    </tr>\n",
       "  </tbody>\n",
       "</table>\n",
       "</div>"
      ],
      "text/plain": [
       "   pilot  planet\n",
       "0      4       5\n",
       "1     23       2\n",
       "2     55       6"
      ]
     },
     "execution_count": 30,
     "metadata": {},
     "output_type": "execute_result"
    }
   ],
   "source": [
    "df_trips.head(3)"
   ]
  },
  {
   "cell_type": "markdown",
   "metadata": {},
   "source": [
    "* trip_completed - boolean\n",
    "* trip_requested - timestamp\n",
    "* trip_started - timestamp\n",
    "* trip_ended - timestamp\n",
    "\n",
    "Let's say the likelihood of a trip being completed is uniform across the population of trips."
   ]
  },
  {
   "cell_type": "code",
   "execution_count": 33,
   "metadata": {},
   "outputs": [],
   "source": [
    "trips_completed = stats.binom.rvs(n=1, p=0.95, size=len(df_trips))\n",
    "df_trips[\"trip_completed\"] = trips_completed"
   ]
  },
  {
   "cell_type": "markdown",
   "metadata": {},
   "source": [
    "A trip can only be requested after both the pilot and passenger's accounts have been created."
   ]
  },
  {
   "cell_type": "code",
   "execution_count": 50,
   "metadata": {},
   "outputs": [],
   "source": [
    "max_trip = int((end_2017 - datetime.datetime(1970, 1, 1)).total_seconds())"
   ]
  },
  {
   "cell_type": "code",
   "execution_count": 81,
   "metadata": {},
   "outputs": [],
   "source": [
    "for idx, row in df_trips.iterrows():\n",
    "    \n",
    "    pilot_created = df_pilots.loc[row[\"pilot\"], \"created\"]\n",
    "    passenger_created = df_passengers.loc[row[\"passenger\"], \"created\"]\n",
    "    min_trip = max(pilot_created, passenger_created)\n",
    "    \n",
    "    df_trips.loc[idx, \"trip_requested\"] = np.random.randint(min_trip, max_trip) + min_trip"
   ]
  },
  {
   "cell_type": "markdown",
   "metadata": {},
   "source": [
    "Remember that pilot and passenger account creation is distributed uniformly throughout the year. This means that trips become more likely to take place as the year goes on:"
   ]
  },
  {
   "cell_type": "code",
   "execution_count": 87,
   "metadata": {
    "scrolled": true
   },
   "outputs": [
    {
     "data": {
      "image/png": "[encoded data removed]",
      "text/plain": [
       "<matplotlib.figure.Figure at 0x10d85ae90>"
      ]
     },
     "metadata": {},
     "output_type": "display_data"
    }
   ],
   "source": [
    "_ = df_trips.trip_requested.plot(kind=\"hist\", bins=11)"
   ]
  },
  {
   "cell_type": "markdown",
   "metadata": {},
   "source": [
    "Trips start between 1-15 minutes after they are requested."
   ]
  },
  {
   "cell_type": "code",
   "execution_count": 94,
   "metadata": {},
   "outputs": [],
   "source": [
    "for idx, row in df_trips.iterrows():\n",
    "    df_trips.loc[idx, \"trip_started\"] = row[\"trip_requested\"] + np.random.randint(60, 60 * 15)"
   ]
  },
  {
   "cell_type": "markdown",
   "metadata": {},
   "source": [
    "And end between 5-60 minutes after they start."
   ]
  },
  {
   "cell_type": "code",
   "execution_count": 95,
   "metadata": {
    "collapsed": true
   },
   "outputs": [],
   "source": [
    "for idx, row in df_trips.iterrows():\n",
    "    df_trips.loc[idx, \"trip_ended\"] = row[\"trip_started\"] + np.random.randint(60 * 5, 60 * 60)"
   ]
  },
  {
   "cell_type": "markdown",
   "metadata": {},
   "source": [
    "Trips can have a start and end time without having been completed. What we don't want is for any pilot or passenger to start a trip while they have a trip ongoing."
   ]
  },
  {
   "cell_type": "code",
   "execution_count": null,
   "metadata": {
    "collapsed": true
   },
   "outputs": [],
   "source": []
  },
  {
   "cell_type": "code",
   "execution_count": 96,
   "metadata": {},
   "outputs": [
    {
     "data": {
      "text/html": [
       "<div>\n",
       "<style>\n",
       "    .dataframe thead tr:only-child th {\n",
       "        text-align: right;\n",
       "    }\n",
       "\n",
       "    .dataframe thead th {\n",
       "        text-align: left;\n",
       "    }\n",
       "\n",
       "    .dataframe tbody tr th {\n",
       "        vertical-align: top;\n",
       "    }\n",
       "</style>\n",
       "<table border=\"1\" class=\"dataframe\">\n",
       "  <thead>\n",
       "    <tr style=\"text-align: right;\">\n",
       "      <th></th>\n",
       "      <th>pilot</th>\n",
       "      <th>planet</th>\n",
       "      <th>passenger</th>\n",
       "      <th>trip_completed</th>\n",
       "      <th>trip_requested</th>\n",
       "      <th>trip_started</th>\n",
       "      <th>trip_ended</th>\n",
       "    </tr>\n",
       "  </thead>\n",
       "  <tbody>\n",
       "    <tr>\n",
       "      <th>0</th>\n",
       "      <td>4</td>\n",
       "      <td>5</td>\n",
       "      <td>141</td>\n",
       "      <td>1</td>\n",
       "      <td>2.991225e+09</td>\n",
       "      <td>2.991226e+09</td>\n",
       "      <td>2.991227e+09</td>\n",
       "    </tr>\n",
       "    <tr>\n",
       "      <th>1</th>\n",
       "      <td>23</td>\n",
       "      <td>2</td>\n",
       "      <td>455</td>\n",
       "      <td>1</td>\n",
       "      <td>3.025888e+09</td>\n",
       "      <td>3.025889e+09</td>\n",
       "      <td>3.025891e+09</td>\n",
       "    </tr>\n",
       "    <tr>\n",
       "      <th>2</th>\n",
       "      <td>55</td>\n",
       "      <td>6</td>\n",
       "      <td>13</td>\n",
       "      <td>1</td>\n",
       "      <td>3.002399e+09</td>\n",
       "      <td>3.002399e+09</td>\n",
       "      <td>3.002401e+09</td>\n",
       "    </tr>\n",
       "  </tbody>\n",
       "</table>\n",
       "</div>"
      ],
      "text/plain": [
       "   pilot  planet passenger  trip_completed  trip_requested  trip_started  \\\n",
       "0      4       5       141               1    2.991225e+09  2.991226e+09   \n",
       "1     23       2       455               1    3.025888e+09  3.025889e+09   \n",
       "2     55       6        13               1    3.002399e+09  3.002399e+09   \n",
       "\n",
       "     trip_ended  \n",
       "0  2.991227e+09  \n",
       "1  3.025891e+09  \n",
       "2  3.002401e+09  "
      ]
     },
     "execution_count": 96,
     "metadata": {},
     "output_type": "execute_result"
    }
   ],
   "source": [
    "df_trips.head(3)"
   ]
  },
  {
   "cell_type": "markdown",
   "metadata": {},
   "source": [
    "* price - integer\n",
    "* pilot_rating - integer\n",
    "* passenger_rating - integer\n",
    "\n",
    "Price is determined from the duration of the trip, and is slightly higher if the trip takes place during daylight hours."
   ]
  },
  {
   "cell_type": "code",
   "execution_count": null,
   "metadata": {
    "collapsed": true
   },
   "outputs": [],
   "source": []
  },
  {
   "cell_type": "markdown",
   "metadata": {},
   "source": [
    "We can use the same quantile groups to randomly assign a trip rating to pilots:"
   ]
  },
  {
   "cell_type": "code",
   "execution_count": null,
   "metadata": {
    "collapsed": true
   },
   "outputs": [],
   "source": []
  },
  {
   "cell_type": "markdown",
   "metadata": {},
   "source": [
    "As well as passengers:"
   ]
  },
  {
   "cell_type": "code",
   "execution_count": null,
   "metadata": {
    "collapsed": true
   },
   "outputs": [],
   "source": []
  },
  {
   "cell_type": "markdown",
   "metadata": {},
   "source": [
    "We have our datasets! SUCH BEAUTIES."
   ]
  },
  {
   "cell_type": "code",
   "execution_count": null,
   "metadata": {
    "collapsed": true
   },
   "outputs": [],
   "source": []
  },
  {
   "cell_type": "markdown",
   "metadata": {},
   "source": [
    "What kinds of questions can we try to answer with them?"
   ]
  },
  {
   "cell_type": "code",
   "execution_count": null,
   "metadata": {
    "collapsed": true
   },
   "outputs": [],
   "source": []
  }
 ],
 "metadata": {
  "kernelspec": {
   "display_name": "Python 2",
   "language": "python",
   "name": "python2"
  },
  "language_info": {
   "codemirror_mode": {
    "name": "ipython",
    "version": 2
   },
   "file_extension": ".py",
   "mimetype": "text/x-python",
   "name": "python",
   "nbconvert_exporter": "python",
   "pygments_lexer": "ipython2",
   "version": "2.7.14"
  }
 },
 "nbformat": 4,
 "nbformat_minor": 2
}
