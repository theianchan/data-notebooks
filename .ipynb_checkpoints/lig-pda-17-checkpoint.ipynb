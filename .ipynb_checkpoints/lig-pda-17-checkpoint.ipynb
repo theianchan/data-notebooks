{
 "cells": [
  {
   "cell_type": "code",
   "execution_count": 1,
   "metadata": {
    "collapsed": true
   },
   "outputs": [],
   "source": [
    "%matplotlib inline\n",
    "%reload_ext autoreload\n",
    "%autoreload 2\n",
    "\n",
    "import pandas as pd\n",
    "import numpy as np\n",
    "\n",
    "from utils.explore import *"
   ]
  },
  {
   "cell_type": "code",
   "execution_count": 10,
   "metadata": {},
   "outputs": [],
   "source": [
    "dates = pd.read_clipboard(sep=\"\\t\", index_col=0, parse_dates=[i for i in range(4)])"
   ]
  },
  {
   "cell_type": "code",
   "execution_count": 11,
   "metadata": {},
   "outputs": [
    {
     "data": {
      "text/html": [
       "<div>\n",
       "<style>\n",
       "    .dataframe thead tr:only-child th {\n",
       "        text-align: right;\n",
       "    }\n",
       "\n",
       "    .dataframe thead th {\n",
       "        text-align: left;\n",
       "    }\n",
       "\n",
       "    .dataframe tbody tr th {\n",
       "        vertical-align: top;\n",
       "    }\n",
       "</style>\n",
       "<table border=\"1\" class=\"dataframe\">\n",
       "  <thead>\n",
       "    <tr style=\"text-align: right;\">\n",
       "      <th></th>\n",
       "      <th>month_day_year</th>\n",
       "      <th>day_month_year</th>\n",
       "      <th>date_time</th>\n",
       "      <th>year_month_day</th>\n",
       "    </tr>\n",
       "  </thead>\n",
       "  <tbody>\n",
       "    <tr>\n",
       "      <th>1</th>\n",
       "      <td>1996-04-22</td>\n",
       "      <td>1996-04-22</td>\n",
       "      <td>1996-08-11 09:50:35</td>\n",
       "      <td>2007-06-22</td>\n",
       "    </tr>\n",
       "    <tr>\n",
       "      <th>2</th>\n",
       "      <td>1996-04-23</td>\n",
       "      <td>1996-04-23</td>\n",
       "      <td>2016-05-12 19:50:35</td>\n",
       "      <td>2017-01-09</td>\n",
       "    </tr>\n",
       "    <tr>\n",
       "      <th>3</th>\n",
       "      <td>1996-05-14</td>\n",
       "      <td>1996-05-14</td>\n",
       "      <td>2017-10-14 09:50:35</td>\n",
       "      <td>1998-04-12</td>\n",
       "    </tr>\n",
       "    <tr>\n",
       "      <th>4</th>\n",
       "      <td>1996-05-15</td>\n",
       "      <td>1996-05-15</td>\n",
       "      <td>2018-01-11 09:50:35</td>\n",
       "      <td>2027-07-22</td>\n",
       "    </tr>\n",
       "    <tr>\n",
       "      <th>5</th>\n",
       "      <td>2001-05-16</td>\n",
       "      <td>2001-05-16</td>\n",
       "      <td>2019-03-11 07:30:36</td>\n",
       "      <td>1945-11-15</td>\n",
       "    </tr>\n",
       "    <tr>\n",
       "      <th>6</th>\n",
       "      <td>2002-05-17</td>\n",
       "      <td>2002-05-17</td>\n",
       "      <td>2020-08-11 09:50:35</td>\n",
       "      <td>1942-06-22</td>\n",
       "    </tr>\n",
       "    <tr>\n",
       "      <th>7</th>\n",
       "      <td>2003-05-18</td>\n",
       "      <td>2003-05-18</td>\n",
       "      <td>2021-12-21 09:50:35</td>\n",
       "      <td>1887-06-13 00:00:00</td>\n",
       "    </tr>\n",
       "    <tr>\n",
       "      <th>8</th>\n",
       "      <td>2004-05-19</td>\n",
       "      <td>2004-05-19</td>\n",
       "      <td>2022-01-11 09:50:35</td>\n",
       "      <td>1912-01-25</td>\n",
       "    </tr>\n",
       "    <tr>\n",
       "      <th>9</th>\n",
       "      <td>2005-05-20</td>\n",
       "      <td>2005-05-20</td>\n",
       "      <td>2023-07-10 19:40:25</td>\n",
       "      <td>2007-06-22</td>\n",
       "    </tr>\n",
       "  </tbody>\n",
       "</table>\n",
       "</div>"
      ],
      "text/plain": [
       "  month_day_year day_month_year           date_time      year_month_day\n",
       "1     1996-04-22     1996-04-22 1996-08-11 09:50:35          2007-06-22\n",
       "2     1996-04-23     1996-04-23 2016-05-12 19:50:35          2017-01-09\n",
       "3     1996-05-14     1996-05-14 2017-10-14 09:50:35          1998-04-12\n",
       "4     1996-05-15     1996-05-15 2018-01-11 09:50:35          2027-07-22\n",
       "5     2001-05-16     2001-05-16 2019-03-11 07:30:36          1945-11-15\n",
       "6     2002-05-17     2002-05-17 2020-08-11 09:50:35          1942-06-22\n",
       "7     2003-05-18     2003-05-18 2021-12-21 09:50:35 1887-06-13 00:00:00\n",
       "8     2004-05-19     2004-05-19 2022-01-11 09:50:35          1912-01-25\n",
       "9     2005-05-20     2005-05-20 2023-07-10 19:40:25          2007-06-22"
      ]
     },
     "execution_count": 11,
     "metadata": {},
     "output_type": "execute_result"
    }
   ],
   "source": [
    "dates"
   ]
  },
  {
   "cell_type": "code",
   "execution_count": 12,
   "metadata": {},
   "outputs": [
    {
     "data": {
      "text/plain": [
       "month_day_year    datetime64[ns]\n",
       "day_month_year    datetime64[ns]\n",
       "date_time         datetime64[ns]\n",
       "year_month_day    datetime64[ns]\n",
       "dtype: object"
      ]
     },
     "execution_count": 12,
     "metadata": {},
     "output_type": "execute_result"
    }
   ],
   "source": [
    "dates.dtypes"
   ]
  },
  {
   "cell_type": "code",
   "execution_count": 14,
   "metadata": {},
   "outputs": [
    {
     "data": {
      "text/plain": [
       "Timestamp('2015-11-29 12:30:15')"
      ]
     },
     "execution_count": 14,
     "metadata": {},
     "output_type": "execute_result"
    }
   ],
   "source": [
    "pd.to_datetime(\"12:30:15 2015-29-11\", format=\"%H:%M:%S %Y-%d-%m\")"
   ]
  }
 ],
 "metadata": {
  "kernelspec": {
   "display_name": "Python 2",
   "language": "python",
   "name": "python2"
  },
  "language_info": {
   "codemirror_mode": {
    "name": "ipython",
    "version": 2
   },
   "file_extension": ".py",
   "mimetype": "text/x-python",
   "name": "python",
   "nbconvert_exporter": "python",
   "pygments_lexer": "ipython2",
   "version": "2.7.13"
  }
 },
 "nbformat": 4,
 "nbformat_minor": 2
}
