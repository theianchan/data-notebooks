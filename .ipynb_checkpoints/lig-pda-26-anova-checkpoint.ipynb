{
 "cells": [
  {
   "cell_type": "code",
   "execution_count": 1,
   "metadata": {
    "collapsed": true
   },
   "outputs": [],
   "source": [
    "%matplotlib inline\n",
    "%reload_ext autoreload\n",
    "%autoreload 2\n",
    "\n",
    "import pandas as pd\n",
    "import numpy as np\n",
    "import matplotlib.pyplot as plt\n",
    "import scipy.stats as stats\n",
    "import random\n",
    "import math\n",
    "\n",
    "from utils.explore import *"
   ]
  },
  {
   "cell_type": "code",
   "execution_count": 2,
   "metadata": {
    "collapsed": true
   },
   "outputs": [],
   "source": [
    "np.random.seed(12)\n",
    "races = [\"asian\", \"black\", \"hispn\", \"other\", \"white\"]\n",
    "voter_race = np.random.choice(a=races, p=[0.05, 0.15, 0.25, 0.05, 0.5], size=1000)\n",
    "voter_age = stats.poisson.rvs(loc=18, mu=30, size=1000)\n",
    "\n",
    "voter_frame = pd.DataFrame({\"race\": voter_race, \"age\": voter_age})\n",
    "groups = voter_frame.groupby(\"race\").groups\n",
    "\n",
    "asian = voter_age[groups[\"asian\"]]\n",
    "black = voter_age[groups[\"black\"]]\n",
    "hispn = voter_age[groups[\"hispn\"]]\n",
    "other = voter_age[groups[\"other\"]]\n",
    "white = voter_age[groups[\"white\"]]"
   ]
  },
  {
   "cell_type": "code",
   "execution_count": 3,
   "metadata": {},
   "outputs": [
    {
     "data": {
      "text/plain": [
       "F_onewayResult(statistic=1.7744689357329695, pvalue=0.13173183201930463)"
      ]
     },
     "execution_count": 3,
     "metadata": {},
     "output_type": "execute_result"
    }
   ],
   "source": [
    "stats.f_oneway(asian, black, hispn, other, white)"
   ]
  },
  {
   "cell_type": "markdown",
   "metadata": {},
   "source": [
    "### Set up an ANOVA where the mean of one group is actually different from the others"
   ]
  },
  {
   "cell_type": "code",
   "execution_count": 98,
   "metadata": {
    "collapsed": true,
    "scrolled": true
   },
   "outputs": [],
   "source": [
    "np.random.seed(12)\n",
    "\n",
    "races = [\"black\", \"hispn\", \"other\", \"white\"]\n",
    "probs = np.array([0.2, 0.2, 0.15, 0.4]) / 0.95\n",
    "\n",
    "list_races = np.random.choice(a=races, p=probs, size=950)\n",
    "list_ages = stats.poisson.rvs(loc=21, mu=30, size=950)\n",
    "dfr = pd.DataFrame({\"race\": list_races, \"age\": list_ages})\n",
    "dfa = pd.DataFrame({\"race\": \"asian\", \"age\": stats.poisson.rvs(loc=17, mu=30, size=50)})\n",
    "df = pd.concat((dfr, dfa), axis=0)"
   ]
  },
  {
   "cell_type": "code",
   "execution_count": 99,
   "metadata": {},
   "outputs": [
    {
     "data": {
      "text/plain": [
       "F_onewayResult(statistic=3.1081563028275365, pvalue=0.014814631699604605)"
      ]
     },
     "execution_count": 99,
     "metadata": {},
     "output_type": "execute_result"
    }
   ],
   "source": [
    "races = df[\"race\"].unique()\n",
    "groups = [df[df[\"race\"] == race][\"age\"] for race in races]\n",
    "stats.f_oneway(*groups)"
   ]
  },
  {
   "cell_type": "code",
   "execution_count": 100,
   "metadata": {},
   "outputs": [
    {
     "name": "stdout",
     "output_type": "stream",
     "text": [
      "black, white\n",
      "statistic: -0.0915\n",
      "pvalue: 0.9271\n",
      "\n",
      "black, hispn\n",
      "statistic: -0.0948\n",
      "pvalue: 0.9245\n",
      "\n",
      "black, other\n",
      "statistic: -0.1791\n",
      "pvalue: 0.8580\n",
      "\n",
      "black, asian\n",
      "statistic: 3.2060\n",
      "pvalue: 0.0015\n",
      "\n",
      "white, hispn\n",
      "statistic: -0.0188\n",
      "pvalue: 0.9850\n",
      "\n",
      "white, other\n",
      "statistic: -0.1155\n",
      "pvalue: 0.9081\n",
      "\n",
      "white, asian\n",
      "statistic: 3.3587\n",
      "pvalue: 0.0008\n",
      "\n",
      "hispn, other\n",
      "statistic: -0.0863\n",
      "pvalue: 0.9313\n",
      "\n",
      "hispn, asian\n",
      "statistic: 3.0707\n",
      "pvalue: 0.0024\n",
      "\n",
      "other, asian\n",
      "statistic: 3.1041\n",
      "pvalue: 0.0022\n",
      "\n"
     ]
    }
   ],
   "source": [
    "race_pairs = []\n",
    "for idx1 in range(4):\n",
    "    for idx2 in range(idx1 + 1, 5):\n",
    "        race_pairs.append((races[idx1], races[idx2]))\n",
    "\n",
    "for r1, r2 in race_pairs:\n",
    "    print(\"\"\"{}, {}\\nstatistic: {:.4f}\\npvalue: {:.4f}\\n\"\"\".format(\n",
    "        r1, r2,\n",
    "        *stats.ttest_ind(\n",
    "            df[df[\"race\"] == r1][\"age\"], \n",
    "            df[df[\"race\"] == r2][\"age\"]\n",
    "        )\n",
    "    ))"
   ]
  },
  {
   "cell_type": "code",
   "execution_count": 103,
   "metadata": {},
   "outputs": [
    {
     "data": {
      "text/html": [
       "<table class=\"simpletable\">\n",
       "<caption>Multiple Comparison of Means - Tukey HSD,FWER=0.05</caption>\n",
       "<tr>\n",
       "  <th>group1</th> <th>group2</th> <th>meandiff</th>  <th>lower</th>   <th>upper</th> <th>reject</th>\n",
       "</tr>\n",
       "<tr>\n",
       "   <td>asian</td>  <td>black</td>   <td>2.653</td>  <td>0.3581</td>  <td>4.9479</td>  <td>True</td> \n",
       "</tr>\n",
       "<tr>\n",
       "   <td>asian</td>  <td>hispn</td>  <td>2.7032</td>   <td>0.425</td>  <td>4.9813</td>  <td>True</td> \n",
       "</tr>\n",
       "<tr>\n",
       "   <td>asian</td>  <td>other</td>  <td>2.7538</td>  <td>0.3754</td>  <td>5.1322</td>  <td>True</td> \n",
       "</tr>\n",
       "<tr>\n",
       "   <td>asian</td>  <td>white</td>  <td>2.6946</td>  <td>0.5372</td>   <td>4.852</td>  <td>True</td> \n",
       "</tr>\n",
       "<tr>\n",
       "   <td>black</td>  <td>hispn</td>  <td>0.0502</td>  <td>-1.4114</td> <td>1.5118</td>  <td>False</td>\n",
       "</tr>\n",
       "<tr>\n",
       "   <td>black</td>  <td>other</td>  <td>0.1008</td>  <td>-1.5125</td> <td>1.7142</td>  <td>False</td>\n",
       "</tr>\n",
       "<tr>\n",
       "   <td>black</td>  <td>white</td>  <td>0.0416</td>  <td>-1.2235</td> <td>1.3067</td>  <td>False</td>\n",
       "</tr>\n",
       "<tr>\n",
       "   <td>hispn</td>  <td>other</td>  <td>0.0506</td>  <td>-1.5388</td> <td>1.6401</td>  <td>False</td>\n",
       "</tr>\n",
       "<tr>\n",
       "   <td>hispn</td>  <td>white</td>  <td>-0.0086</td> <td>-1.243</td>  <td>1.2259</td>  <td>False</td>\n",
       "</tr>\n",
       "<tr>\n",
       "   <td>other</td>  <td>white</td>  <td>-0.0592</td> <td>-1.4701</td> <td>1.3516</td>  <td>False</td>\n",
       "</tr>\n",
       "</table>"
      ],
      "text/plain": [
       "<class 'statsmodels.iolib.table.SimpleTable'>"
      ]
     },
     "execution_count": 103,
     "metadata": {},
     "output_type": "execute_result"
    }
   ],
   "source": [
    "from statsmodels.stats.multicomp import pairwise_tukeyhsd\n",
    "tukey = pairwise_tukeyhsd(\n",
    "    endog=df[\"age\"],\n",
    "    groups=df[\"race\"],\n",
    "    alpha=0.05\n",
    ")\n",
    "tukey.summary()"
   ]
  },
  {
   "cell_type": "code",
   "execution_count": 104,
   "metadata": {},
   "outputs": [
    {
     "data": {
      "image/png": "[encoded data removed]",
      "text/plain": [
       "<matplotlib.figure.Figure at 0x11569e050>"
      ]
     },
     "metadata": {},
     "output_type": "display_data"
    }
   ],
   "source": [
    "_ = tukey.plot_simultaneous()"
   ]
  }
 ],
 "metadata": {
  "kernelspec": {
   "display_name": "Python 2",
   "language": "python",
   "name": "python2"
  },
  "language_info": {
   "codemirror_mode": {
    "name": "ipython",
    "version": 2
   },
   "file_extension": ".py",
   "mimetype": "text/x-python",
   "name": "python",
   "nbconvert_exporter": "python",
   "pygments_lexer": "ipython2",
   "version": "2.7.13"
  }
 },
 "nbformat": 4,
 "nbformat_minor": 2
}
