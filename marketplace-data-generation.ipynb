{
 "cells": [
  {
   "cell_type": "markdown",
   "metadata": {},
   "source": [
    "## Problem"
   ]
  },
  {
   "cell_type": "markdown",
   "metadata": {},
   "source": [
    "I want to practice SQL and Python on datasets resembling what I might encounter at a marketplace company like Uber, Lyft, or Doordash. The 538 [Uber Pickups in New York City](https://www.kaggle.com/fivethirtyeight/uber-pickups-in-new-york-city/data) dataset exists, but contains mostly location data:"
   ]
  },
  {
   "cell_type": "code",
   "execution_count": 1,
   "metadata": {
    "collapsed": true
   },
   "outputs": [],
   "source": [
    "import pandas as pd"
   ]
  },
  {
   "cell_type": "code",
   "execution_count": 2,
   "metadata": {},
   "outputs": [
    {
     "data": {
      "text/html": [
       "<div>\n",
       "<style>\n",
       "    .dataframe thead tr:only-child th {\n",
       "        text-align: right;\n",
       "    }\n",
       "\n",
       "    .dataframe thead th {\n",
       "        text-align: left;\n",
       "    }\n",
       "\n",
       "    .dataframe tbody tr th {\n",
       "        vertical-align: top;\n",
       "    }\n",
       "</style>\n",
       "<table border=\"1\" class=\"dataframe\">\n",
       "  <thead>\n",
       "    <tr style=\"text-align: right;\">\n",
       "      <th></th>\n",
       "      <th>dispatching_base_number</th>\n",
       "      <th>date</th>\n",
       "      <th>active_vehicles</th>\n",
       "      <th>trips</th>\n",
       "    </tr>\n",
       "  </thead>\n",
       "  <tbody>\n",
       "    <tr>\n",
       "      <th>0</th>\n",
       "      <td>B02512</td>\n",
       "      <td>2015-01-01</td>\n",
       "      <td>190</td>\n",
       "      <td>1132</td>\n",
       "    </tr>\n",
       "    <tr>\n",
       "      <th>1</th>\n",
       "      <td>B02765</td>\n",
       "      <td>2015-01-01</td>\n",
       "      <td>225</td>\n",
       "      <td>1765</td>\n",
       "    </tr>\n",
       "    <tr>\n",
       "      <th>2</th>\n",
       "      <td>B02764</td>\n",
       "      <td>2015-01-01</td>\n",
       "      <td>3427</td>\n",
       "      <td>29421</td>\n",
       "    </tr>\n",
       "  </tbody>\n",
       "</table>\n",
       "</div>"
      ],
      "text/plain": [
       "  dispatching_base_number       date  active_vehicles  trips\n",
       "0                  B02512 2015-01-01              190   1132\n",
       "1                  B02765 2015-01-01              225   1765\n",
       "2                  B02764 2015-01-01             3427  29421"
      ]
     },
     "execution_count": 2,
     "metadata": {},
     "output_type": "execute_result"
    }
   ],
   "source": [
    "foil_538 = pd.read_csv(\"data/uber/uber-foil.csv\", parse_dates=[\"date\"])\n",
    "foil_538.head(3)"
   ]
  },
  {
   "cell_type": "code",
   "execution_count": 3,
   "metadata": {},
   "outputs": [
    {
     "data": {
      "text/html": [
       "<div>\n",
       "<style>\n",
       "    .dataframe thead tr:only-child th {\n",
       "        text-align: right;\n",
       "    }\n",
       "\n",
       "    .dataframe thead th {\n",
       "        text-align: left;\n",
       "    }\n",
       "\n",
       "    .dataframe tbody tr th {\n",
       "        vertical-align: top;\n",
       "    }\n",
       "</style>\n",
       "<table border=\"1\" class=\"dataframe\">\n",
       "  <thead>\n",
       "    <tr style=\"text-align: right;\">\n",
       "      <th></th>\n",
       "      <th>Date/Time</th>\n",
       "      <th>Lat</th>\n",
       "      <th>Lon</th>\n",
       "      <th>Base</th>\n",
       "    </tr>\n",
       "  </thead>\n",
       "  <tbody>\n",
       "    <tr>\n",
       "      <th>0</th>\n",
       "      <td>2014-04-01 00:11:00</td>\n",
       "      <td>40.7690</td>\n",
       "      <td>-73.9549</td>\n",
       "      <td>B02512</td>\n",
       "    </tr>\n",
       "    <tr>\n",
       "      <th>1</th>\n",
       "      <td>2014-04-01 00:17:00</td>\n",
       "      <td>40.7267</td>\n",
       "      <td>-74.0345</td>\n",
       "      <td>B02512</td>\n",
       "    </tr>\n",
       "    <tr>\n",
       "      <th>2</th>\n",
       "      <td>2014-04-01 00:21:00</td>\n",
       "      <td>40.7316</td>\n",
       "      <td>-73.9873</td>\n",
       "      <td>B02512</td>\n",
       "    </tr>\n",
       "  </tbody>\n",
       "</table>\n",
       "</div>"
      ],
      "text/plain": [
       "            Date/Time      Lat      Lon    Base\n",
       "0 2014-04-01 00:11:00  40.7690 -73.9549  B02512\n",
       "1 2014-04-01 00:17:00  40.7267 -74.0345  B02512\n",
       "2 2014-04-01 00:21:00  40.7316 -73.9873  B02512"
      ]
     },
     "execution_count": 3,
     "metadata": {},
     "output_type": "execute_result"
    }
   ],
   "source": [
    "dapr_538 = pd.read_csv(\"data/uber/uber-raw-apr14.csv\", parse_dates=[\"Date/Time\"])\n",
    "dapr_538.head(3)"
   ]
  },
  {
   "cell_type": "markdown",
   "metadata": {},
   "source": [
    "## Solution"
   ]
  },
  {
   "cell_type": "markdown",
   "metadata": {},
   "source": [
    "Generate an entire universe of simulated marketplace data. Duh.\n",
    "\n",
    "In this universe, our ridesharing data exists in four tables:\n",
    "\n",
    "**trips**\n",
    "\n",
    "* id - integer\n",
    "* pilot - integer\n",
    "* passenger - integer\n",
    "* planet - id\n",
    "* trip_completed - boolean\n",
    "* trip_requested - timestamp\n",
    "* trip_started - timestamp\n",
    "* trip_ended - timestamp\n",
    "* price - integer\n",
    "* pilot_rating - integer\n",
    "* passenger_rating - integer\n",
    "\n",
    "**planets**\n",
    "\n",
    "* id - integer\n",
    "* name - string\n",
    "\n",
    "**pilots**\n",
    "\n",
    "* id - integer\n",
    "* rating - integer\n",
    "* banned - boolean\n",
    "* created - timestamp\n",
    "\n",
    "**passengers**\n",
    "\n",
    "* id - integer\n",
    "* rating - integer\n",
    "* banned - boolean\n",
    "* created - timestamp\n",
    "\n",
    "Yes, when I said \"universe\" I meant it literally."
   ]
  },
  {
   "cell_type": "markdown",
   "metadata": {},
   "source": [
    "## Planets"
   ]
  },
  {
   "cell_type": "markdown",
   "metadata": {},
   "source": [
    "* id - integer\n",
    "* name - string\n",
    "\n",
    "Let's start with planets, which seems like it should be pretty easy."
   ]
  },
  {
   "cell_type": "code",
   "execution_count": 4,
   "metadata": {
    "collapsed": true
   },
   "outputs": [],
   "source": [
    "planets = [\"Alderaan\", \"Chandrila\", \"Corellia\", \"Coruscant\", \"Duro\", \"Hosnian Prime\", \"Kuat\"]"
   ]
  },
  {
   "cell_type": "markdown",
   "metadata": {},
   "source": [
    "I know that I'm listing core worlds only, and I can already hear your accusations about my liberal core world elitism, but the reality is that worlds in the outer rim simply don't have the infrastructure to support ridesharing on the scale we're interested in. \n",
    "\n",
    "Pilots and passengers do occasionally arrange shared rides within and between systems, but these trips are usually negotiated in a more informal setting like, for example, a cantina."
   ]
  },
  {
   "cell_type": "code",
   "execution_count": 5,
   "metadata": {},
   "outputs": [
    {
     "data": {
      "text/html": [
       "<div>\n",
       "<style>\n",
       "    .dataframe thead tr:only-child th {\n",
       "        text-align: right;\n",
       "    }\n",
       "\n",
       "    .dataframe thead th {\n",
       "        text-align: left;\n",
       "    }\n",
       "\n",
       "    .dataframe tbody tr th {\n",
       "        vertical-align: top;\n",
       "    }\n",
       "</style>\n",
       "<table border=\"1\" class=\"dataframe\">\n",
       "  <thead>\n",
       "    <tr style=\"text-align: right;\">\n",
       "      <th></th>\n",
       "      <th>id</th>\n",
       "      <th>name</th>\n",
       "    </tr>\n",
       "  </thead>\n",
       "  <tbody>\n",
       "    <tr>\n",
       "      <th>0</th>\n",
       "      <td>0</td>\n",
       "      <td>Alderaan</td>\n",
       "    </tr>\n",
       "    <tr>\n",
       "      <th>1</th>\n",
       "      <td>1</td>\n",
       "      <td>Chandrila</td>\n",
       "    </tr>\n",
       "    <tr>\n",
       "      <th>2</th>\n",
       "      <td>2</td>\n",
       "      <td>Corellia</td>\n",
       "    </tr>\n",
       "    <tr>\n",
       "      <th>3</th>\n",
       "      <td>3</td>\n",
       "      <td>Coruscant</td>\n",
       "    </tr>\n",
       "    <tr>\n",
       "      <th>4</th>\n",
       "      <td>4</td>\n",
       "      <td>Duro</td>\n",
       "    </tr>\n",
       "    <tr>\n",
       "      <th>5</th>\n",
       "      <td>5</td>\n",
       "      <td>Hosnian Prime</td>\n",
       "    </tr>\n",
       "    <tr>\n",
       "      <th>6</th>\n",
       "      <td>6</td>\n",
       "      <td>Kuat</td>\n",
       "    </tr>\n",
       "  </tbody>\n",
       "</table>\n",
       "</div>"
      ],
      "text/plain": [
       "   id           name\n",
       "0   0       Alderaan\n",
       "1   1      Chandrila\n",
       "2   2       Corellia\n",
       "3   3      Coruscant\n",
       "4   4           Duro\n",
       "5   5  Hosnian Prime\n",
       "6   6           Kuat"
      ]
     },
     "execution_count": 5,
     "metadata": {},
     "output_type": "execute_result"
    }
   ],
   "source": [
    "df_planets = pd.DataFrame({\"name\": planets, \"id\": range(len(planets))})\n",
    "df_planets"
   ]
  },
  {
   "cell_type": "markdown",
   "metadata": {},
   "source": [
    "## Pilots"
   ]
  },
  {
   "cell_type": "markdown",
   "metadata": {},
   "source": [
    "* id - integer\n",
    "* rating - integer\n",
    "* banned - boolean\n",
    "* created - timestamp\n",
    "\n",
    "Let's say that we have 100 pilots in our system. Pilot maintain a rating between 1 and 5 stars. Just like in our world, passengers in our simulated universe tend to be pretty nice when rating pilots, so distributions of pilot ratings are skewed towards the higher end."
   ]
  },
  {
   "cell_type": "code",
   "execution_count": 6,
   "metadata": {
    "collapsed": true
   },
   "outputs": [],
   "source": [
    "%matplotlib inline\n",
    "import numpy as np\n",
    "import scipy.stats as stats"
   ]
  },
  {
   "cell_type": "code",
   "execution_count": 7,
   "metadata": {},
   "outputs": [],
   "source": [
    "pilot_ratings = np.concatenate((\n",
    "    stats.norm.rvs(loc=4.5, scale=0.3, size=70),\n",
    "    stats.skewnorm.rvs(a=-1, loc=4, scale=1, size=30)\n",
    ")).clip(0.01, 4.99)\n",
    "\n",
    "df_pilots = pd.DataFrame({\"rating\" : pilot_ratings, \"id\": range(len(pilot_ratings))})"
   ]
  },
  {
   "cell_type": "code",
   "execution_count": 8,
   "metadata": {},
   "outputs": [
    {
     "data": {
      "image/png": "[encoded data removed]",
      "text/plain": [
       "<matplotlib.figure.Figure at 0x11001bc10>"
      ]
     },
     "metadata": {},
     "output_type": "display_data"
    }
   ],
   "source": [
    "_ = df_pilots[\"rating\"].plot(kind=\"hist\", bins=11)"
   ]
  },
  {
   "cell_type": "markdown",
   "metadata": {},
   "source": [
    "Some portion of pilots have been banned from our system. Pilots with low ratings are more likely to be banned."
   ]
  },
  {
   "cell_type": "code",
   "execution_count": 9,
   "metadata": {},
   "outputs": [],
   "source": [
    "df_pilots[\"banned\"] = 0\n",
    "\n",
    "pct_75 = df_pilots[\"rating\"].quantile(0.75)\n",
    "pct_50 = df_pilots[\"rating\"].quantile(0.50)\n",
    "\n",
    "pilots_abv_75th_pct = (df_pilots[\"rating\"] >= pct_75)\n",
    "pilots_abv_50th_pct = ((df_pilots[\"rating\"] >= pct_50) & (df_pilots[\"rating\"] < pct_75))\n",
    "pilots_blw_50th_pct = (df_pilots[\"rating\"] < pct_50)\n",
    "\n",
    "df_pilots.loc[pilots_abv_75th_pct, \"banned\"] = np.random.choice([1, 0], size=25, p=[0.05, 0.95])\n",
    "df_pilots.loc[pilots_abv_50th_pct, \"banned\"] = np.random.choice([1, 0], size=25, p=[0.10, 0.90]) \n",
    "df_pilots.loc[pilots_blw_50th_pct, \"banned\"] = np.random.choice([1, 0], size=50, p=[0.15, 0.85]) "
   ]
  },
  {
   "cell_type": "code",
   "execution_count": 10,
   "metadata": {
    "collapsed": true
   },
   "outputs": [],
   "source": [
    "# do a stacked histogram here"
   ]
  },
  {
   "cell_type": "markdown",
   "metadata": {},
   "source": [
    "Finally, let's uniformly distribute the time and day each pilot account was created throughout 2017 (yes, our simulated universe runs entirely on UTC it's really quite a remarkable feat of coordination):"
   ]
  },
  {
   "cell_type": "code",
   "execution_count": 11,
   "metadata": {
    "collapsed": true
   },
   "outputs": [],
   "source": [
    "import datetime, random"
   ]
  },
  {
   "cell_type": "code",
   "execution_count": 12,
   "metadata": {},
   "outputs": [],
   "source": [
    "def timestamps_between(start, end, size):\n",
    "    ts_start = int((start - datetime.datetime(1970, 1, 1)).total_seconds())\n",
    "    duration = int((end - start).total_seconds())\n",
    "    return np.array(random.sample(range(int(duration)), size)) + ts_start"
   ]
  },
  {
   "cell_type": "code",
   "execution_count": 13,
   "metadata": {
    "collapsed": true
   },
   "outputs": [],
   "source": [
    "str_2017 = datetime.datetime(2017, 1, 1, 0, 0, 0)\n",
    "end_2017 = datetime.datetime(2017, 12, 31, 23, 59, 59)"
   ]
  },
  {
   "cell_type": "code",
   "execution_count": 14,
   "metadata": {},
   "outputs": [],
   "source": [
    "pilot_timestamps = timestamps_between(str_2017, end_2017, 100)\n",
    "df_pilots[\"created\"] = pilot_timestamps"
   ]
  },
  {
   "cell_type": "code",
   "execution_count": 15,
   "metadata": {},
   "outputs": [
    {
     "data": {
      "image/png": "[encoded data removed]",
      "text/plain": [
       "<matplotlib.figure.Figure at 0x11001bbd0>"
      ]
     },
     "metadata": {},
     "output_type": "display_data"
    }
   ],
   "source": [
    "_ = df_pilots[\"created\"].plot(kind=\"density\")"
   ]
  },
  {
   "cell_type": "code",
   "execution_count": 16,
   "metadata": {},
   "outputs": [
    {
     "data": {
      "text/html": [
       "<div>\n",
       "<style>\n",
       "    .dataframe thead tr:only-child th {\n",
       "        text-align: right;\n",
       "    }\n",
       "\n",
       "    .dataframe thead th {\n",
       "        text-align: left;\n",
       "    }\n",
       "\n",
       "    .dataframe tbody tr th {\n",
       "        vertical-align: top;\n",
       "    }\n",
       "</style>\n",
       "<table border=\"1\" class=\"dataframe\">\n",
       "  <thead>\n",
       "    <tr style=\"text-align: right;\">\n",
       "      <th></th>\n",
       "      <th>id</th>\n",
       "      <th>rating</th>\n",
       "      <th>banned</th>\n",
       "      <th>created</th>\n",
       "    </tr>\n",
       "  </thead>\n",
       "  <tbody>\n",
       "    <tr>\n",
       "      <th>0</th>\n",
       "      <td>0</td>\n",
       "      <td>4.042882</td>\n",
       "      <td>0</td>\n",
       "      <td>1514385527</td>\n",
       "    </tr>\n",
       "    <tr>\n",
       "      <th>1</th>\n",
       "      <td>1</td>\n",
       "      <td>4.630323</td>\n",
       "      <td>0</td>\n",
       "      <td>1492834087</td>\n",
       "    </tr>\n",
       "    <tr>\n",
       "      <th>2</th>\n",
       "      <td>2</td>\n",
       "      <td>4.115552</td>\n",
       "      <td>1</td>\n",
       "      <td>1506823703</td>\n",
       "    </tr>\n",
       "  </tbody>\n",
       "</table>\n",
       "</div>"
      ],
      "text/plain": [
       "   id    rating  banned     created\n",
       "0   0  4.042882       0  1514385527\n",
       "1   1  4.630323       0  1492834087\n",
       "2   2  4.115552       1  1506823703"
      ]
     },
     "execution_count": 16,
     "metadata": {},
     "output_type": "execute_result"
    }
   ],
   "source": [
    "df_pilots.head(3)"
   ]
  },
  {
   "cell_type": "markdown",
   "metadata": {},
   "source": [
    "Nice."
   ]
  },
  {
   "cell_type": "markdown",
   "metadata": {},
   "source": [
    "## Passengers"
   ]
  },
  {
   "cell_type": "markdown",
   "metadata": {},
   "source": [
    "We're going to do the same for our 1,000 passengers, but relax the skew in the distribution of their ratings."
   ]
  },
  {
   "cell_type": "code",
   "execution_count": 17,
   "metadata": {
    "collapsed": true
   },
   "outputs": [],
   "source": [
    "passenger_ratings = np.concatenate((\n",
    "    stats.norm.rvs(loc=4.5, scale=0.3, size=500),\n",
    "    stats.skewnorm.rvs(a=-1, loc=4, scale=1, size=500)\n",
    ")).clip(0.01, 4.99)\n",
    "\n",
    "df_passengers = pd.DataFrame({\"rating\": passenger_ratings, \"id\": range(len(passenger_ratings))})"
   ]
  },
  {
   "cell_type": "code",
   "execution_count": 18,
   "metadata": {},
   "outputs": [
    {
     "data": {
      "image/png": "[encoded data removed]",
      "text/plain": [
       "<matplotlib.figure.Figure at 0x11359b210>"
      ]
     },
     "metadata": {},
     "output_type": "display_data"
    }
   ],
   "source": [
    "_ = df_passengers[\"rating\"].plot(kind=\"hist\", bins=11)"
   ]
  },
  {
   "cell_type": "markdown",
   "metadata": {},
   "source": [
    "We'll also slightly reduce the probability of a passenger having been banned from the service..."
   ]
  },
  {
   "cell_type": "code",
   "execution_count": 19,
   "metadata": {},
   "outputs": [],
   "source": [
    "df_passengers[\"banned\"] = 0\n",
    "\n",
    "pct_75 = df_passengers[\"rating\"].quantile(0.75)\n",
    "pct_50 = df_passengers[\"rating\"].quantile(0.50)\n",
    "\n",
    "passengers_abv_75th_pct = (df_passengers[\"rating\"] >= pct_75)\n",
    "passengers_abv_50th_pct = ((df_passengers[\"rating\"] >= pct_50) & (df_passengers[\"rating\"] < pct_75))\n",
    "passengers_blw_50th_pct = (df_passengers[\"rating\"] < pct_50)\n",
    "\n",
    "df_passengers.loc[passengers_abv_75th_pct, \"banned\"] = np.random.choice([1, 0], size=250, p=[0.03, 0.97])\n",
    "df_passengers.loc[passengers_abv_50th_pct, \"banned\"] = np.random.choice([1, 0], size=250, p=[0.07, 0.93]) \n",
    "df_passengers.loc[passengers_blw_50th_pct, \"banned\"] = np.random.choice([1, 0], size=500, p=[0.13, 0.87]) "
   ]
  },
  {
   "cell_type": "code",
   "execution_count": 20,
   "metadata": {
    "collapsed": true
   },
   "outputs": [],
   "source": [
    "# stacked histogram!"
   ]
  },
  {
   "cell_type": "markdown",
   "metadata": {},
   "source": [
    "... But keep the rules for account creation the same."
   ]
  },
  {
   "cell_type": "code",
   "execution_count": 21,
   "metadata": {},
   "outputs": [],
   "source": [
    "passenger_timestamps = timestamps_between(str_2017, end_2017, 1000)\n",
    "df_passengers[\"created\"] = passenger_timestamps"
   ]
  },
  {
   "cell_type": "code",
   "execution_count": 22,
   "metadata": {},
   "outputs": [
    {
     "data": {
      "image/png": "[encoded data removed]",
      "text/plain": [
       "<matplotlib.figure.Figure at 0x1135f1150>"
      ]
     },
     "metadata": {},
     "output_type": "display_data"
    }
   ],
   "source": [
    "_ = df_passengers[\"created\"].plot(kind=\"density\")"
   ]
  },
  {
   "cell_type": "code",
   "execution_count": 23,
   "metadata": {},
   "outputs": [
    {
     "data": {
      "text/html": [
       "<div>\n",
       "<style>\n",
       "    .dataframe thead tr:only-child th {\n",
       "        text-align: right;\n",
       "    }\n",
       "\n",
       "    .dataframe thead th {\n",
       "        text-align: left;\n",
       "    }\n",
       "\n",
       "    .dataframe tbody tr th {\n",
       "        vertical-align: top;\n",
       "    }\n",
       "</style>\n",
       "<table border=\"1\" class=\"dataframe\">\n",
       "  <thead>\n",
       "    <tr style=\"text-align: right;\">\n",
       "      <th></th>\n",
       "      <th>id</th>\n",
       "      <th>rating</th>\n",
       "      <th>banned</th>\n",
       "      <th>created</th>\n",
       "    </tr>\n",
       "  </thead>\n",
       "  <tbody>\n",
       "    <tr>\n",
       "      <th>0</th>\n",
       "      <td>0</td>\n",
       "      <td>4.848001</td>\n",
       "      <td>0</td>\n",
       "      <td>1491044851</td>\n",
       "    </tr>\n",
       "    <tr>\n",
       "      <th>1</th>\n",
       "      <td>1</td>\n",
       "      <td>4.433726</td>\n",
       "      <td>0</td>\n",
       "      <td>1506631773</td>\n",
       "    </tr>\n",
       "    <tr>\n",
       "      <th>2</th>\n",
       "      <td>2</td>\n",
       "      <td>4.896583</td>\n",
       "      <td>0</td>\n",
       "      <td>1500399633</td>\n",
       "    </tr>\n",
       "  </tbody>\n",
       "</table>\n",
       "</div>"
      ],
      "text/plain": [
       "   id    rating  banned     created\n",
       "0   0  4.848001       0  1491044851\n",
       "1   1  4.433726       0  1506631773\n",
       "2   2  4.896583       0  1500399633"
      ]
     },
     "execution_count": 23,
     "metadata": {},
     "output_type": "execute_result"
    }
   ],
   "source": [
    "df_passengers.head(3)"
   ]
  },
  {
   "cell_type": "markdown",
   "metadata": {},
   "source": [
    "## Trips"
   ]
  },
  {
   "cell_type": "markdown",
   "metadata": {},
   "source": [
    "This is a big one. Let's break it down into several parts:\n",
    "\n",
    "* id - integer\n",
    "* pilot - integer\n",
    "* passenger - integer\n",
    "* planet - id\n",
    "\n",
    "We can start by assigning pilots and passengers to planets. For sanity's sake, we'll make the assumption that neither pilots nor passengers ever participate in trips outside their home planets."
   ]
  },
  {
   "cell_type": "code",
   "execution_count": 24,
   "metadata": {},
   "outputs": [],
   "source": [
    "probs_planets = [0.05, 0.03, 0.18, 0.34, 0.10, 0.16, 0.14]"
   ]
  },
  {
   "cell_type": "code",
   "execution_count": 25,
   "metadata": {},
   "outputs": [],
   "source": [
    "pilot_planets = pd.DataFrame({\n",
    "    \"pilot\": df_pilots[\"id\"],\n",
    "    \"planet\": np.random.choice(df_planets[\"id\"], size=len(df_pilots), p=probs_planets)\n",
    "})\n",
    "\n",
    "passenger_planets = pd.DataFrame({\n",
    "    \"passenger\": df_passengers[\"id\"],\n",
    "    \"planet\": np.random.choice(df_planets[\"id\"], size=len(df_passengers), p=probs_planets)\n",
    "})"
   ]
  },
  {
   "cell_type": "markdown",
   "metadata": {},
   "source": [
    "We'll suppose that 40% of our pilots are providing roughly 50% of the 10,000 trips."
   ]
  },
  {
   "cell_type": "code",
   "execution_count": 26,
   "metadata": {},
   "outputs": [],
   "source": [
    "def split_df(df, split_size):\n",
    "    a = np.random.choice(df.index, size=split_size, replace=False)\n",
    "    b = np.array(df.copy().drop(a).index)\n",
    "    return a, b"
   ]
  },
  {
   "cell_type": "code",
   "execution_count": 51,
   "metadata": {},
   "outputs": [],
   "source": [
    "pilots_40_idx, pilots_60_idx = split_df(df_pilots, 40)\n",
    "\n",
    "trip_pilots = np.concatenate((\n",
    "    np.random.choice(pilots_40_idx, size=5000, replace=True),\n",
    "    np.random.choice(pilots_60_idx, size=5000, replace=True)\n",
    "))\n",
    "\n",
    "df_trips = pd.DataFrame({\"pilot\": trip_pilots, \"id\": range(len(trip_pilots))})"
   ]
  },
  {
   "cell_type": "markdown",
   "metadata": {},
   "source": [
    "Which gives us a bimodal-looking distribution for trips per pilot:"
   ]
  },
  {
   "cell_type": "code",
   "execution_count": 52,
   "metadata": {},
   "outputs": [
    {
     "data": {
      "image/png": "[encoded data removed]",
      "text/plain": [
       "<matplotlib.figure.Figure at 0x10b404a50>"
      ]
     },
     "metadata": {},
     "output_type": "display_data"
    }
   ],
   "source": [
    "_ = pd.DataFrame(df_trips[\"pilot\"].value_counts()).plot(kind=\"hist\", bins=11)"
   ]
  },
  {
   "cell_type": "markdown",
   "metadata": {},
   "source": [
    "Now let's assign a planet to each trip depending on the pilot's planet."
   ]
  },
  {
   "cell_type": "code",
   "execution_count": 53,
   "metadata": {},
   "outputs": [],
   "source": [
    "df_trips = pd.merge(df_trips, pilot_planets, how=\"left\", on=\"pilot\")"
   ]
  },
  {
   "cell_type": "markdown",
   "metadata": {},
   "source": [
    "And assign passengers to trips that took place on their planet."
   ]
  },
  {
   "cell_type": "code",
   "execution_count": 54,
   "metadata": {},
   "outputs": [],
   "source": [
    "df_trips[\"passenger\"] = None\n",
    "for idx, row in df_trips.iterrows():\n",
    "    passengers_from_planet = passenger_planets[passenger_planets[\"planet\"] == row[\"planet\"]]\n",
    "    df_trips.loc[idx, \"passenger\"] = row[\"passenger\"] = np.random.choice(passengers_from_planet[\"passenger\"])"
   ]
  },
  {
   "cell_type": "markdown",
   "metadata": {},
   "source": [
    "The way we do this results in a more normal-looking distribution for passenger trips:"
   ]
  },
  {
   "cell_type": "code",
   "execution_count": 55,
   "metadata": {},
   "outputs": [
    {
     "data": {
      "image/png": "[encoded data removed]",
      "text/plain": [
       "<matplotlib.figure.Figure at 0x11344bc10>"
      ]
     },
     "metadata": {},
     "output_type": "display_data"
    }
   ],
   "source": [
    "_ = pd.DataFrame(df_trips[\"passenger\"].value_counts()).plot(kind=\"hist\", bins=11)"
   ]
  },
  {
   "cell_type": "code",
   "execution_count": 56,
   "metadata": {},
   "outputs": [
    {
     "data": {
      "text/html": [
       "<div>\n",
       "<style>\n",
       "    .dataframe thead tr:only-child th {\n",
       "        text-align: right;\n",
       "    }\n",
       "\n",
       "    .dataframe thead th {\n",
       "        text-align: left;\n",
       "    }\n",
       "\n",
       "    .dataframe tbody tr th {\n",
       "        vertical-align: top;\n",
       "    }\n",
       "</style>\n",
       "<table border=\"1\" class=\"dataframe\">\n",
       "  <thead>\n",
       "    <tr style=\"text-align: right;\">\n",
       "      <th></th>\n",
       "      <th>id</th>\n",
       "      <th>pilot</th>\n",
       "      <th>planet</th>\n",
       "      <th>passenger</th>\n",
       "    </tr>\n",
       "  </thead>\n",
       "  <tbody>\n",
       "    <tr>\n",
       "      <th>0</th>\n",
       "      <td>0</td>\n",
       "      <td>95</td>\n",
       "      <td>5</td>\n",
       "      <td>153</td>\n",
       "    </tr>\n",
       "    <tr>\n",
       "      <th>1</th>\n",
       "      <td>1</td>\n",
       "      <td>32</td>\n",
       "      <td>2</td>\n",
       "      <td>401</td>\n",
       "    </tr>\n",
       "    <tr>\n",
       "      <th>2</th>\n",
       "      <td>2</td>\n",
       "      <td>43</td>\n",
       "      <td>6</td>\n",
       "      <td>734</td>\n",
       "    </tr>\n",
       "  </tbody>\n",
       "</table>\n",
       "</div>"
      ],
      "text/plain": [
       "   id  pilot  planet passenger\n",
       "0   0     95       5       153\n",
       "1   1     32       2       401\n",
       "2   2     43       6       734"
      ]
     },
     "execution_count": 56,
     "metadata": {},
     "output_type": "execute_result"
    }
   ],
   "source": [
    "df_trips.head(3)"
   ]
  },
  {
   "cell_type": "markdown",
   "metadata": {},
   "source": [
    "* trip_completed - boolean\n",
    "* trip_requested - timestamp\n",
    "* trip_started - timestamp\n",
    "* trip_ended - timestamp\n",
    "\n",
    "Let's say the likelihood of a trip being completed is uniform across the population of trips."
   ]
  },
  {
   "cell_type": "code",
   "execution_count": 57,
   "metadata": {},
   "outputs": [],
   "source": [
    "trips_completed = stats.binom.rvs(n=1, p=0.95, size=len(df_trips))\n",
    "df_trips[\"trip_completed\"] = trips_completed"
   ]
  },
  {
   "cell_type": "markdown",
   "metadata": {},
   "source": [
    "A trip can only be requested after both the pilot and passenger's accounts have been created."
   ]
  },
  {
   "cell_type": "code",
   "execution_count": 58,
   "metadata": {},
   "outputs": [],
   "source": [
    "max_trip = int((end_2017 - datetime.datetime(1970, 1, 1)).total_seconds())"
   ]
  },
  {
   "cell_type": "code",
   "execution_count": 59,
   "metadata": {},
   "outputs": [],
   "source": [
    "for idx, row in df_trips.iterrows():\n",
    "    \n",
    "    pilot_created = df_pilots.loc[row[\"pilot\"], \"created\"]\n",
    "    passenger_created = df_passengers.loc[row[\"passenger\"], \"created\"]\n",
    "    min_trip = max(pilot_created, passenger_created)\n",
    "    \n",
    "    df_trips.loc[idx, \"trip_requested\"] = np.random.randint(min_trip, max_trip)"
   ]
  },
  {
   "cell_type": "markdown",
   "metadata": {},
   "source": [
    "Remember that pilot and passenger account creation is distributed uniformly throughout the year. This means that trips become more likely to take place as the year goes on."
   ]
  },
  {
   "cell_type": "code",
   "execution_count": 60,
   "metadata": {
    "scrolled": true
   },
   "outputs": [
    {
     "data": {
      "image/png": "[encoded data removed]",
      "text/plain": [
       "<matplotlib.figure.Figure at 0x1139be690>"
      ]
     },
     "metadata": {},
     "output_type": "display_data"
    }
   ],
   "source": [
    "_ = df_trips.trip_requested.plot(kind=\"hist\", bins=11)"
   ]
  },
  {
   "cell_type": "markdown",
   "metadata": {},
   "source": [
    "Trips start between 1-15 minutes after they are requested."
   ]
  },
  {
   "cell_type": "code",
   "execution_count": 61,
   "metadata": {},
   "outputs": [],
   "source": [
    "for idx, row in df_trips.iterrows():\n",
    "    df_trips.loc[idx, \"trip_started\"] = row[\"trip_requested\"] + np.random.randint(60, 60 * 15)"
   ]
  },
  {
   "cell_type": "markdown",
   "metadata": {},
   "source": [
    "And end between 5-60 minutes after they start."
   ]
  },
  {
   "cell_type": "code",
   "execution_count": 62,
   "metadata": {
    "collapsed": true
   },
   "outputs": [],
   "source": [
    "for idx, row in df_trips.iterrows():\n",
    "    df_trips.loc[idx, \"trip_ended\"] = row[\"trip_started\"] + np.random.randint(60 * 5, 60 * 60)"
   ]
  },
  {
   "cell_type": "markdown",
   "metadata": {},
   "source": [
    "Trips can have a start and end time without having been completed. What we *don't* want is for any pilot or passenger to have started a trip while in the middle of an ongoing trip. This is slightly trickier than it sounds, so let's go over it step by step.\n",
    "\n",
    "First, we'll want an idea of how widespread the issue of overlapping trips is. Let's create a new dataframe, grouping trips provided by individual pilots and sorting them into chronological order."
   ]
  },
  {
   "cell_type": "code",
   "execution_count": 174,
   "metadata": {},
   "outputs": [],
   "source": [
    "trips_sorted_pilot = df_trips.sort_values([\"pilot\", \"trip_requested\"])"
   ]
  },
  {
   "cell_type": "markdown",
   "metadata": {},
   "source": [
    "Let's examine the `trip_started` and `trip_ended` values in our new dataframe, and create some additional columns that will help us parse our timestamps more intuitively."
   ]
  },
  {
   "cell_type": "code",
   "execution_count": 175,
   "metadata": {},
   "outputs": [],
   "source": [
    "trips_sorted_pilot = pd.DataFrame({\n",
    "    \"id\": trips_sorted_pilot[\"id\"].values,\n",
    "    \"pilot\": trips_sorted_pilot[\"pilot\"].values,\n",
    "    \"trip_started\": trips_sorted_pilot[\"trip_started\"].values,\n",
    "    \"trip_ended\": trips_sorted_pilot[\"trip_ended\"].values,\n",
    "    \"trip_started_readable\": pd.to_datetime(trips_sorted_pilot[\"trip_started\"], unit=\"s\").values,\n",
    "    \"trip_ended_readable\": pd.to_datetime(trips_sorted_pilot[\"trip_ended\"], unit=\"s\").values\n",
    "}, index=range(len(df_trips)))[[\"id\", \"pilot\", \"trip_started_readable\", \"trip_ended_readable\", \"trip_started\", \"trip_ended\"]]\n",
    "\n",
    "trips_sorted_pilot_duration = pd.DataFrame({\"trip_duration\": trips_sorted_pilot[\"trip_ended_readable\"] - trips_sorted_pilot[\"trip_started_readable\"]})\n",
    "trips_sorted_pilot = pd.concat([trips_sorted_pilot, trips_sorted_pilot_duration], axis=1)"
   ]
  },
  {
   "cell_type": "code",
   "execution_count": 176,
   "metadata": {},
   "outputs": [
    {
     "data": {
      "text/html": [
       "<div>\n",
       "<style>\n",
       "    .dataframe thead tr:only-child th {\n",
       "        text-align: right;\n",
       "    }\n",
       "\n",
       "    .dataframe thead th {\n",
       "        text-align: left;\n",
       "    }\n",
       "\n",
       "    .dataframe tbody tr th {\n",
       "        vertical-align: top;\n",
       "    }\n",
       "</style>\n",
       "<table border=\"1\" class=\"dataframe\">\n",
       "  <thead>\n",
       "    <tr style=\"text-align: right;\">\n",
       "      <th></th>\n",
       "      <th>id</th>\n",
       "      <th>pilot</th>\n",
       "      <th>trip_started_readable</th>\n",
       "      <th>trip_ended_readable</th>\n",
       "      <th>trip_started</th>\n",
       "      <th>trip_ended</th>\n",
       "      <th>trip_duration</th>\n",
       "    </tr>\n",
       "  </thead>\n",
       "  <tbody>\n",
       "    <tr>\n",
       "      <th>0</th>\n",
       "      <td>3030</td>\n",
       "      <td>0</td>\n",
       "      <td>2017-12-27 15:05:24</td>\n",
       "      <td>2017-12-27 15:45:14</td>\n",
       "      <td>1.514387e+09</td>\n",
       "      <td>1.514390e+09</td>\n",
       "      <td>00:39:50</td>\n",
       "    </tr>\n",
       "    <tr>\n",
       "      <th>1</th>\n",
       "      <td>3975</td>\n",
       "      <td>0</td>\n",
       "      <td>2017-12-27 16:51:20</td>\n",
       "      <td>2017-12-27 17:22:25</td>\n",
       "      <td>1.514393e+09</td>\n",
       "      <td>1.514395e+09</td>\n",
       "      <td>00:31:05</td>\n",
       "    </tr>\n",
       "    <tr>\n",
       "      <th>2</th>\n",
       "      <td>4670</td>\n",
       "      <td>0</td>\n",
       "      <td>2017-12-27 18:01:05</td>\n",
       "      <td>2017-12-27 18:32:14</td>\n",
       "      <td>1.514398e+09</td>\n",
       "      <td>1.514400e+09</td>\n",
       "      <td>00:31:09</td>\n",
       "    </tr>\n",
       "  </tbody>\n",
       "</table>\n",
       "</div>"
      ],
      "text/plain": [
       "     id  pilot trip_started_readable trip_ended_readable  trip_started  \\\n",
       "0  3030      0   2017-12-27 15:05:24 2017-12-27 15:45:14  1.514387e+09   \n",
       "1  3975      0   2017-12-27 16:51:20 2017-12-27 17:22:25  1.514393e+09   \n",
       "2  4670      0   2017-12-27 18:01:05 2017-12-27 18:32:14  1.514398e+09   \n",
       "\n",
       "     trip_ended trip_duration  \n",
       "0  1.514390e+09      00:39:50  \n",
       "1  1.514395e+09      00:31:05  \n",
       "2  1.514400e+09      00:31:09  "
      ]
     },
     "execution_count": 176,
     "metadata": {},
     "output_type": "execute_result"
    }
   ],
   "source": [
    "trips_sorted_pilot.head(3)"
   ]
  },
  {
   "cell_type": "markdown",
   "metadata": {},
   "source": [
    "We can subtract from each row's `trip_started` time the `trip_ended` time of the previous row to get the time elapsed between the two trips. Any negative value returned by this calculation indicates an overlap."
   ]
  },
  {
   "cell_type": "code",
   "execution_count": 177,
   "metadata": {},
   "outputs": [
    {
     "name": "stdout",
     "output_type": "stream",
     "text": [
      "CPU times: user 27.9 s, sys: 294 ms, total: 28.2 s\n",
      "Wall time: 29.5 s\n"
     ]
    }
   ],
   "source": [
    "%%time\n",
    "\n",
    "trips_sorted_pilot[\"prev_trip_elapsed\"] = None\n",
    "trips_sorted_pilot[\"overlap\"] = None\n",
    "\n",
    "for idx, row in trips_sorted_pilot.iterrows():\n",
    "    if idx == 0: continue\n",
    "        \n",
    "    curr_pilot = row[\"pilot\"]\n",
    "    prev_pilot = trips_sorted_pilot.loc[idx - 1][\"pilot\"]\n",
    "    if curr_pilot != prev_pilot: continue\n",
    "        \n",
    "    prev_end = trips_sorted_pilot.loc[idx - 1][\"trip_ended\"]\n",
    "    curr_str = row[\"trip_started\"]\n",
    "    elapsed = curr_str - prev_end\n",
    "    trips_sorted_pilot.loc[idx, \"prev_trip_elapsed\"] = elapsed\n",
    "    trips_sorted_pilot.loc[idx, \"overlap\"] = 1 if elapsed < 0 else 0"
   ]
  },
  {
   "cell_type": "code",
   "execution_count": 182,
   "metadata": {},
   "outputs": [
    {
     "data": {
      "text/html": [
       "<div>\n",
       "<style>\n",
       "    .dataframe thead tr:only-child th {\n",
       "        text-align: right;\n",
       "    }\n",
       "\n",
       "    .dataframe thead th {\n",
       "        text-align: left;\n",
       "    }\n",
       "\n",
       "    .dataframe tbody tr th {\n",
       "        vertical-align: top;\n",
       "    }\n",
       "</style>\n",
       "<table border=\"1\" class=\"dataframe\">\n",
       "  <thead>\n",
       "    <tr style=\"text-align: right;\">\n",
       "      <th></th>\n",
       "      <th>id</th>\n",
       "      <th>pilot</th>\n",
       "      <th>trip_started_readable</th>\n",
       "      <th>trip_ended_readable</th>\n",
       "      <th>trip_started</th>\n",
       "      <th>trip_ended</th>\n",
       "      <th>trip_duration</th>\n",
       "      <th>prev_trip_elapsed</th>\n",
       "      <th>overlap</th>\n",
       "    </tr>\n",
       "  </thead>\n",
       "  <tbody>\n",
       "    <tr>\n",
       "      <th>0</th>\n",
       "      <td>3030</td>\n",
       "      <td>0</td>\n",
       "      <td>2017-12-27 15:05:24</td>\n",
       "      <td>2017-12-27 15:45:14</td>\n",
       "      <td>1.514387e+09</td>\n",
       "      <td>1.514390e+09</td>\n",
       "      <td>00:39:50</td>\n",
       "      <td>None</td>\n",
       "      <td>None</td>\n",
       "    </tr>\n",
       "    <tr>\n",
       "      <th>1</th>\n",
       "      <td>3975</td>\n",
       "      <td>0</td>\n",
       "      <td>2017-12-27 16:51:20</td>\n",
       "      <td>2017-12-27 17:22:25</td>\n",
       "      <td>1.514393e+09</td>\n",
       "      <td>1.514395e+09</td>\n",
       "      <td>00:31:05</td>\n",
       "      <td>3966</td>\n",
       "      <td>0</td>\n",
       "    </tr>\n",
       "    <tr>\n",
       "      <th>2</th>\n",
       "      <td>4670</td>\n",
       "      <td>0</td>\n",
       "      <td>2017-12-27 18:01:05</td>\n",
       "      <td>2017-12-27 18:32:14</td>\n",
       "      <td>1.514398e+09</td>\n",
       "      <td>1.514400e+09</td>\n",
       "      <td>00:31:09</td>\n",
       "      <td>2320</td>\n",
       "      <td>0</td>\n",
       "    </tr>\n",
       "    <tr>\n",
       "      <th>3</th>\n",
       "      <td>3017</td>\n",
       "      <td>0</td>\n",
       "      <td>2017-12-27 19:20:02</td>\n",
       "      <td>2017-12-27 20:06:26</td>\n",
       "      <td>1.514402e+09</td>\n",
       "      <td>1.514405e+09</td>\n",
       "      <td>00:46:24</td>\n",
       "      <td>2868</td>\n",
       "      <td>0</td>\n",
       "    </tr>\n",
       "    <tr>\n",
       "      <th>4</th>\n",
       "      <td>3990</td>\n",
       "      <td>0</td>\n",
       "      <td>2017-12-27 19:38:46</td>\n",
       "      <td>2017-12-27 19:58:49</td>\n",
       "      <td>1.514404e+09</td>\n",
       "      <td>1.514405e+09</td>\n",
       "      <td>00:20:03</td>\n",
       "      <td>-1660</td>\n",
       "      <td>1</td>\n",
       "    </tr>\n",
       "    <tr>\n",
       "      <th>5</th>\n",
       "      <td>751</td>\n",
       "      <td>0</td>\n",
       "      <td>2017-12-27 19:33:51</td>\n",
       "      <td>2017-12-27 20:20:45</td>\n",
       "      <td>1.514403e+09</td>\n",
       "      <td>1.514406e+09</td>\n",
       "      <td>00:46:54</td>\n",
       "      <td>-1498</td>\n",
       "      <td>1</td>\n",
       "    </tr>\n",
       "    <tr>\n",
       "      <th>6</th>\n",
       "      <td>4720</td>\n",
       "      <td>0</td>\n",
       "      <td>2017-12-27 23:09:45</td>\n",
       "      <td>2017-12-27 23:37:43</td>\n",
       "      <td>1.514416e+09</td>\n",
       "      <td>1.514418e+09</td>\n",
       "      <td>00:27:58</td>\n",
       "      <td>10140</td>\n",
       "      <td>0</td>\n",
       "    </tr>\n",
       "    <tr>\n",
       "      <th>7</th>\n",
       "      <td>3603</td>\n",
       "      <td>0</td>\n",
       "      <td>2017-12-27 23:52:04</td>\n",
       "      <td>2017-12-28 00:40:37</td>\n",
       "      <td>1.514419e+09</td>\n",
       "      <td>1.514422e+09</td>\n",
       "      <td>00:48:33</td>\n",
       "      <td>861</td>\n",
       "      <td>0</td>\n",
       "    </tr>\n",
       "    <tr>\n",
       "      <th>8</th>\n",
       "      <td>3402</td>\n",
       "      <td>0</td>\n",
       "      <td>2017-12-28 01:32:18</td>\n",
       "      <td>2017-12-28 02:11:00</td>\n",
       "      <td>1.514425e+09</td>\n",
       "      <td>1.514427e+09</td>\n",
       "      <td>00:38:42</td>\n",
       "      <td>3101</td>\n",
       "      <td>0</td>\n",
       "    </tr>\n",
       "    <tr>\n",
       "      <th>9</th>\n",
       "      <td>4746</td>\n",
       "      <td>0</td>\n",
       "      <td>2017-12-28 02:47:03</td>\n",
       "      <td>2017-12-28 03:00:12</td>\n",
       "      <td>1.514429e+09</td>\n",
       "      <td>1.514430e+09</td>\n",
       "      <td>00:13:09</td>\n",
       "      <td>2163</td>\n",
       "      <td>0</td>\n",
       "    </tr>\n",
       "  </tbody>\n",
       "</table>\n",
       "</div>"
      ],
      "text/plain": [
       "     id  pilot trip_started_readable trip_ended_readable  trip_started  \\\n",
       "0  3030      0   2017-12-27 15:05:24 2017-12-27 15:45:14  1.514387e+09   \n",
       "1  3975      0   2017-12-27 16:51:20 2017-12-27 17:22:25  1.514393e+09   \n",
       "2  4670      0   2017-12-27 18:01:05 2017-12-27 18:32:14  1.514398e+09   \n",
       "3  3017      0   2017-12-27 19:20:02 2017-12-27 20:06:26  1.514402e+09   \n",
       "4  3990      0   2017-12-27 19:38:46 2017-12-27 19:58:49  1.514404e+09   \n",
       "5   751      0   2017-12-27 19:33:51 2017-12-27 20:20:45  1.514403e+09   \n",
       "6  4720      0   2017-12-27 23:09:45 2017-12-27 23:37:43  1.514416e+09   \n",
       "7  3603      0   2017-12-27 23:52:04 2017-12-28 00:40:37  1.514419e+09   \n",
       "8  3402      0   2017-12-28 01:32:18 2017-12-28 02:11:00  1.514425e+09   \n",
       "9  4746      0   2017-12-28 02:47:03 2017-12-28 03:00:12  1.514429e+09   \n",
       "\n",
       "     trip_ended trip_duration prev_trip_elapsed overlap  \n",
       "0  1.514390e+09      00:39:50              None    None  \n",
       "1  1.514395e+09      00:31:05              3966       0  \n",
       "2  1.514400e+09      00:31:09              2320       0  \n",
       "3  1.514405e+09      00:46:24              2868       0  \n",
       "4  1.514405e+09      00:20:03             -1660       1  \n",
       "5  1.514406e+09      00:46:54             -1498       1  \n",
       "6  1.514418e+09      00:27:58             10140       0  \n",
       "7  1.514422e+09      00:48:33               861       0  \n",
       "8  1.514427e+09      00:38:42              3101       0  \n",
       "9  1.514430e+09      00:13:09              2163       0  "
      ]
     },
     "execution_count": 182,
     "metadata": {},
     "output_type": "execute_result"
    }
   ],
   "source": [
    "trips_sorted_pilot.head(10)"
   ]
  },
  {
   "cell_type": "markdown",
   "metadata": {},
   "source": [
    "The later a pilot's account was created, the more likely they are to have an overlapping trip. \n",
    "\n",
    "At this point, I considered several strategies for dealing with the overlapping trips. Moving the start time of each trip some interval beyond of the end time of the previous trip, isolating the overlapping trips and generating new timestamps for them until no overlap remained in the dataframe, but after finding out that overlapping trips consisted of no more than 5% of our overall trips data..."
   ]
  },
  {
   "cell_type": "code",
   "execution_count": 187,
   "metadata": {},
   "outputs": [
    {
     "data": {
      "text/plain": [
       "0.0433"
      ]
     },
     "execution_count": 187,
     "metadata": {},
     "output_type": "execute_result"
    }
   ],
   "source": [
    "float(trips_sorted_pilot[\"overlap\"].sum()) / len(trips_sorted_pilot)"
   ]
  },
  {
   "cell_type": "markdown",
   "metadata": {},
   "source": [
    "... I decided that moving timestamps around was far more likely to create unintended patterns in our data and just dropped overlapping trips from the dataframe."
   ]
  },
  {
   "cell_type": "code",
   "execution_count": 203,
   "metadata": {
    "collapsed": true
   },
   "outputs": [],
   "source": [
    "overlapping_trip_ids = trips_sorted_pilot[trips_sorted_pilot[\"overlap\"] == 1][\"id\"].values\n",
    "df_trips = df_trips.drop(overlapping_trip_ids)"
   ]
  },
  {
   "cell_type": "markdown",
   "metadata": {},
   "source": [
    "Now we have to do the same for passengers - but fewer passengers should have overlapping trips since trips are spread out over a 10x greater number of passengers:"
   ]
  },
  {
   "cell_type": "code",
   "execution_count": null,
   "metadata": {
    "collapsed": true
   },
   "outputs": [],
   "source": []
  },
  {
   "cell_type": "code",
   "execution_count": 48,
   "metadata": {},
   "outputs": [
    {
     "data": {
      "text/html": [
       "<div>\n",
       "<style>\n",
       "    .dataframe thead tr:only-child th {\n",
       "        text-align: right;\n",
       "    }\n",
       "\n",
       "    .dataframe thead th {\n",
       "        text-align: left;\n",
       "    }\n",
       "\n",
       "    .dataframe tbody tr th {\n",
       "        vertical-align: top;\n",
       "    }\n",
       "</style>\n",
       "<table border=\"1\" class=\"dataframe\">\n",
       "  <thead>\n",
       "    <tr style=\"text-align: right;\">\n",
       "      <th></th>\n",
       "      <th>pilot</th>\n",
       "      <th>planet</th>\n",
       "      <th>passenger</th>\n",
       "      <th>trip_completed</th>\n",
       "      <th>trip_requested</th>\n",
       "      <th>trip_started</th>\n",
       "      <th>trip_ended</th>\n",
       "    </tr>\n",
       "  </thead>\n",
       "  <tbody>\n",
       "    <tr>\n",
       "      <th>0</th>\n",
       "      <td>43</td>\n",
       "      <td>6</td>\n",
       "      <td>928</td>\n",
       "      <td>1</td>\n",
       "      <td>1.512703e+09</td>\n",
       "      <td>1.512704e+09</td>\n",
       "      <td>1.512704e+09</td>\n",
       "    </tr>\n",
       "    <tr>\n",
       "      <th>1</th>\n",
       "      <td>70</td>\n",
       "      <td>6</td>\n",
       "      <td>634</td>\n",
       "      <td>1</td>\n",
       "      <td>1.505695e+09</td>\n",
       "      <td>1.505695e+09</td>\n",
       "      <td>1.505696e+09</td>\n",
       "    </tr>\n",
       "    <tr>\n",
       "      <th>2</th>\n",
       "      <td>31</td>\n",
       "      <td>6</td>\n",
       "      <td>394</td>\n",
       "      <td>1</td>\n",
       "      <td>1.508565e+09</td>\n",
       "      <td>1.508565e+09</td>\n",
       "      <td>1.508566e+09</td>\n",
       "    </tr>\n",
       "  </tbody>\n",
       "</table>\n",
       "</div>"
      ],
      "text/plain": [
       "   pilot  planet passenger  trip_completed  trip_requested  trip_started  \\\n",
       "0     43       6       928               1    1.512703e+09  1.512704e+09   \n",
       "1     70       6       634               1    1.505695e+09  1.505695e+09   \n",
       "2     31       6       394               1    1.508565e+09  1.508565e+09   \n",
       "\n",
       "     trip_ended  \n",
       "0  1.512704e+09  \n",
       "1  1.505696e+09  \n",
       "2  1.508566e+09  "
      ]
     },
     "execution_count": 48,
     "metadata": {},
     "output_type": "execute_result"
    }
   ],
   "source": [
    "df_trips.head(3)"
   ]
  },
  {
   "cell_type": "markdown",
   "metadata": {},
   "source": [
    "* price - integer\n",
    "* pilot_rating - integer\n",
    "* passenger_rating - integer\n",
    "\n",
    "Price is determined from the duration of the trip, and is slightly higher if the trip takes place during daylight hours."
   ]
  },
  {
   "cell_type": "code",
   "execution_count": null,
   "metadata": {
    "collapsed": true
   },
   "outputs": [],
   "source": []
  },
  {
   "cell_type": "markdown",
   "metadata": {},
   "source": [
    "We can use the same quantile groups to randomly assign a trip rating to pilots:"
   ]
  },
  {
   "cell_type": "code",
   "execution_count": null,
   "metadata": {
    "collapsed": true
   },
   "outputs": [],
   "source": []
  },
  {
   "cell_type": "markdown",
   "metadata": {},
   "source": [
    "As well as passengers:"
   ]
  },
  {
   "cell_type": "code",
   "execution_count": null,
   "metadata": {
    "collapsed": true
   },
   "outputs": [],
   "source": []
  },
  {
   "cell_type": "markdown",
   "metadata": {},
   "source": [
    "We have our datasets! SUCH BEAUTIES."
   ]
  },
  {
   "cell_type": "code",
   "execution_count": null,
   "metadata": {
    "collapsed": true
   },
   "outputs": [],
   "source": []
  },
  {
   "cell_type": "markdown",
   "metadata": {},
   "source": [
    "What kinds of questions can we try to answer with them?"
   ]
  },
  {
   "cell_type": "code",
   "execution_count": null,
   "metadata": {
    "collapsed": true
   },
   "outputs": [],
   "source": []
  }
 ],
 "metadata": {
  "kernelspec": {
   "display_name": "Python 2",
   "language": "python",
   "name": "python2"
  },
  "language_info": {
   "codemirror_mode": {
    "name": "ipython",
    "version": 2
   },
   "file_extension": ".py",
   "mimetype": "text/x-python",
   "name": "python",
   "nbconvert_exporter": "python",
   "pygments_lexer": "ipython2",
   "version": "2.7.14"
  }
 },
 "nbformat": 4,
 "nbformat_minor": 2
}
