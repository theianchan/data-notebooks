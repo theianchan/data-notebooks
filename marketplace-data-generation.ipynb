{
 "cells": [
  {
   "cell_type": "markdown",
   "metadata": {},
   "source": [
    "## Problem"
   ]
  },
  {
   "cell_type": "markdown",
   "metadata": {},
   "source": [
    "We want to practice extracting insights from datasets resembling what we might encounter at a marketplace company like Doordash, Lyft, or Uber. The 538 [Uber Pickups in New York City](https://www.kaggle.com/fivethirtyeight/uber-pickups-in-new-york-city/data) dataset exists, but contains mostly location data:"
   ]
  },
  {
   "cell_type": "code",
   "execution_count": 1,
   "metadata": {
    "collapsed": true
   },
   "outputs": [],
   "source": [
    "import pandas as pd"
   ]
  },
  {
   "cell_type": "code",
   "execution_count": 2,
   "metadata": {},
   "outputs": [
    {
     "data": {
      "text/html": [
       "<div>\n",
       "<style>\n",
       "    .dataframe thead tr:only-child th {\n",
       "        text-align: right;\n",
       "    }\n",
       "\n",
       "    .dataframe thead th {\n",
       "        text-align: left;\n",
       "    }\n",
       "\n",
       "    .dataframe tbody tr th {\n",
       "        vertical-align: top;\n",
       "    }\n",
       "</style>\n",
       "<table border=\"1\" class=\"dataframe\">\n",
       "  <thead>\n",
       "    <tr style=\"text-align: right;\">\n",
       "      <th></th>\n",
       "      <th>dispatching_base_number</th>\n",
       "      <th>date</th>\n",
       "      <th>active_vehicles</th>\n",
       "      <th>trips</th>\n",
       "    </tr>\n",
       "  </thead>\n",
       "  <tbody>\n",
       "    <tr>\n",
       "      <th>0</th>\n",
       "      <td>B02512</td>\n",
       "      <td>2015-01-01</td>\n",
       "      <td>190</td>\n",
       "      <td>1132</td>\n",
       "    </tr>\n",
       "    <tr>\n",
       "      <th>1</th>\n",
       "      <td>B02765</td>\n",
       "      <td>2015-01-01</td>\n",
       "      <td>225</td>\n",
       "      <td>1765</td>\n",
       "    </tr>\n",
       "    <tr>\n",
       "      <th>2</th>\n",
       "      <td>B02764</td>\n",
       "      <td>2015-01-01</td>\n",
       "      <td>3427</td>\n",
       "      <td>29421</td>\n",
       "    </tr>\n",
       "  </tbody>\n",
       "</table>\n",
       "</div>"
      ],
      "text/plain": [
       "  dispatching_base_number       date  active_vehicles  trips\n",
       "0                  B02512 2015-01-01              190   1132\n",
       "1                  B02765 2015-01-01              225   1765\n",
       "2                  B02764 2015-01-01             3427  29421"
      ]
     },
     "execution_count": 2,
     "metadata": {},
     "output_type": "execute_result"
    }
   ],
   "source": [
    "foil_538 = pd.read_csv(\"data/uber/uber-foil.csv\", parse_dates=[\"date\"])\n",
    "foil_538.head(3)"
   ]
  },
  {
   "cell_type": "code",
   "execution_count": 3,
   "metadata": {},
   "outputs": [
    {
     "data": {
      "text/html": [
       "<div>\n",
       "<style>\n",
       "    .dataframe thead tr:only-child th {\n",
       "        text-align: right;\n",
       "    }\n",
       "\n",
       "    .dataframe thead th {\n",
       "        text-align: left;\n",
       "    }\n",
       "\n",
       "    .dataframe tbody tr th {\n",
       "        vertical-align: top;\n",
       "    }\n",
       "</style>\n",
       "<table border=\"1\" class=\"dataframe\">\n",
       "  <thead>\n",
       "    <tr style=\"text-align: right;\">\n",
       "      <th></th>\n",
       "      <th>Date/Time</th>\n",
       "      <th>Lat</th>\n",
       "      <th>Lon</th>\n",
       "      <th>Base</th>\n",
       "    </tr>\n",
       "  </thead>\n",
       "  <tbody>\n",
       "    <tr>\n",
       "      <th>0</th>\n",
       "      <td>2014-04-01 00:11:00</td>\n",
       "      <td>40.7690</td>\n",
       "      <td>-73.9549</td>\n",
       "      <td>B02512</td>\n",
       "    </tr>\n",
       "    <tr>\n",
       "      <th>1</th>\n",
       "      <td>2014-04-01 00:17:00</td>\n",
       "      <td>40.7267</td>\n",
       "      <td>-74.0345</td>\n",
       "      <td>B02512</td>\n",
       "    </tr>\n",
       "    <tr>\n",
       "      <th>2</th>\n",
       "      <td>2014-04-01 00:21:00</td>\n",
       "      <td>40.7316</td>\n",
       "      <td>-73.9873</td>\n",
       "      <td>B02512</td>\n",
       "    </tr>\n",
       "  </tbody>\n",
       "</table>\n",
       "</div>"
      ],
      "text/plain": [
       "            Date/Time      Lat      Lon    Base\n",
       "0 2014-04-01 00:11:00  40.7690 -73.9549  B02512\n",
       "1 2014-04-01 00:17:00  40.7267 -74.0345  B02512\n",
       "2 2014-04-01 00:21:00  40.7316 -73.9873  B02512"
      ]
     },
     "execution_count": 3,
     "metadata": {},
     "output_type": "execute_result"
    }
   ],
   "source": [
    "dapr_538 = pd.read_csv(\"data/uber/uber-raw-apr14.csv\", parse_dates=[\"Date/Time\"])\n",
    "dapr_538.head(3)"
   ]
  },
  {
   "cell_type": "markdown",
   "metadata": {},
   "source": [
    "## Solution"
   ]
  },
  {
   "cell_type": "markdown",
   "metadata": {},
   "source": [
    "Generate our own universe of marketplace company data. Duh.\n",
    "\n",
    "In this universe, we have a ridesharing company whose data exists in four tables:\n",
    "\n",
    "**trips**\n",
    "\n",
    "* id - integer\n",
    "* pilot - integer\n",
    "* passenger - integer\n",
    "* planet - id\n",
    "* trip_completed - boolean\n",
    "* trip_requested - timestamp\n",
    "* trip_started - timestamp\n",
    "* trip_ended - timestamp\n",
    "* price - integer\n",
    "* pilot_rating - integer\n",
    "* passenger_rating - integer\n",
    "\n",
    "**planets**\n",
    "\n",
    "* id - integer\n",
    "* name - string\n",
    "\n",
    "**pilots**\n",
    "\n",
    "* id - integer\n",
    "* rating - integer\n",
    "* banned - boolean\n",
    "* created - timestamp\n",
    "\n",
    "**passengers**\n",
    "\n",
    "* id - integer\n",
    "* rating - integer\n",
    "* banned - boolean\n",
    "* created - timestamp\n",
    "\n",
    "Yes, when I said \"universe\" I meant it literally."
   ]
  },
  {
   "cell_type": "markdown",
   "metadata": {},
   "source": [
    "## Planets"
   ]
  },
  {
   "cell_type": "markdown",
   "metadata": {},
   "source": [
    "* id - integer\n",
    "* name - string\n",
    "\n",
    "Let's start with planets, which seems like it should be pretty easy."
   ]
  },
  {
   "cell_type": "code",
   "execution_count": 4,
   "metadata": {
    "collapsed": true
   },
   "outputs": [],
   "source": [
    "planets = [\"Alderaan\", \"Chandrila\", \"Corellia\", \"Coruscant\", \"Duro\", \"Hosnian Prime\", \"Kuat\"]"
   ]
  },
  {
   "cell_type": "markdown",
   "metadata": {},
   "source": [
    "I know that I'm listing core worlds only, and I can already hear your accusations about my liberal core world elitism, but the reality is that worlds in the outer rim simply don't have the infrastructure to support ridesharing on the scale we're interested in. \n",
    "\n",
    "Pilots and passengers do occasionally arrange shared rides within and between systems, but these trips are usually negotiated in a more informal setting like, for example, a cantina."
   ]
  },
  {
   "cell_type": "code",
   "execution_count": 5,
   "metadata": {},
   "outputs": [
    {
     "data": {
      "text/html": [
       "<div>\n",
       "<style>\n",
       "    .dataframe thead tr:only-child th {\n",
       "        text-align: right;\n",
       "    }\n",
       "\n",
       "    .dataframe thead th {\n",
       "        text-align: left;\n",
       "    }\n",
       "\n",
       "    .dataframe tbody tr th {\n",
       "        vertical-align: top;\n",
       "    }\n",
       "</style>\n",
       "<table border=\"1\" class=\"dataframe\">\n",
       "  <thead>\n",
       "    <tr style=\"text-align: right;\">\n",
       "      <th></th>\n",
       "      <th>id</th>\n",
       "      <th>name</th>\n",
       "    </tr>\n",
       "  </thead>\n",
       "  <tbody>\n",
       "    <tr>\n",
       "      <th>0</th>\n",
       "      <td>0</td>\n",
       "      <td>Alderaan</td>\n",
       "    </tr>\n",
       "    <tr>\n",
       "      <th>1</th>\n",
       "      <td>1</td>\n",
       "      <td>Chandrila</td>\n",
       "    </tr>\n",
       "    <tr>\n",
       "      <th>2</th>\n",
       "      <td>2</td>\n",
       "      <td>Corellia</td>\n",
       "    </tr>\n",
       "    <tr>\n",
       "      <th>3</th>\n",
       "      <td>3</td>\n",
       "      <td>Coruscant</td>\n",
       "    </tr>\n",
       "    <tr>\n",
       "      <th>4</th>\n",
       "      <td>4</td>\n",
       "      <td>Duro</td>\n",
       "    </tr>\n",
       "    <tr>\n",
       "      <th>5</th>\n",
       "      <td>5</td>\n",
       "      <td>Hosnian Prime</td>\n",
       "    </tr>\n",
       "    <tr>\n",
       "      <th>6</th>\n",
       "      <td>6</td>\n",
       "      <td>Kuat</td>\n",
       "    </tr>\n",
       "  </tbody>\n",
       "</table>\n",
       "</div>"
      ],
      "text/plain": [
       "   id           name\n",
       "0   0       Alderaan\n",
       "1   1      Chandrila\n",
       "2   2       Corellia\n",
       "3   3      Coruscant\n",
       "4   4           Duro\n",
       "5   5  Hosnian Prime\n",
       "6   6           Kuat"
      ]
     },
     "execution_count": 5,
     "metadata": {},
     "output_type": "execute_result"
    }
   ],
   "source": [
    "df_planets = pd.DataFrame({\"name\": planets, \"id\": range(len(planets))})\n",
    "df_planets"
   ]
  },
  {
   "cell_type": "markdown",
   "metadata": {},
   "source": [
    "## Pilots"
   ]
  },
  {
   "cell_type": "markdown",
   "metadata": {},
   "source": [
    "* id - integer\n",
    "* rating - integer\n",
    "* banned - boolean\n",
    "* created - timestamp\n",
    "\n",
    "Let's say that we have 100 pilots in our system. Pilot maintain a rating between 1 and 5 stars. Just like in our world, passengers in our simulated universe tend to be pretty nice when rating pilots, so distributions of pilot ratings are skewed towards the higher end."
   ]
  },
  {
   "cell_type": "code",
   "execution_count": 6,
   "metadata": {
    "collapsed": true
   },
   "outputs": [],
   "source": [
    "%matplotlib inline\n",
    "import numpy as np\n",
    "import seaborn as sns\n",
    "import scipy.stats as stats"
   ]
  },
  {
   "cell_type": "code",
   "execution_count": 7,
   "metadata": {
    "collapsed": true
   },
   "outputs": [],
   "source": [
    "pilot_ratings = np.concatenate((\n",
    "    stats.norm.rvs(loc=4.5, scale=0.3, size=70),\n",
    "    stats.skewnorm.rvs(a=-1, loc=4, scale=1, size=30)\n",
    ")).clip(0.01, 4.99)\n",
    "\n",
    "df_pilots = pd.DataFrame({\"rating\" : pilot_ratings, \"id\": range(len(pilot_ratings))})"
   ]
  },
  {
   "cell_type": "code",
   "execution_count": 8,
   "metadata": {},
   "outputs": [
    {
     "data": {
      "image/png": "[encoded data removed]",
      "text/plain": [
       "<matplotlib.figure.Figure at 0x115e17990>"
      ]
     },
     "metadata": {},
     "output_type": "display_data"
    }
   ],
   "source": [
    "_ = df_pilots[\"rating\"].plot(kind=\"hist\", bins=11)"
   ]
  },
  {
   "cell_type": "markdown",
   "metadata": {},
   "source": [
    "Some portion of pilots have been banned from our system. Pilots with low ratings are more likely to be banned."
   ]
  },
  {
   "cell_type": "code",
   "execution_count": 9,
   "metadata": {
    "collapsed": true
   },
   "outputs": [],
   "source": [
    "df_pilots[\"banned\"] = 0\n",
    "\n",
    "pilot_pct_75 = df_pilots[\"rating\"].quantile(0.75)\n",
    "pilot_pct_50 = df_pilots[\"rating\"].quantile(0.50)\n",
    "\n",
    "pilots_abv_75th_pct = (df_pilots[\"rating\"] >= pilot_pct_75)\n",
    "pilots_abv_50th_pct = ((df_pilots[\"rating\"] >= pilot_pct_50) & (df_pilots[\"rating\"] < pilot_pct_75))\n",
    "pilots_blw_50th_pct = (df_pilots[\"rating\"] < pilot_pct_50)\n",
    "\n",
    "df_pilots.loc[pilots_abv_75th_pct, \"banned\"] = np.random.choice([1, 0], size=25, p=[0.05, 0.95])\n",
    "df_pilots.loc[pilots_abv_50th_pct, \"banned\"] = np.random.choice([1, 0], size=25, p=[0.10, 0.90]) \n",
    "df_pilots.loc[pilots_blw_50th_pct, \"banned\"] = np.random.choice([1, 0], size=50, p=[0.15, 0.85]) "
   ]
  },
  {
   "cell_type": "code",
   "execution_count": 10,
   "metadata": {},
   "outputs": [
    {
     "data": {
      "image/png": "[encoded data removed]",
      "text/plain": [
       "<matplotlib.figure.Figure at 0x1185f4f50>"
      ]
     },
     "metadata": {},
     "output_type": "display_data"
    }
   ],
   "source": [
    "_ = pd.crosstab(\n",
    "    index=np.round(df_pilots[\"rating\"], 1),\n",
    "    columns=df_pilots[\"banned\"]\n",
    ").plot.bar(stacked=True)"
   ]
  },
  {
   "cell_type": "markdown",
   "metadata": {},
   "source": [
    "Finally, let's uniformly distribute the time and day each pilot account was created throughout 2017 (yes, our simulated universe runs entirely on UTC it's really quite a remarkable feat of coordination):"
   ]
  },
  {
   "cell_type": "code",
   "execution_count": 11,
   "metadata": {
    "collapsed": true
   },
   "outputs": [],
   "source": [
    "import datetime, random"
   ]
  },
  {
   "cell_type": "code",
   "execution_count": 12,
   "metadata": {
    "collapsed": true
   },
   "outputs": [],
   "source": [
    "def timestamps_between(start, end, size):\n",
    "    ts_start = int((start - datetime.datetime(1970, 1, 1)).total_seconds())\n",
    "    duration = int((end - start).total_seconds())\n",
    "    return np.array(random.sample(range(int(duration)), size)) + ts_start"
   ]
  },
  {
   "cell_type": "code",
   "execution_count": 13,
   "metadata": {
    "collapsed": true
   },
   "outputs": [],
   "source": [
    "str_2017 = datetime.datetime(2017, 1, 1, 0, 0, 0)\n",
    "end_2017 = datetime.datetime(2017, 12, 31, 23, 59, 59)"
   ]
  },
  {
   "cell_type": "code",
   "execution_count": 14,
   "metadata": {
    "collapsed": true
   },
   "outputs": [],
   "source": [
    "pilot_timestamps = timestamps_between(str_2017, end_2017, 100)\n",
    "df_pilots[\"created\"] = pilot_timestamps"
   ]
  },
  {
   "cell_type": "code",
   "execution_count": 15,
   "metadata": {},
   "outputs": [
    {
     "data": {
      "image/png": "[encoded data removed]",
      "text/plain": [
       "<matplotlib.figure.Figure at 0x118ae56d0>"
      ]
     },
     "metadata": {},
     "output_type": "display_data"
    }
   ],
   "source": [
    "_ = df_pilots[\"created\"].plot(kind=\"density\")"
   ]
  },
  {
   "cell_type": "code",
   "execution_count": 16,
   "metadata": {},
   "outputs": [
    {
     "data": {
      "text/html": [
       "<div>\n",
       "<style>\n",
       "    .dataframe thead tr:only-child th {\n",
       "        text-align: right;\n",
       "    }\n",
       "\n",
       "    .dataframe thead th {\n",
       "        text-align: left;\n",
       "    }\n",
       "\n",
       "    .dataframe tbody tr th {\n",
       "        vertical-align: top;\n",
       "    }\n",
       "</style>\n",
       "<table border=\"1\" class=\"dataframe\">\n",
       "  <thead>\n",
       "    <tr style=\"text-align: right;\">\n",
       "      <th></th>\n",
       "      <th>id</th>\n",
       "      <th>rating</th>\n",
       "      <th>banned</th>\n",
       "      <th>created</th>\n",
       "    </tr>\n",
       "  </thead>\n",
       "  <tbody>\n",
       "    <tr>\n",
       "      <th>0</th>\n",
       "      <td>0</td>\n",
       "      <td>4.071063</td>\n",
       "      <td>0</td>\n",
       "      <td>1503089296</td>\n",
       "    </tr>\n",
       "    <tr>\n",
       "      <th>1</th>\n",
       "      <td>1</td>\n",
       "      <td>4.199823</td>\n",
       "      <td>0</td>\n",
       "      <td>1513791234</td>\n",
       "    </tr>\n",
       "    <tr>\n",
       "      <th>2</th>\n",
       "      <td>2</td>\n",
       "      <td>4.470100</td>\n",
       "      <td>0</td>\n",
       "      <td>1501564274</td>\n",
       "    </tr>\n",
       "  </tbody>\n",
       "</table>\n",
       "</div>"
      ],
      "text/plain": [
       "   id    rating  banned     created\n",
       "0   0  4.071063       0  1503089296\n",
       "1   1  4.199823       0  1513791234\n",
       "2   2  4.470100       0  1501564274"
      ]
     },
     "execution_count": 16,
     "metadata": {},
     "output_type": "execute_result"
    }
   ],
   "source": [
    "df_pilots.head(3)"
   ]
  },
  {
   "cell_type": "markdown",
   "metadata": {},
   "source": [
    "Nice."
   ]
  },
  {
   "cell_type": "markdown",
   "metadata": {},
   "source": [
    "## Passengers"
   ]
  },
  {
   "cell_type": "markdown",
   "metadata": {},
   "source": [
    "We're going to do the same for our 1,000 passengers, but relax the skew in the distribution of their ratings."
   ]
  },
  {
   "cell_type": "code",
   "execution_count": 17,
   "metadata": {
    "collapsed": true
   },
   "outputs": [],
   "source": [
    "passenger_ratings = np.concatenate((\n",
    "    stats.norm.rvs(loc=4.5, scale=0.3, size=500),\n",
    "    stats.skewnorm.rvs(a=-1, loc=4, scale=1, size=500)\n",
    ")).clip(0.01, 4.99)\n",
    "\n",
    "df_passengers = pd.DataFrame({\"rating\": passenger_ratings, \"id\": range(len(passenger_ratings))})"
   ]
  },
  {
   "cell_type": "code",
   "execution_count": 18,
   "metadata": {
    "collapsed": true
   },
   "outputs": [],
   "source": [
    "import matplotlib.pyplot as plt"
   ]
  },
  {
   "cell_type": "code",
   "execution_count": 19,
   "metadata": {},
   "outputs": [
    {
     "data": {
      "image/png": "[encoded data removed]",
      "text/plain": [
       "<matplotlib.figure.Figure at 0x1188cc090>"
      ]
     },
     "metadata": {},
     "output_type": "display_data"
    }
   ],
   "source": [
    "fig, axarr = plt.subplots(1, 2, figsize=(12, 6))\n",
    "\n",
    "_ = df_passengers[\"rating\"].plot(kind=\"hist\", bins=11, ax=axarr[0])\n",
    "_ = axarr[0].set_title(\"Distribution of Passenger Ratings\")\n",
    "_ = df_pilots[\"rating\"].plot(kind=\"hist\", bins=11, ax=axarr[1])\n",
    "_ = axarr[1].set_title(\"Distribution of Pilot Ratings\")"
   ]
  },
  {
   "cell_type": "markdown",
   "metadata": {},
   "source": [
    "We'll also slightly reduce the probability of a passenger having been banned from the service..."
   ]
  },
  {
   "cell_type": "code",
   "execution_count": 20,
   "metadata": {
    "collapsed": true
   },
   "outputs": [],
   "source": [
    "df_passengers[\"banned\"] = 0\n",
    "\n",
    "passenger_pct_75 = df_passengers[\"rating\"].quantile(0.75)\n",
    "passenger_pct_50 = df_passengers[\"rating\"].quantile(0.50)\n",
    "\n",
    "passengers_abv_75th_pct = (df_passengers[\"rating\"] >= passenger_pct_75)\n",
    "passengers_abv_50th_pct = ((df_passengers[\"rating\"] >= passenger_pct_50) & (df_passengers[\"rating\"] < passenger_pct_75))\n",
    "passengers_blw_50th_pct = (df_passengers[\"rating\"] < passenger_pct_50)\n",
    "\n",
    "df_passengers.loc[passengers_abv_75th_pct, \"banned\"] = np.random.choice([1, 0], size=250, p=[0.03, 0.97])\n",
    "df_passengers.loc[passengers_abv_50th_pct, \"banned\"] = np.random.choice([1, 0], size=250, p=[0.07, 0.93]) \n",
    "df_passengers.loc[passengers_blw_50th_pct, \"banned\"] = np.random.choice([1, 0], size=500, p=[0.13, 0.87]) "
   ]
  },
  {
   "cell_type": "code",
   "execution_count": 21,
   "metadata": {
    "scrolled": false
   },
   "outputs": [
    {
     "data": {
      "image/png": "[encoded data removed]",
      "text/plain": [
       "<matplotlib.figure.Figure at 0x118e501d0>"
      ]
     },
     "metadata": {},
     "output_type": "display_data"
    }
   ],
   "source": [
    "fig, axarr = plt.subplots(2, 1, figsize=(15, 12))\n",
    "\n",
    "_ = pd.crosstab(\n",
    "    index=np.round(df_passengers[\"rating\"], 1),\n",
    "    columns=df_passengers[\"banned\"]\n",
    ").plot.bar(stacked=True, ax=axarr[0])\n",
    "_ = axarr[0].set_title(\"Banned and Unbanned Passengers by Rating\")\n",
    "\n",
    "_ = pd.crosstab(\n",
    "    index=np.round(df_pilots[\"rating\"], 1),\n",
    "    columns=df_pilots[\"banned\"]\n",
    ").plot.bar(stacked=True, ax=axarr[1])\n",
    "_ = axarr[1].set_title(\"Banned and Unbanned Pilots by Rating\")\n",
    "\n",
    "plt.subplots_adjust(hspace=0.25)"
   ]
  },
  {
   "cell_type": "markdown",
   "metadata": {},
   "source": [
    "... But keep the rules for account creation the same."
   ]
  },
  {
   "cell_type": "code",
   "execution_count": 22,
   "metadata": {
    "collapsed": true
   },
   "outputs": [],
   "source": [
    "passenger_timestamps = timestamps_between(str_2017, end_2017, 1000)\n",
    "df_passengers[\"created\"] = passenger_timestamps"
   ]
  },
  {
   "cell_type": "code",
   "execution_count": 23,
   "metadata": {},
   "outputs": [
    {
     "data": {
      "image/png": "[encoded data removed]",
      "text/plain": [
       "<matplotlib.figure.Figure at 0x118eb7910>"
      ]
     },
     "metadata": {},
     "output_type": "display_data"
    }
   ],
   "source": [
    "fig, axarr = plt.subplots(1, 2, figsize=(12, 6))\n",
    "\n",
    "_ = df_passengers[\"created\"].plot(kind=\"density\", ax=axarr[0])\n",
    "_ = axarr[0].set_title(\"Passenger Account Creation Density\")\n",
    "_ = df_pilots[\"created\"].plot(kind=\"density\", ax=axarr[1])\n",
    "_ = axarr[1].set_title(\"Pilot Account Creation Density\")"
   ]
  },
  {
   "cell_type": "code",
   "execution_count": 24,
   "metadata": {},
   "outputs": [
    {
     "data": {
      "text/html": [
       "<div>\n",
       "<style>\n",
       "    .dataframe thead tr:only-child th {\n",
       "        text-align: right;\n",
       "    }\n",
       "\n",
       "    .dataframe thead th {\n",
       "        text-align: left;\n",
       "    }\n",
       "\n",
       "    .dataframe tbody tr th {\n",
       "        vertical-align: top;\n",
       "    }\n",
       "</style>\n",
       "<table border=\"1\" class=\"dataframe\">\n",
       "  <thead>\n",
       "    <tr style=\"text-align: right;\">\n",
       "      <th></th>\n",
       "      <th>id</th>\n",
       "      <th>rating</th>\n",
       "      <th>banned</th>\n",
       "      <th>created</th>\n",
       "    </tr>\n",
       "  </thead>\n",
       "  <tbody>\n",
       "    <tr>\n",
       "      <th>0</th>\n",
       "      <td>0</td>\n",
       "      <td>4.897899</td>\n",
       "      <td>0</td>\n",
       "      <td>1509974947</td>\n",
       "    </tr>\n",
       "    <tr>\n",
       "      <th>1</th>\n",
       "      <td>1</td>\n",
       "      <td>4.315006</td>\n",
       "      <td>0</td>\n",
       "      <td>1497368554</td>\n",
       "    </tr>\n",
       "    <tr>\n",
       "      <th>2</th>\n",
       "      <td>2</td>\n",
       "      <td>4.069172</td>\n",
       "      <td>0</td>\n",
       "      <td>1496991675</td>\n",
       "    </tr>\n",
       "  </tbody>\n",
       "</table>\n",
       "</div>"
      ],
      "text/plain": [
       "   id    rating  banned     created\n",
       "0   0  4.897899       0  1509974947\n",
       "1   1  4.315006       0  1497368554\n",
       "2   2  4.069172       0  1496991675"
      ]
     },
     "execution_count": 24,
     "metadata": {},
     "output_type": "execute_result"
    }
   ],
   "source": [
    "df_passengers.head(3)"
   ]
  },
  {
   "cell_type": "markdown",
   "metadata": {},
   "source": [
    "## Trips"
   ]
  },
  {
   "cell_type": "markdown",
   "metadata": {},
   "source": [
    "This is a big one. Let's break it down into several parts."
   ]
  },
  {
   "cell_type": "markdown",
   "metadata": {},
   "source": [
    "### Trips - id, pilot, passenger, planet"
   ]
  },
  {
   "cell_type": "markdown",
   "metadata": {},
   "source": [
    "* id - integer\n",
    "* pilot - integer\n",
    "* passenger - integer\n",
    "* planet - id\n",
    "\n",
    "We can start by assigning pilots and passengers to planets. For sanity's sake, we'll make the assumption that neither pilots nor passengers ever participate in trips outside their home planets."
   ]
  },
  {
   "cell_type": "code",
   "execution_count": 25,
   "metadata": {
    "collapsed": true
   },
   "outputs": [],
   "source": [
    "probs_planets = [0.05, 0.03, 0.18, 0.34, 0.10, 0.16, 0.14]"
   ]
  },
  {
   "cell_type": "code",
   "execution_count": 26,
   "metadata": {
    "collapsed": true
   },
   "outputs": [],
   "source": [
    "pilot_planets = pd.DataFrame({\n",
    "    \"pilot\": df_pilots[\"id\"],\n",
    "    \"planet\": np.random.choice(df_planets[\"id\"], size=len(df_pilots), p=probs_planets)\n",
    "})\n",
    "\n",
    "passenger_planets = pd.DataFrame({\n",
    "    \"passenger\": df_passengers[\"id\"],\n",
    "    \"planet\": np.random.choice(df_planets[\"id\"], size=len(df_passengers), p=probs_planets)\n",
    "})"
   ]
  },
  {
   "cell_type": "markdown",
   "metadata": {},
   "source": [
    "We'll suppose that 40% of our pilots are providing roughly 50% of the 10,000 trips."
   ]
  },
  {
   "cell_type": "code",
   "execution_count": 27,
   "metadata": {
    "collapsed": true
   },
   "outputs": [],
   "source": [
    "def split_df(df, split_size):\n",
    "    a = np.random.choice(df.index, size=split_size, replace=False)\n",
    "    b = np.array(df.copy().drop(a).index)\n",
    "    return a, b"
   ]
  },
  {
   "cell_type": "code",
   "execution_count": 28,
   "metadata": {
    "code_folding": [],
    "collapsed": true
   },
   "outputs": [],
   "source": [
    "pilots_40_idx, pilots_60_idx = split_df(df_pilots, 40)\n",
    "\n",
    "trip_pilots = np.concatenate((\n",
    "    np.random.choice(pilots_40_idx, size=5000, replace=True),\n",
    "    np.random.choice(pilots_60_idx, size=5000, replace=True)\n",
    "))\n",
    "\n",
    "df_trips = pd.DataFrame({\"pilot\": trip_pilots, \"id\": range(len(trip_pilots))})"
   ]
  },
  {
   "cell_type": "markdown",
   "metadata": {},
   "source": [
    "Which gives us a bimodal-looking distribution for trips per pilot:"
   ]
  },
  {
   "cell_type": "code",
   "execution_count": 29,
   "metadata": {},
   "outputs": [
    {
     "data": {
      "image/png": "[encoded data removed]",
      "text/plain": [
       "<matplotlib.figure.Figure at 0x118eb7090>"
      ]
     },
     "metadata": {},
     "output_type": "display_data"
    }
   ],
   "source": [
    "_ = pd.DataFrame(df_trips[\"pilot\"].value_counts()).plot(kind=\"hist\", bins=11)"
   ]
  },
  {
   "cell_type": "markdown",
   "metadata": {},
   "source": [
    "Now let's assign a planet to each trip depending on the pilot's planet."
   ]
  },
  {
   "cell_type": "code",
   "execution_count": 30,
   "metadata": {
    "collapsed": true
   },
   "outputs": [],
   "source": [
    "df_trips = pd.merge(df_trips, pilot_planets, how=\"left\", on=\"pilot\")"
   ]
  },
  {
   "cell_type": "markdown",
   "metadata": {},
   "source": [
    "And assign passengers to trips that took place on their planet."
   ]
  },
  {
   "cell_type": "code",
   "execution_count": 31,
   "metadata": {
    "collapsed": true
   },
   "outputs": [],
   "source": [
    "for idx, row in df_trips.iterrows():\n",
    "    passengers_from_planet = passenger_planets[passenger_planets[\"planet\"] == row[\"planet\"]]\n",
    "    df_trips.loc[idx, \"passenger\"] = row[\"passenger\"] = np.random.choice(passengers_from_planet[\"passenger\"])\n",
    "    \n",
    "df_trips[\"passenger\"] = df_trips[\"passenger\"].astype(\"int64\")"
   ]
  },
  {
   "cell_type": "markdown",
   "metadata": {},
   "source": [
    "The way we do this results in a more normal-looking distribution for passenger trips:"
   ]
  },
  {
   "cell_type": "code",
   "execution_count": 32,
   "metadata": {},
   "outputs": [
    {
     "data": {
      "image/png": "[encoded data removed]",
      "text/plain": [
       "<matplotlib.figure.Figure at 0x1195ee510>"
      ]
     },
     "metadata": {},
     "output_type": "display_data"
    }
   ],
   "source": [
    "fig, axarr = plt.subplots(1, 2, figsize=(12, 6))\n",
    "\n",
    "_ = pd.DataFrame(df_trips[\"passenger\"].value_counts()).plot(kind=\"hist\", bins=11, ax=axarr[0])\n",
    "_ = axarr[0].set_title(\"Distribution of Passenger Trips Taken\")\n",
    "_ = pd.DataFrame(df_trips[\"pilot\"].value_counts()).plot(kind=\"hist\", bins=11, ax=axarr[1])\n",
    "_ = axarr[1].set_title(\"Distribution of Pilot Trips Given\")"
   ]
  },
  {
   "cell_type": "code",
   "execution_count": 33,
   "metadata": {},
   "outputs": [
    {
     "data": {
      "text/html": [
       "<div>\n",
       "<style>\n",
       "    .dataframe thead tr:only-child th {\n",
       "        text-align: right;\n",
       "    }\n",
       "\n",
       "    .dataframe thead th {\n",
       "        text-align: left;\n",
       "    }\n",
       "\n",
       "    .dataframe tbody tr th {\n",
       "        vertical-align: top;\n",
       "    }\n",
       "</style>\n",
       "<table border=\"1\" class=\"dataframe\">\n",
       "  <thead>\n",
       "    <tr style=\"text-align: right;\">\n",
       "      <th></th>\n",
       "      <th>id</th>\n",
       "      <th>pilot</th>\n",
       "      <th>planet</th>\n",
       "      <th>passenger</th>\n",
       "    </tr>\n",
       "  </thead>\n",
       "  <tbody>\n",
       "    <tr>\n",
       "      <th>0</th>\n",
       "      <td>0</td>\n",
       "      <td>71</td>\n",
       "      <td>3</td>\n",
       "      <td>213</td>\n",
       "    </tr>\n",
       "    <tr>\n",
       "      <th>1</th>\n",
       "      <td>1</td>\n",
       "      <td>51</td>\n",
       "      <td>4</td>\n",
       "      <td>647</td>\n",
       "    </tr>\n",
       "    <tr>\n",
       "      <th>2</th>\n",
       "      <td>2</td>\n",
       "      <td>13</td>\n",
       "      <td>5</td>\n",
       "      <td>435</td>\n",
       "    </tr>\n",
       "  </tbody>\n",
       "</table>\n",
       "</div>"
      ],
      "text/plain": [
       "   id  pilot  planet  passenger\n",
       "0   0     71       3        213\n",
       "1   1     51       4        647\n",
       "2   2     13       5        435"
      ]
     },
     "execution_count": 33,
     "metadata": {},
     "output_type": "execute_result"
    }
   ],
   "source": [
    "df_trips.head(3)"
   ]
  },
  {
   "cell_type": "markdown",
   "metadata": {},
   "source": [
    "### Trips - trip_completed, trip_requested, trip_started, trip_ended"
   ]
  },
  {
   "cell_type": "markdown",
   "metadata": {},
   "source": [
    "* trip_completed - boolean\n",
    "* trip_requested - timestamp\n",
    "* trip_started - timestamp\n",
    "* trip_ended - timestamp\n",
    "\n",
    "Let's say the likelihood of a trip being completed is uniform across the population of trips."
   ]
  },
  {
   "cell_type": "code",
   "execution_count": 34,
   "metadata": {
    "collapsed": true
   },
   "outputs": [],
   "source": [
    "trips_completed = stats.binom.rvs(n=1, p=0.95, size=len(df_trips))\n",
    "df_trips[\"trip_completed\"] = trips_completed"
   ]
  },
  {
   "cell_type": "markdown",
   "metadata": {},
   "source": [
    "A trip can only be requested after both the pilot and passenger's accounts have been created."
   ]
  },
  {
   "cell_type": "code",
   "execution_count": 35,
   "metadata": {
    "collapsed": true
   },
   "outputs": [],
   "source": [
    "max_trip = int((end_2017 - datetime.datetime(1970, 1, 1)).total_seconds())"
   ]
  },
  {
   "cell_type": "code",
   "execution_count": 36,
   "metadata": {
    "collapsed": true
   },
   "outputs": [],
   "source": [
    "for idx, row in df_trips.iterrows():\n",
    "    \n",
    "    pilot_created = df_pilots.loc[row[\"pilot\"], \"created\"]\n",
    "    passenger_created = df_passengers.loc[row[\"passenger\"], \"created\"]\n",
    "    min_trip = max(pilot_created, passenger_created)\n",
    "    \n",
    "    df_trips.loc[idx, \"trip_requested\"] = np.random.randint(min_trip, max_trip)"
   ]
  },
  {
   "cell_type": "markdown",
   "metadata": {},
   "source": [
    "Remember that pilot and passenger account creation is distributed uniformly throughout the year. This means that trips become more likely to take place as the year goes on."
   ]
  },
  {
   "cell_type": "code",
   "execution_count": 37,
   "metadata": {
    "scrolled": true
   },
   "outputs": [
    {
     "data": {
      "image/png": "[encoded data removed]",
      "text/plain": [
       "<matplotlib.figure.Figure at 0x1195ee110>"
      ]
     },
     "metadata": {},
     "output_type": "display_data"
    }
   ],
   "source": [
    "_ = df_trips.trip_requested.plot(kind=\"hist\", bins=11)"
   ]
  },
  {
   "cell_type": "markdown",
   "metadata": {},
   "source": [
    "Trips start between 1-15 minutes after they are requested."
   ]
  },
  {
   "cell_type": "code",
   "execution_count": 38,
   "metadata": {
    "collapsed": true
   },
   "outputs": [],
   "source": [
    "for idx, row in df_trips.iterrows():\n",
    "    df_trips.loc[idx, \"trip_started\"] = row[\"trip_requested\"] + np.random.randint(60, 60 * 15)"
   ]
  },
  {
   "cell_type": "markdown",
   "metadata": {},
   "source": [
    "And end between 5-60 minutes after they start."
   ]
  },
  {
   "cell_type": "code",
   "execution_count": 39,
   "metadata": {
    "collapsed": true
   },
   "outputs": [],
   "source": [
    "for idx, row in df_trips.iterrows():\n",
    "    df_trips.loc[idx, \"trip_ended\"] = row[\"trip_started\"] + np.random.randint(60 * 5, 60 * 60)"
   ]
  },
  {
   "cell_type": "markdown",
   "metadata": {},
   "source": [
    "Trips can have a start and end time without having been completed. What we *don't* want is for any pilot or passenger to have started a trip while in the middle of an ongoing trip. This is slightly trickier than it sounds, so let's go over it step by step.\n",
    "\n",
    "First, we'll want an idea of how widespread the issue of overlapping trips is. Let's create a new dataframe, grouping trips provided by individual pilots and sorting them into chronological order."
   ]
  },
  {
   "cell_type": "code",
   "execution_count": 40,
   "metadata": {
    "collapsed": true
   },
   "outputs": [],
   "source": [
    "trips_sorted_pilot = df_trips.sort_values([\"pilot\", \"trip_requested\"])"
   ]
  },
  {
   "cell_type": "markdown",
   "metadata": {},
   "source": [
    "Let's examine the `trip_started` and `trip_ended` values in our new dataframe, and create some additional columns that will help us parse our timestamps more intuitively."
   ]
  },
  {
   "cell_type": "code",
   "execution_count": 41,
   "metadata": {
    "collapsed": true
   },
   "outputs": [],
   "source": [
    "trips_sorted_pilot = pd.DataFrame({\n",
    "    \"id\": trips_sorted_pilot[\"id\"].values,\n",
    "    \"pilot\": trips_sorted_pilot[\"pilot\"].values,\n",
    "    \"trip_started\": trips_sorted_pilot[\"trip_started\"].values,\n",
    "    \"trip_ended\": trips_sorted_pilot[\"trip_ended\"].values,\n",
    "    \"trip_started_readable\": pd.to_datetime(trips_sorted_pilot[\"trip_started\"], unit=\"s\").values,\n",
    "    \"trip_ended_readable\": pd.to_datetime(trips_sorted_pilot[\"trip_ended\"], unit=\"s\").values\n",
    "}, index=range(len(df_trips)))[[\"id\", \"pilot\", \"trip_started_readable\", \"trip_ended_readable\", \"trip_started\", \"trip_ended\"]]\n",
    "\n",
    "trips_sorted_pilot_duration = pd.DataFrame({\"trip_duration\": trips_sorted_pilot[\"trip_ended_readable\"] - trips_sorted_pilot[\"trip_started_readable\"]})\n",
    "trips_sorted_pilot = pd.concat([trips_sorted_pilot, trips_sorted_pilot_duration], axis=1)"
   ]
  },
  {
   "cell_type": "code",
   "execution_count": 42,
   "metadata": {},
   "outputs": [
    {
     "data": {
      "text/html": [
       "<div>\n",
       "<style>\n",
       "    .dataframe thead tr:only-child th {\n",
       "        text-align: right;\n",
       "    }\n",
       "\n",
       "    .dataframe thead th {\n",
       "        text-align: left;\n",
       "    }\n",
       "\n",
       "    .dataframe tbody tr th {\n",
       "        vertical-align: top;\n",
       "    }\n",
       "</style>\n",
       "<table border=\"1\" class=\"dataframe\">\n",
       "  <thead>\n",
       "    <tr style=\"text-align: right;\">\n",
       "      <th></th>\n",
       "      <th>id</th>\n",
       "      <th>pilot</th>\n",
       "      <th>trip_started_readable</th>\n",
       "      <th>trip_ended_readable</th>\n",
       "      <th>trip_started</th>\n",
       "      <th>trip_ended</th>\n",
       "      <th>trip_duration</th>\n",
       "    </tr>\n",
       "  </thead>\n",
       "  <tbody>\n",
       "    <tr>\n",
       "      <th>0</th>\n",
       "      <td>6064</td>\n",
       "      <td>0</td>\n",
       "      <td>2017-08-22 14:28:43</td>\n",
       "      <td>2017-08-22 14:48:50</td>\n",
       "      <td>1.503412e+09</td>\n",
       "      <td>1.503413e+09</td>\n",
       "      <td>00:20:07</td>\n",
       "    </tr>\n",
       "    <tr>\n",
       "      <th>1</th>\n",
       "      <td>5669</td>\n",
       "      <td>0</td>\n",
       "      <td>2017-08-24 08:02:12</td>\n",
       "      <td>2017-08-24 08:26:32</td>\n",
       "      <td>1.503562e+09</td>\n",
       "      <td>1.503563e+09</td>\n",
       "      <td>00:24:20</td>\n",
       "    </tr>\n",
       "    <tr>\n",
       "      <th>2</th>\n",
       "      <td>6479</td>\n",
       "      <td>0</td>\n",
       "      <td>2017-08-26 18:18:32</td>\n",
       "      <td>2017-08-26 18:50:12</td>\n",
       "      <td>1.503772e+09</td>\n",
       "      <td>1.503773e+09</td>\n",
       "      <td>00:31:40</td>\n",
       "    </tr>\n",
       "  </tbody>\n",
       "</table>\n",
       "</div>"
      ],
      "text/plain": [
       "     id  pilot trip_started_readable trip_ended_readable  trip_started  \\\n",
       "0  6064      0   2017-08-22 14:28:43 2017-08-22 14:48:50  1.503412e+09   \n",
       "1  5669      0   2017-08-24 08:02:12 2017-08-24 08:26:32  1.503562e+09   \n",
       "2  6479      0   2017-08-26 18:18:32 2017-08-26 18:50:12  1.503772e+09   \n",
       "\n",
       "     trip_ended trip_duration  \n",
       "0  1.503413e+09      00:20:07  \n",
       "1  1.503563e+09      00:24:20  \n",
       "2  1.503773e+09      00:31:40  "
      ]
     },
     "execution_count": 42,
     "metadata": {},
     "output_type": "execute_result"
    }
   ],
   "source": [
    "trips_sorted_pilot.head(3)"
   ]
  },
  {
   "cell_type": "markdown",
   "metadata": {},
   "source": [
    "We can subtract from each row's `trip_started` time the `trip_ended` time of the previous row to get the time elapsed between the two trips. Any negative value returned by this calculation indicates an overlap."
   ]
  },
  {
   "cell_type": "code",
   "execution_count": 43,
   "metadata": {},
   "outputs": [
    {
     "name": "stdout",
     "output_type": "stream",
     "text": [
      "CPU times: user 24.1 s, sys: 183 ms, total: 24.3 s\n",
      "Wall time: 24.6 s\n"
     ]
    }
   ],
   "source": [
    "%%time\n",
    "\n",
    "trips_sorted_pilot[\"prev_trip_elapsed\"] = None\n",
    "trips_sorted_pilot[\"overlap\"] = None\n",
    "\n",
    "for idx, row in trips_sorted_pilot.iterrows():\n",
    "    if idx == 0: continue\n",
    "        \n",
    "    curr_pilot = row[\"pilot\"]\n",
    "    prev_pilot = trips_sorted_pilot.loc[idx - 1][\"pilot\"]\n",
    "    if curr_pilot != prev_pilot: continue\n",
    "        \n",
    "    prev_end = trips_sorted_pilot.loc[idx - 1][\"trip_ended\"]\n",
    "    curr_str = row[\"trip_started\"]\n",
    "    elapsed = curr_str - prev_end\n",
    "    trips_sorted_pilot.loc[idx, \"prev_trip_elapsed\"] = elapsed\n",
    "    trips_sorted_pilot.loc[idx, \"overlap\"] = 1 if elapsed < 0 else 0"
   ]
  },
  {
   "cell_type": "code",
   "execution_count": 44,
   "metadata": {},
   "outputs": [
    {
     "data": {
      "text/html": [
       "<div>\n",
       "<style>\n",
       "    .dataframe thead tr:only-child th {\n",
       "        text-align: right;\n",
       "    }\n",
       "\n",
       "    .dataframe thead th {\n",
       "        text-align: left;\n",
       "    }\n",
       "\n",
       "    .dataframe tbody tr th {\n",
       "        vertical-align: top;\n",
       "    }\n",
       "</style>\n",
       "<table border=\"1\" class=\"dataframe\">\n",
       "  <thead>\n",
       "    <tr style=\"text-align: right;\">\n",
       "      <th></th>\n",
       "      <th>id</th>\n",
       "      <th>pilot</th>\n",
       "      <th>trip_started_readable</th>\n",
       "      <th>trip_ended_readable</th>\n",
       "      <th>trip_started</th>\n",
       "      <th>trip_ended</th>\n",
       "      <th>trip_duration</th>\n",
       "      <th>prev_trip_elapsed</th>\n",
       "      <th>overlap</th>\n",
       "    </tr>\n",
       "  </thead>\n",
       "  <tbody>\n",
       "    <tr>\n",
       "      <th>0</th>\n",
       "      <td>6064</td>\n",
       "      <td>0</td>\n",
       "      <td>2017-08-22 14:28:43</td>\n",
       "      <td>2017-08-22 14:48:50</td>\n",
       "      <td>1.503412e+09</td>\n",
       "      <td>1.503413e+09</td>\n",
       "      <td>00:20:07</td>\n",
       "      <td>None</td>\n",
       "      <td>None</td>\n",
       "    </tr>\n",
       "    <tr>\n",
       "      <th>1</th>\n",
       "      <td>5669</td>\n",
       "      <td>0</td>\n",
       "      <td>2017-08-24 08:02:12</td>\n",
       "      <td>2017-08-24 08:26:32</td>\n",
       "      <td>1.503562e+09</td>\n",
       "      <td>1.503563e+09</td>\n",
       "      <td>00:24:20</td>\n",
       "      <td>148402</td>\n",
       "      <td>0</td>\n",
       "    </tr>\n",
       "    <tr>\n",
       "      <th>2</th>\n",
       "      <td>6479</td>\n",
       "      <td>0</td>\n",
       "      <td>2017-08-26 18:18:32</td>\n",
       "      <td>2017-08-26 18:50:12</td>\n",
       "      <td>1.503772e+09</td>\n",
       "      <td>1.503773e+09</td>\n",
       "      <td>00:31:40</td>\n",
       "      <td>208320</td>\n",
       "      <td>0</td>\n",
       "    </tr>\n",
       "    <tr>\n",
       "      <th>3</th>\n",
       "      <td>8023</td>\n",
       "      <td>0</td>\n",
       "      <td>2017-08-26 23:43:25</td>\n",
       "      <td>2017-08-26 23:59:53</td>\n",
       "      <td>1.503791e+09</td>\n",
       "      <td>1.503792e+09</td>\n",
       "      <td>00:16:28</td>\n",
       "      <td>17593</td>\n",
       "      <td>0</td>\n",
       "    </tr>\n",
       "    <tr>\n",
       "      <th>4</th>\n",
       "      <td>5993</td>\n",
       "      <td>0</td>\n",
       "      <td>2017-08-27 21:40:22</td>\n",
       "      <td>2017-08-27 22:19:51</td>\n",
       "      <td>1.503870e+09</td>\n",
       "      <td>1.503872e+09</td>\n",
       "      <td>00:39:29</td>\n",
       "      <td>78029</td>\n",
       "      <td>0</td>\n",
       "    </tr>\n",
       "    <tr>\n",
       "      <th>5</th>\n",
       "      <td>8424</td>\n",
       "      <td>0</td>\n",
       "      <td>2017-08-29 07:47:21</td>\n",
       "      <td>2017-08-29 08:40:15</td>\n",
       "      <td>1.503993e+09</td>\n",
       "      <td>1.503996e+09</td>\n",
       "      <td>00:52:54</td>\n",
       "      <td>120450</td>\n",
       "      <td>0</td>\n",
       "    </tr>\n",
       "    <tr>\n",
       "      <th>6</th>\n",
       "      <td>8900</td>\n",
       "      <td>0</td>\n",
       "      <td>2017-08-31 06:40:35</td>\n",
       "      <td>2017-08-31 07:07:57</td>\n",
       "      <td>1.504162e+09</td>\n",
       "      <td>1.504163e+09</td>\n",
       "      <td>00:27:22</td>\n",
       "      <td>165620</td>\n",
       "      <td>0</td>\n",
       "    </tr>\n",
       "    <tr>\n",
       "      <th>7</th>\n",
       "      <td>7864</td>\n",
       "      <td>0</td>\n",
       "      <td>2017-08-31 13:32:47</td>\n",
       "      <td>2017-08-31 14:18:25</td>\n",
       "      <td>1.504186e+09</td>\n",
       "      <td>1.504189e+09</td>\n",
       "      <td>00:45:38</td>\n",
       "      <td>23090</td>\n",
       "      <td>0</td>\n",
       "    </tr>\n",
       "    <tr>\n",
       "      <th>8</th>\n",
       "      <td>8884</td>\n",
       "      <td>0</td>\n",
       "      <td>2017-09-01 14:18:33</td>\n",
       "      <td>2017-09-01 14:39:33</td>\n",
       "      <td>1.504276e+09</td>\n",
       "      <td>1.504277e+09</td>\n",
       "      <td>00:21:00</td>\n",
       "      <td>86408</td>\n",
       "      <td>0</td>\n",
       "    </tr>\n",
       "    <tr>\n",
       "      <th>9</th>\n",
       "      <td>5104</td>\n",
       "      <td>0</td>\n",
       "      <td>2017-09-09 22:23:23</td>\n",
       "      <td>2017-09-09 22:34:45</td>\n",
       "      <td>1.504996e+09</td>\n",
       "      <td>1.504996e+09</td>\n",
       "      <td>00:11:22</td>\n",
       "      <td>719030</td>\n",
       "      <td>0</td>\n",
       "    </tr>\n",
       "  </tbody>\n",
       "</table>\n",
       "</div>"
      ],
      "text/plain": [
       "     id  pilot trip_started_readable trip_ended_readable  trip_started  \\\n",
       "0  6064      0   2017-08-22 14:28:43 2017-08-22 14:48:50  1.503412e+09   \n",
       "1  5669      0   2017-08-24 08:02:12 2017-08-24 08:26:32  1.503562e+09   \n",
       "2  6479      0   2017-08-26 18:18:32 2017-08-26 18:50:12  1.503772e+09   \n",
       "3  8023      0   2017-08-26 23:43:25 2017-08-26 23:59:53  1.503791e+09   \n",
       "4  5993      0   2017-08-27 21:40:22 2017-08-27 22:19:51  1.503870e+09   \n",
       "5  8424      0   2017-08-29 07:47:21 2017-08-29 08:40:15  1.503993e+09   \n",
       "6  8900      0   2017-08-31 06:40:35 2017-08-31 07:07:57  1.504162e+09   \n",
       "7  7864      0   2017-08-31 13:32:47 2017-08-31 14:18:25  1.504186e+09   \n",
       "8  8884      0   2017-09-01 14:18:33 2017-09-01 14:39:33  1.504276e+09   \n",
       "9  5104      0   2017-09-09 22:23:23 2017-09-09 22:34:45  1.504996e+09   \n",
       "\n",
       "     trip_ended trip_duration prev_trip_elapsed overlap  \n",
       "0  1.503413e+09      00:20:07              None    None  \n",
       "1  1.503563e+09      00:24:20            148402       0  \n",
       "2  1.503773e+09      00:31:40            208320       0  \n",
       "3  1.503792e+09      00:16:28             17593       0  \n",
       "4  1.503872e+09      00:39:29             78029       0  \n",
       "5  1.503996e+09      00:52:54            120450       0  \n",
       "6  1.504163e+09      00:27:22            165620       0  \n",
       "7  1.504189e+09      00:45:38             23090       0  \n",
       "8  1.504277e+09      00:21:00             86408       0  \n",
       "9  1.504996e+09      00:11:22            719030       0  "
      ]
     },
     "execution_count": 44,
     "metadata": {},
     "output_type": "execute_result"
    }
   ],
   "source": [
    "trips_sorted_pilot.head(10)"
   ]
  },
  {
   "cell_type": "markdown",
   "metadata": {},
   "source": [
    "The later a pilot's account was created, the more likely they are to have an overlapping trip. \n",
    "\n",
    "At this point, I considered several strategies for dealing with the overlapping trips. Moving the start time of each trip some interval beyond of the end time of the previous trip, isolating the overlapping trips and generating new timestamps for them until no overlap remained in the dataframe, but after finding out that overlapping trips consisted of no more than 5% of our overall trips data..."
   ]
  },
  {
   "cell_type": "code",
   "execution_count": 45,
   "metadata": {},
   "outputs": [
    {
     "data": {
      "text/plain": [
       "0.0371"
      ]
     },
     "execution_count": 45,
     "metadata": {},
     "output_type": "execute_result"
    }
   ],
   "source": [
    "float(trips_sorted_pilot[\"overlap\"].sum()) / len(trips_sorted_pilot)"
   ]
  },
  {
   "cell_type": "markdown",
   "metadata": {},
   "source": [
    "... I decided that moving timestamps around was far more likely to create unintended patterns in our data and just dropped overlapping trips from the dataframe."
   ]
  },
  {
   "cell_type": "code",
   "execution_count": 46,
   "metadata": {
    "collapsed": true
   },
   "outputs": [],
   "source": [
    "overlapping_trip_pilot_ids = trips_sorted_pilot[trips_sorted_pilot[\"overlap\"] == 1][\"id\"].values\n",
    "df_trips = df_trips.drop(overlapping_trip_pilot_ids)"
   ]
  },
  {
   "cell_type": "markdown",
   "metadata": {},
   "source": [
    "Now we have to do the same for passengers - but fewer passengers should have overlapping trips since trips are spread out over a 10x greater number of passengers:"
   ]
  },
  {
   "cell_type": "code",
   "execution_count": 47,
   "metadata": {},
   "outputs": [
    {
     "name": "stdout",
     "output_type": "stream",
     "text": [
      "CPU times: user 21.2 s, sys: 116 ms, total: 21.3 s\n",
      "Wall time: 21.5 s\n"
     ]
    }
   ],
   "source": [
    "%%time\n",
    "\n",
    "trips_sorted_passenger = df_trips.sort_values([\"passenger\", \"trip_requested\"])\n",
    "\n",
    "trips_sorted_passenger = pd.DataFrame({\n",
    "    \"id\": trips_sorted_passenger[\"id\"].values,\n",
    "    \"passenger\": trips_sorted_passenger[\"passenger\"].values,\n",
    "    \"trip_started\": trips_sorted_passenger[\"trip_started\"].values,\n",
    "    \"trip_ended\": trips_sorted_passenger[\"trip_ended\"].values,\n",
    "    \"trip_started_readable\": pd.to_datetime(trips_sorted_passenger[\"trip_started\"], unit=\"s\").values,\n",
    "    \"trip_ended_readable\": pd.to_datetime(trips_sorted_passenger[\"trip_ended\"], unit=\"s\").values\n",
    "}, index=range(len(df_trips)))[[\"id\", \"passenger\", \"trip_started_readable\", \"trip_ended_readable\", \"trip_started\", \"trip_ended\"]]\n",
    "\n",
    "trips_sorted_passenger_duration = pd.DataFrame({\"trip_duration\": trips_sorted_passenger[\"trip_ended_readable\"] - trips_sorted_passenger[\"trip_started_readable\"]})\n",
    "trips_sorted_passenger = pd.concat([trips_sorted_passenger, trips_sorted_passenger_duration], axis=1)\n",
    "\n",
    "trips_sorted_passenger[\"prev_trip_elapsed\"] = None\n",
    "trips_sorted_passenger[\"overlap\"] = None\n",
    "\n",
    "for idx, row in trips_sorted_passenger.iterrows():\n",
    "    if idx == 0: continue\n",
    "        \n",
    "    curr_passenger = row[\"passenger\"]\n",
    "    prev_passenger = trips_sorted_passenger.loc[idx - 1][\"passenger\"]\n",
    "    if curr_passenger != prev_passenger: continue\n",
    "        \n",
    "    prev_end = trips_sorted_passenger.loc[idx - 1][\"trip_ended\"]\n",
    "    curr_str = row[\"trip_started\"]\n",
    "    elapsed = curr_str - prev_end\n",
    "    trips_sorted_passenger.loc[idx, \"prev_trip_elapsed\"] = elapsed\n",
    "    trips_sorted_passenger.loc[idx, \"overlap\"] = 1 if elapsed < 0 else 0"
   ]
  },
  {
   "cell_type": "code",
   "execution_count": 48,
   "metadata": {},
   "outputs": [
    {
     "data": {
      "text/plain": [
       "0.006438882542320075"
      ]
     },
     "execution_count": 48,
     "metadata": {},
     "output_type": "execute_result"
    }
   ],
   "source": [
    "float(trips_sorted_passenger[\"overlap\"].sum()) / len(trips_sorted_passenger)"
   ]
  },
  {
   "cell_type": "markdown",
   "metadata": {},
   "source": [
    "That's ~10x less overlap. Let's go ahead and drop those as well."
   ]
  },
  {
   "cell_type": "code",
   "execution_count": 49,
   "metadata": {
    "collapsed": true
   },
   "outputs": [],
   "source": [
    "overlapping_trip_passenger_ids = trips_sorted_passenger[trips_sorted_passenger[\"overlap\"] == 1][\"id\"].values\n",
    "df_trips = df_trips.drop(overlapping_trip_passenger_ids)"
   ]
  },
  {
   "cell_type": "code",
   "execution_count": 50,
   "metadata": {},
   "outputs": [
    {
     "data": {
      "text/html": [
       "<div>\n",
       "<style>\n",
       "    .dataframe thead tr:only-child th {\n",
       "        text-align: right;\n",
       "    }\n",
       "\n",
       "    .dataframe thead th {\n",
       "        text-align: left;\n",
       "    }\n",
       "\n",
       "    .dataframe tbody tr th {\n",
       "        vertical-align: top;\n",
       "    }\n",
       "</style>\n",
       "<table border=\"1\" class=\"dataframe\">\n",
       "  <thead>\n",
       "    <tr style=\"text-align: right;\">\n",
       "      <th></th>\n",
       "      <th>id</th>\n",
       "      <th>pilot</th>\n",
       "      <th>planet</th>\n",
       "      <th>passenger</th>\n",
       "      <th>trip_completed</th>\n",
       "      <th>trip_requested</th>\n",
       "      <th>trip_started</th>\n",
       "      <th>trip_ended</th>\n",
       "    </tr>\n",
       "  </thead>\n",
       "  <tbody>\n",
       "    <tr>\n",
       "      <th>0</th>\n",
       "      <td>0</td>\n",
       "      <td>71</td>\n",
       "      <td>3</td>\n",
       "      <td>213</td>\n",
       "      <td>1</td>\n",
       "      <td>1.514184e+09</td>\n",
       "      <td>1.514185e+09</td>\n",
       "      <td>1.514188e+09</td>\n",
       "    </tr>\n",
       "    <tr>\n",
       "      <th>1</th>\n",
       "      <td>1</td>\n",
       "      <td>51</td>\n",
       "      <td>4</td>\n",
       "      <td>647</td>\n",
       "      <td>1</td>\n",
       "      <td>1.507931e+09</td>\n",
       "      <td>1.507932e+09</td>\n",
       "      <td>1.507934e+09</td>\n",
       "    </tr>\n",
       "    <tr>\n",
       "      <th>2</th>\n",
       "      <td>2</td>\n",
       "      <td>13</td>\n",
       "      <td>5</td>\n",
       "      <td>435</td>\n",
       "      <td>1</td>\n",
       "      <td>1.514181e+09</td>\n",
       "      <td>1.514181e+09</td>\n",
       "      <td>1.514182e+09</td>\n",
       "    </tr>\n",
       "  </tbody>\n",
       "</table>\n",
       "</div>"
      ],
      "text/plain": [
       "   id  pilot  planet  passenger  trip_completed  trip_requested  trip_started  \\\n",
       "0   0     71       3        213               1    1.514184e+09  1.514185e+09   \n",
       "1   1     51       4        647               1    1.507931e+09  1.507932e+09   \n",
       "2   2     13       5        435               1    1.514181e+09  1.514181e+09   \n",
       "\n",
       "     trip_ended  \n",
       "0  1.514188e+09  \n",
       "1  1.507934e+09  \n",
       "2  1.514182e+09  "
      ]
     },
     "execution_count": 50,
     "metadata": {},
     "output_type": "execute_result"
    }
   ],
   "source": [
    "df_trips.head(3)"
   ]
  },
  {
   "cell_type": "markdown",
   "metadata": {},
   "source": [
    "### Trips - price, pilot_rating, passenger_rating"
   ]
  },
  {
   "cell_type": "markdown",
   "metadata": {},
   "source": [
    "* price - integer\n",
    "* pilot_rating - integer\n",
    "* passenger_rating - integer\n",
    "\n",
    "Price is determined from the duration of the trip. Trips have a higher rate if requested during daytime or rush hours. Let's implement the following:\n",
    "\n",
    "* Trip prices start at 1.99\n",
    "* Trip prices gain an additional 0.5 cents per duration second, which is rounded up to the nearest cent\n",
    "* If a trip is requested between 8am and 8pm, the price per second is 30% higher\n",
    "* If a trip is requested between 9am and 10am, or 5pm and 6pm, the price per second is 80% higher"
   ]
  },
  {
   "cell_type": "code",
   "execution_count": 51,
   "metadata": {
    "collapsed": true
   },
   "outputs": [],
   "source": [
    "import math"
   ]
  },
  {
   "cell_type": "code",
   "execution_count": 52,
   "metadata": {
    "collapsed": true
   },
   "outputs": [],
   "source": [
    "for idx, row in df_trips.iterrows():\n",
    "    requested_hour = pd.to_datetime(row[\"trip_requested\"], unit=\"s\").hour\n",
    "    premium = 1.0\n",
    "    if ((requested_hour >= 8) & (requested_hour < 20)): premium = 1.3\n",
    "    if ((requested_hour == 9) or (requested_hour == 17)): premium = 1.8\n",
    "    duration = row[\"trip_ended\"] - row[\"trip_started\"]\n",
    "    df_trips.loc[idx, \"price\"] = math.ceil(duration * 0.3 * premium) + 199"
   ]
  },
  {
   "cell_type": "markdown",
   "metadata": {},
   "source": [
    "We can use the same quantile groups as before to randomly assign a trip rating to pilots."
   ]
  },
  {
   "cell_type": "code",
   "execution_count": 53,
   "metadata": {
    "collapsed": true
   },
   "outputs": [],
   "source": [
    "pilots_abv_75th_pct_ids = df_pilots[pilots_abv_75th_pct][\"id\"].values\n",
    "pilots_abv_50th_pct_ids = df_pilots[pilots_abv_50th_pct][\"id\"].values\n",
    "pilots_blw_50th_pct_ids = df_pilots[pilots_blw_50th_pct][\"id\"].values\n",
    "\n",
    "trip_pilots_abv_75th_pct = (df_trips[\"pilot\"].isin(pilots_abv_75th_pct_ids))\n",
    "trip_pilots_abv_50th_pct = (df_trips[\"pilot\"].isin(pilots_abv_50th_pct_ids))\n",
    "trip_pilots_blw_50th_pct = (df_trips[\"pilot\"].isin(pilots_blw_50th_pct_ids))\n",
    "\n",
    "df_trips.loc[trip_pilots_abv_75th_pct, \"pilot_rating\"] = np.random.choice(\n",
    "    [1, 2, 3, 4, 5], \n",
    "    size=len(df_trips[trip_pilots_abv_75th_pct]),\n",
    "    p=[0.03, 0.03, 0.03, 0.11, 0.80]\n",
    ")\n",
    "\n",
    "df_trips.loc[trip_pilots_abv_50th_pct, \"pilot_rating\"] = np.random.choice(\n",
    "    [1, 2, 3, 4, 5], \n",
    "    size=len(df_trips[trip_pilots_abv_50th_pct]),\n",
    "    p=[0.05, 0.05, 0.05, 0.10, 0.75]\n",
    ")\n",
    "\n",
    "df_trips.loc[trip_pilots_blw_50th_pct, \"pilot_rating\"] = np.random.choice(\n",
    "    [1, 2, 3, 4, 5], \n",
    "    size=len(df_trips[trip_pilots_blw_50th_pct]),\n",
    "    p=[0.07, 0.07, 0.07, 0.09, 0.70]\n",
    ")"
   ]
  },
  {
   "cell_type": "markdown",
   "metadata": {},
   "source": [
    "As well as passengers."
   ]
  },
  {
   "cell_type": "code",
   "execution_count": 54,
   "metadata": {
    "collapsed": true
   },
   "outputs": [],
   "source": [
    "passengers_abv_75th_pct_ids = df_passengers[passengers_abv_75th_pct][\"id\"].values\n",
    "passengers_abv_50th_pct_ids = df_passengers[passengers_abv_50th_pct][\"id\"].values\n",
    "passengers_blw_50th_pct_ids = df_passengers[passengers_blw_50th_pct][\"id\"].values\n",
    "\n",
    "trip_passengers_abv_75th_pct = (df_trips[\"passenger\"].isin(passengers_abv_75th_pct_ids))\n",
    "trip_passengers_abv_50th_pct = (df_trips[\"passenger\"].isin(passengers_abv_50th_pct_ids))\n",
    "trip_passengers_blw_50th_pct = (df_trips[\"passenger\"].isin(passengers_blw_50th_pct_ids))\n",
    "\n",
    "df_trips.loc[trip_passengers_abv_75th_pct, \"passenger_rating\"] = np.random.choice(\n",
    "    [1, 2, 3, 4, 5], \n",
    "    size=len(df_trips[trip_passengers_abv_75th_pct]),\n",
    "    p=[0.05, 0.05, 0.05, 0.10, 0.75]\n",
    ")\n",
    "\n",
    "df_trips.loc[trip_passengers_abv_50th_pct, \"passenger_rating\"] = np.random.choice(\n",
    "    [1, 2, 3, 4, 5], \n",
    "    size=len(df_trips[trip_passengers_abv_50th_pct]),\n",
    "    p=[0.07, 0.07, 0.07, 0.09, 0.70]\n",
    ")\n",
    "\n",
    "df_trips.loc[trip_passengers_blw_50th_pct, \"passenger_rating\"] = np.random.choice(\n",
    "    [1, 2, 3, 4, 5], \n",
    "    size=len(df_trips[trip_passengers_blw_50th_pct]),\n",
    "    p=[0.09, 0.09, 0.09, 0.08, 0.65]\n",
    ")"
   ]
  },
  {
   "cell_type": "markdown",
   "metadata": {},
   "source": [
    "## Admire our work"
   ]
  },
  {
   "cell_type": "markdown",
   "metadata": {},
   "source": [
    "We have our datasets! SUCH BEAUTIES."
   ]
  },
  {
   "cell_type": "code",
   "execution_count": 55,
   "metadata": {},
   "outputs": [
    {
     "data": {
      "text/html": [
       "<div>\n",
       "<style>\n",
       "    .dataframe thead tr:only-child th {\n",
       "        text-align: right;\n",
       "    }\n",
       "\n",
       "    .dataframe thead th {\n",
       "        text-align: left;\n",
       "    }\n",
       "\n",
       "    .dataframe tbody tr th {\n",
       "        vertical-align: top;\n",
       "    }\n",
       "</style>\n",
       "<table border=\"1\" class=\"dataframe\">\n",
       "  <thead>\n",
       "    <tr style=\"text-align: right;\">\n",
       "      <th></th>\n",
       "      <th>id</th>\n",
       "      <th>pilot</th>\n",
       "      <th>planet</th>\n",
       "      <th>passenger</th>\n",
       "      <th>trip_completed</th>\n",
       "      <th>trip_requested</th>\n",
       "      <th>trip_started</th>\n",
       "      <th>trip_ended</th>\n",
       "      <th>price</th>\n",
       "      <th>pilot_rating</th>\n",
       "      <th>passenger_rating</th>\n",
       "    </tr>\n",
       "  </thead>\n",
       "  <tbody>\n",
       "    <tr>\n",
       "      <th>count</th>\n",
       "      <td>9567.000000</td>\n",
       "      <td>9567.000000</td>\n",
       "      <td>9567.000000</td>\n",
       "      <td>9567.000000</td>\n",
       "      <td>9567.000000</td>\n",
       "      <td>9.567000e+03</td>\n",
       "      <td>9.567000e+03</td>\n",
       "      <td>9.567000e+03</td>\n",
       "      <td>9567.000000</td>\n",
       "      <td>9567.000000</td>\n",
       "      <td>9567.000000</td>\n",
       "    </tr>\n",
       "    <tr>\n",
       "      <th>mean</th>\n",
       "      <td>5011.217414</td>\n",
       "      <td>48.578133</td>\n",
       "      <td>3.411205</td>\n",
       "      <td>498.310756</td>\n",
       "      <td>0.949409</td>\n",
       "      <td>1.509762e+09</td>\n",
       "      <td>1.509763e+09</td>\n",
       "      <td>1.509764e+09</td>\n",
       "      <td>895.084143</td>\n",
       "      <td>4.401066</td>\n",
       "      <td>4.258388</td>\n",
       "    </tr>\n",
       "    <tr>\n",
       "      <th>std</th>\n",
       "      <td>2888.826992</td>\n",
       "      <td>28.921374</td>\n",
       "      <td>1.451650</td>\n",
       "      <td>285.193406</td>\n",
       "      <td>0.219172</td>\n",
       "      <td>5.018238e+06</td>\n",
       "      <td>5.018240e+06</td>\n",
       "      <td>5.018260e+06</td>\n",
       "      <td>367.439402</td>\n",
       "      <td>1.158742</td>\n",
       "      <td>1.287749</td>\n",
       "    </tr>\n",
       "    <tr>\n",
       "      <th>min</th>\n",
       "      <td>0.000000</td>\n",
       "      <td>0.000000</td>\n",
       "      <td>0.000000</td>\n",
       "      <td>0.000000</td>\n",
       "      <td>0.000000</td>\n",
       "      <td>1.485424e+09</td>\n",
       "      <td>1.485424e+09</td>\n",
       "      <td>1.485428e+09</td>\n",
       "      <td>289.000000</td>\n",
       "      <td>1.000000</td>\n",
       "      <td>1.000000</td>\n",
       "    </tr>\n",
       "    <tr>\n",
       "      <th>25%</th>\n",
       "      <td>2507.500000</td>\n",
       "      <td>22.000000</td>\n",
       "      <td>3.000000</td>\n",
       "      <td>253.000000</td>\n",
       "      <td>1.000000</td>\n",
       "      <td>1.507463e+09</td>\n",
       "      <td>1.507464e+09</td>\n",
       "      <td>1.507465e+09</td>\n",
       "      <td>596.500000</td>\n",
       "      <td>4.000000</td>\n",
       "      <td>4.000000</td>\n",
       "    </tr>\n",
       "    <tr>\n",
       "      <th>50%</th>\n",
       "      <td>5023.000000</td>\n",
       "      <td>50.000000</td>\n",
       "      <td>3.000000</td>\n",
       "      <td>504.000000</td>\n",
       "      <td>1.000000</td>\n",
       "      <td>1.511472e+09</td>\n",
       "      <td>1.511473e+09</td>\n",
       "      <td>1.511475e+09</td>\n",
       "      <td>875.000000</td>\n",
       "      <td>5.000000</td>\n",
       "      <td>5.000000</td>\n",
       "    </tr>\n",
       "    <tr>\n",
       "      <th>75%</th>\n",
       "      <td>7511.500000</td>\n",
       "      <td>73.000000</td>\n",
       "      <td>5.000000</td>\n",
       "      <td>743.000000</td>\n",
       "      <td>1.000000</td>\n",
       "      <td>1.513548e+09</td>\n",
       "      <td>1.513549e+09</td>\n",
       "      <td>1.513550e+09</td>\n",
       "      <td>1153.000000</td>\n",
       "      <td>5.000000</td>\n",
       "      <td>5.000000</td>\n",
       "    </tr>\n",
       "    <tr>\n",
       "      <th>max</th>\n",
       "      <td>9999.000000</td>\n",
       "      <td>99.000000</td>\n",
       "      <td>6.000000</td>\n",
       "      <td>999.000000</td>\n",
       "      <td>1.000000</td>\n",
       "      <td>1.514765e+09</td>\n",
       "      <td>1.514766e+09</td>\n",
       "      <td>1.514768e+09</td>\n",
       "      <td>2143.000000</td>\n",
       "      <td>5.000000</td>\n",
       "      <td>5.000000</td>\n",
       "    </tr>\n",
       "  </tbody>\n",
       "</table>\n",
       "</div>"
      ],
      "text/plain": [
       "                id        pilot       planet    passenger  trip_completed  \\\n",
       "count  9567.000000  9567.000000  9567.000000  9567.000000     9567.000000   \n",
       "mean   5011.217414    48.578133     3.411205   498.310756        0.949409   \n",
       "std    2888.826992    28.921374     1.451650   285.193406        0.219172   \n",
       "min       0.000000     0.000000     0.000000     0.000000        0.000000   \n",
       "25%    2507.500000    22.000000     3.000000   253.000000        1.000000   \n",
       "50%    5023.000000    50.000000     3.000000   504.000000        1.000000   \n",
       "75%    7511.500000    73.000000     5.000000   743.000000        1.000000   \n",
       "max    9999.000000    99.000000     6.000000   999.000000        1.000000   \n",
       "\n",
       "       trip_requested  trip_started    trip_ended        price  pilot_rating  \\\n",
       "count    9.567000e+03  9.567000e+03  9.567000e+03  9567.000000   9567.000000   \n",
       "mean     1.509762e+09  1.509763e+09  1.509764e+09   895.084143      4.401066   \n",
       "std      5.018238e+06  5.018240e+06  5.018260e+06   367.439402      1.158742   \n",
       "min      1.485424e+09  1.485424e+09  1.485428e+09   289.000000      1.000000   \n",
       "25%      1.507463e+09  1.507464e+09  1.507465e+09   596.500000      4.000000   \n",
       "50%      1.511472e+09  1.511473e+09  1.511475e+09   875.000000      5.000000   \n",
       "75%      1.513548e+09  1.513549e+09  1.513550e+09  1153.000000      5.000000   \n",
       "max      1.514765e+09  1.514766e+09  1.514768e+09  2143.000000      5.000000   \n",
       "\n",
       "       passenger_rating  \n",
       "count       9567.000000  \n",
       "mean           4.258388  \n",
       "std            1.287749  \n",
       "min            1.000000  \n",
       "25%            4.000000  \n",
       "50%            5.000000  \n",
       "75%            5.000000  \n",
       "max            5.000000  "
      ]
     },
     "execution_count": 55,
     "metadata": {},
     "output_type": "execute_result"
    }
   ],
   "source": [
    "df_trips.describe()"
   ]
  },
  {
   "cell_type": "code",
   "execution_count": 56,
   "metadata": {
    "scrolled": false
   },
   "outputs": [
    {
     "data": {
      "text/html": [
       "<div>\n",
       "<style>\n",
       "    .dataframe thead tr:only-child th {\n",
       "        text-align: right;\n",
       "    }\n",
       "\n",
       "    .dataframe thead th {\n",
       "        text-align: left;\n",
       "    }\n",
       "\n",
       "    .dataframe tbody tr th {\n",
       "        vertical-align: top;\n",
       "    }\n",
       "</style>\n",
       "<table border=\"1\" class=\"dataframe\">\n",
       "  <thead>\n",
       "    <tr style=\"text-align: right;\">\n",
       "      <th></th>\n",
       "      <th>id</th>\n",
       "      <th>pilot</th>\n",
       "      <th>planet</th>\n",
       "      <th>passenger</th>\n",
       "      <th>trip_completed</th>\n",
       "      <th>trip_requested</th>\n",
       "      <th>trip_started</th>\n",
       "      <th>trip_ended</th>\n",
       "      <th>price</th>\n",
       "      <th>pilot_rating</th>\n",
       "      <th>passenger_rating</th>\n",
       "    </tr>\n",
       "  </thead>\n",
       "  <tbody>\n",
       "    <tr>\n",
       "      <th>0</th>\n",
       "      <td>0</td>\n",
       "      <td>71</td>\n",
       "      <td>3</td>\n",
       "      <td>213</td>\n",
       "      <td>1</td>\n",
       "      <td>1.514184e+09</td>\n",
       "      <td>1.514185e+09</td>\n",
       "      <td>1.514188e+09</td>\n",
       "      <td>1109.0</td>\n",
       "      <td>5.0</td>\n",
       "      <td>3.0</td>\n",
       "    </tr>\n",
       "    <tr>\n",
       "      <th>1</th>\n",
       "      <td>1</td>\n",
       "      <td>51</td>\n",
       "      <td>4</td>\n",
       "      <td>647</td>\n",
       "      <td>1</td>\n",
       "      <td>1.507931e+09</td>\n",
       "      <td>1.507932e+09</td>\n",
       "      <td>1.507934e+09</td>\n",
       "      <td>1003.0</td>\n",
       "      <td>5.0</td>\n",
       "      <td>5.0</td>\n",
       "    </tr>\n",
       "    <tr>\n",
       "      <th>2</th>\n",
       "      <td>2</td>\n",
       "      <td>13</td>\n",
       "      <td>5</td>\n",
       "      <td>435</td>\n",
       "      <td>1</td>\n",
       "      <td>1.514181e+09</td>\n",
       "      <td>1.514181e+09</td>\n",
       "      <td>1.514182e+09</td>\n",
       "      <td>565.0</td>\n",
       "      <td>5.0</td>\n",
       "      <td>2.0</td>\n",
       "    </tr>\n",
       "    <tr>\n",
       "      <th>3</th>\n",
       "      <td>3</td>\n",
       "      <td>4</td>\n",
       "      <td>3</td>\n",
       "      <td>475</td>\n",
       "      <td>1</td>\n",
       "      <td>1.491866e+09</td>\n",
       "      <td>1.491867e+09</td>\n",
       "      <td>1.491870e+09</td>\n",
       "      <td>1084.0</td>\n",
       "      <td>5.0</td>\n",
       "      <td>5.0</td>\n",
       "    </tr>\n",
       "    <tr>\n",
       "      <th>4</th>\n",
       "      <td>4</td>\n",
       "      <td>70</td>\n",
       "      <td>4</td>\n",
       "      <td>331</td>\n",
       "      <td>1</td>\n",
       "      <td>1.514749e+09</td>\n",
       "      <td>1.514750e+09</td>\n",
       "      <td>1.514752e+09</td>\n",
       "      <td>1058.0</td>\n",
       "      <td>5.0</td>\n",
       "      <td>5.0</td>\n",
       "    </tr>\n",
       "  </tbody>\n",
       "</table>\n",
       "</div>"
      ],
      "text/plain": [
       "   id  pilot  planet  passenger  trip_completed  trip_requested  trip_started  \\\n",
       "0   0     71       3        213               1    1.514184e+09  1.514185e+09   \n",
       "1   1     51       4        647               1    1.507931e+09  1.507932e+09   \n",
       "2   2     13       5        435               1    1.514181e+09  1.514181e+09   \n",
       "3   3      4       3        475               1    1.491866e+09  1.491867e+09   \n",
       "4   4     70       4        331               1    1.514749e+09  1.514750e+09   \n",
       "\n",
       "     trip_ended   price  pilot_rating  passenger_rating  \n",
       "0  1.514188e+09  1109.0           5.0               3.0  \n",
       "1  1.507934e+09  1003.0           5.0               5.0  \n",
       "2  1.514182e+09   565.0           5.0               2.0  \n",
       "3  1.491870e+09  1084.0           5.0               5.0  \n",
       "4  1.514752e+09  1058.0           5.0               5.0  "
      ]
     },
     "execution_count": 56,
     "metadata": {},
     "output_type": "execute_result"
    }
   ],
   "source": [
    "df_trips.head(5)"
   ]
  },
  {
   "cell_type": "code",
   "execution_count": 57,
   "metadata": {},
   "outputs": [
    {
     "data": {
      "text/html": [
       "<div>\n",
       "<style>\n",
       "    .dataframe thead tr:only-child th {\n",
       "        text-align: right;\n",
       "    }\n",
       "\n",
       "    .dataframe thead th {\n",
       "        text-align: left;\n",
       "    }\n",
       "\n",
       "    .dataframe tbody tr th {\n",
       "        vertical-align: top;\n",
       "    }\n",
       "</style>\n",
       "<table border=\"1\" class=\"dataframe\">\n",
       "  <thead>\n",
       "    <tr style=\"text-align: right;\">\n",
       "      <th></th>\n",
       "      <th>id</th>\n",
       "      <th>name</th>\n",
       "    </tr>\n",
       "  </thead>\n",
       "  <tbody>\n",
       "    <tr>\n",
       "      <th>0</th>\n",
       "      <td>0</td>\n",
       "      <td>Alderaan</td>\n",
       "    </tr>\n",
       "    <tr>\n",
       "      <th>1</th>\n",
       "      <td>1</td>\n",
       "      <td>Chandrila</td>\n",
       "    </tr>\n",
       "    <tr>\n",
       "      <th>2</th>\n",
       "      <td>2</td>\n",
       "      <td>Corellia</td>\n",
       "    </tr>\n",
       "    <tr>\n",
       "      <th>3</th>\n",
       "      <td>3</td>\n",
       "      <td>Coruscant</td>\n",
       "    </tr>\n",
       "    <tr>\n",
       "      <th>4</th>\n",
       "      <td>4</td>\n",
       "      <td>Duro</td>\n",
       "    </tr>\n",
       "    <tr>\n",
       "      <th>5</th>\n",
       "      <td>5</td>\n",
       "      <td>Hosnian Prime</td>\n",
       "    </tr>\n",
       "    <tr>\n",
       "      <th>6</th>\n",
       "      <td>6</td>\n",
       "      <td>Kuat</td>\n",
       "    </tr>\n",
       "  </tbody>\n",
       "</table>\n",
       "</div>"
      ],
      "text/plain": [
       "   id           name\n",
       "0   0       Alderaan\n",
       "1   1      Chandrila\n",
       "2   2       Corellia\n",
       "3   3      Coruscant\n",
       "4   4           Duro\n",
       "5   5  Hosnian Prime\n",
       "6   6           Kuat"
      ]
     },
     "execution_count": 57,
     "metadata": {},
     "output_type": "execute_result"
    }
   ],
   "source": [
    "df_planets"
   ]
  },
  {
   "cell_type": "code",
   "execution_count": 58,
   "metadata": {},
   "outputs": [
    {
     "data": {
      "text/html": [
       "<div>\n",
       "<style>\n",
       "    .dataframe thead tr:only-child th {\n",
       "        text-align: right;\n",
       "    }\n",
       "\n",
       "    .dataframe thead th {\n",
       "        text-align: left;\n",
       "    }\n",
       "\n",
       "    .dataframe tbody tr th {\n",
       "        vertical-align: top;\n",
       "    }\n",
       "</style>\n",
       "<table border=\"1\" class=\"dataframe\">\n",
       "  <thead>\n",
       "    <tr style=\"text-align: right;\">\n",
       "      <th></th>\n",
       "      <th>id</th>\n",
       "      <th>rating</th>\n",
       "      <th>banned</th>\n",
       "      <th>created</th>\n",
       "    </tr>\n",
       "  </thead>\n",
       "  <tbody>\n",
       "    <tr>\n",
       "      <th>0</th>\n",
       "      <td>0</td>\n",
       "      <td>4.071063</td>\n",
       "      <td>0</td>\n",
       "      <td>1503089296</td>\n",
       "    </tr>\n",
       "    <tr>\n",
       "      <th>1</th>\n",
       "      <td>1</td>\n",
       "      <td>4.199823</td>\n",
       "      <td>0</td>\n",
       "      <td>1513791234</td>\n",
       "    </tr>\n",
       "    <tr>\n",
       "      <th>2</th>\n",
       "      <td>2</td>\n",
       "      <td>4.470100</td>\n",
       "      <td>0</td>\n",
       "      <td>1501564274</td>\n",
       "    </tr>\n",
       "    <tr>\n",
       "      <th>3</th>\n",
       "      <td>3</td>\n",
       "      <td>4.595326</td>\n",
       "      <td>0</td>\n",
       "      <td>1500613835</td>\n",
       "    </tr>\n",
       "    <tr>\n",
       "      <th>4</th>\n",
       "      <td>4</td>\n",
       "      <td>4.287006</td>\n",
       "      <td>0</td>\n",
       "      <td>1487607966</td>\n",
       "    </tr>\n",
       "  </tbody>\n",
       "</table>\n",
       "</div>"
      ],
      "text/plain": [
       "   id    rating  banned     created\n",
       "0   0  4.071063       0  1503089296\n",
       "1   1  4.199823       0  1513791234\n",
       "2   2  4.470100       0  1501564274\n",
       "3   3  4.595326       0  1500613835\n",
       "4   4  4.287006       0  1487607966"
      ]
     },
     "execution_count": 58,
     "metadata": {},
     "output_type": "execute_result"
    }
   ],
   "source": [
    "df_pilots.head(5)"
   ]
  },
  {
   "cell_type": "code",
   "execution_count": 59,
   "metadata": {},
   "outputs": [
    {
     "data": {
      "text/html": [
       "<div>\n",
       "<style>\n",
       "    .dataframe thead tr:only-child th {\n",
       "        text-align: right;\n",
       "    }\n",
       "\n",
       "    .dataframe thead th {\n",
       "        text-align: left;\n",
       "    }\n",
       "\n",
       "    .dataframe tbody tr th {\n",
       "        vertical-align: top;\n",
       "    }\n",
       "</style>\n",
       "<table border=\"1\" class=\"dataframe\">\n",
       "  <thead>\n",
       "    <tr style=\"text-align: right;\">\n",
       "      <th></th>\n",
       "      <th>id</th>\n",
       "      <th>rating</th>\n",
       "      <th>banned</th>\n",
       "      <th>created</th>\n",
       "    </tr>\n",
       "  </thead>\n",
       "  <tbody>\n",
       "    <tr>\n",
       "      <th>0</th>\n",
       "      <td>0</td>\n",
       "      <td>4.897899</td>\n",
       "      <td>0</td>\n",
       "      <td>1509974947</td>\n",
       "    </tr>\n",
       "    <tr>\n",
       "      <th>1</th>\n",
       "      <td>1</td>\n",
       "      <td>4.315006</td>\n",
       "      <td>0</td>\n",
       "      <td>1497368554</td>\n",
       "    </tr>\n",
       "    <tr>\n",
       "      <th>2</th>\n",
       "      <td>2</td>\n",
       "      <td>4.069172</td>\n",
       "      <td>0</td>\n",
       "      <td>1496991675</td>\n",
       "    </tr>\n",
       "    <tr>\n",
       "      <th>3</th>\n",
       "      <td>3</td>\n",
       "      <td>4.905057</td>\n",
       "      <td>0</td>\n",
       "      <td>1500140192</td>\n",
       "    </tr>\n",
       "    <tr>\n",
       "      <th>4</th>\n",
       "      <td>4</td>\n",
       "      <td>4.432847</td>\n",
       "      <td>0</td>\n",
       "      <td>1514585380</td>\n",
       "    </tr>\n",
       "  </tbody>\n",
       "</table>\n",
       "</div>"
      ],
      "text/plain": [
       "   id    rating  banned     created\n",
       "0   0  4.897899       0  1509974947\n",
       "1   1  4.315006       0  1497368554\n",
       "2   2  4.069172       0  1496991675\n",
       "3   3  4.905057       0  1500140192\n",
       "4   4  4.432847       0  1514585380"
      ]
     },
     "execution_count": 59,
     "metadata": {},
     "output_type": "execute_result"
    }
   ],
   "source": [
    "df_passengers.head(5)"
   ]
  },
  {
   "cell_type": "code",
   "execution_count": 60,
   "metadata": {
    "collapsed": true
   },
   "outputs": [],
   "source": [
    "df_trips.to_csv(\"data/generated-marketplace-trips.csv\", index=False)\n",
    "df_planets.to_csv(\"data/generated-marketplace-planets.csv\", index=False)\n",
    "df_pilots.to_csv(\"data/generated-marketplace-pilots.csv\", index=False)\n",
    "df_passengers.to_csv(\"data/generated-marketplace-passengers.csv\", index=False)"
   ]
  },
  {
   "cell_type": "markdown",
   "metadata": {
    "collapsed": true
   },
   "source": [
    "Now, what kinds of questions might we ask if we were trying to understand pilots and passengers at our hypothetical ridesharing company?\n",
    "\n",
    "1. Which passengers spend the most on each planet? How does that change from month to month?\n",
    "2. How does the behavior of our highest-spending passengers differ from that of our average passengers? From that of our lowest-spending passengers?\n",
    "3. How might we create a model to predict the future behavior of passengers? How might we assess that model?\n",
    "\n",
    "All good questions! Let's get to answering them... Next time."
   ]
  }
 ],
 "metadata": {
  "kernelspec": {
   "display_name": "Python 2",
   "language": "python",
   "name": "python2"
  },
  "language_info": {
   "codemirror_mode": {
    "name": "ipython",
    "version": 2
   },
   "file_extension": ".py",
   "mimetype": "text/x-python",
   "name": "python",
   "nbconvert_exporter": "python",
   "pygments_lexer": "ipython2",
   "version": "2.7.14"
  }
 },
 "nbformat": 4,
 "nbformat_minor": 2
}
