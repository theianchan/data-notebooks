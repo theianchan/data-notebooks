{
 "cells": [
  {
   "cell_type": "markdown",
   "metadata": {},
   "source": [
    "## Problem"
   ]
  },
  {
   "cell_type": "markdown",
   "metadata": {},
   "source": [
    "I want to practice SQL and Python on datasets resembling what I might encounter at a marketplace company like Uber, Lyft, or Doordash. The 538 [Uber Pickups in New York City](https://www.kaggle.com/fivethirtyeight/uber-pickups-in-new-york-city/data) dataset exists, but contains mostly location data:"
   ]
  },
  {
   "cell_type": "code",
   "execution_count": 1,
   "metadata": {
    "collapsed": true
   },
   "outputs": [],
   "source": [
    "import pandas as pd"
   ]
  },
  {
   "cell_type": "code",
   "execution_count": 2,
   "metadata": {},
   "outputs": [
    {
     "data": {
      "text/html": [
       "<div>\n",
       "<style>\n",
       "    .dataframe thead tr:only-child th {\n",
       "        text-align: right;\n",
       "    }\n",
       "\n",
       "    .dataframe thead th {\n",
       "        text-align: left;\n",
       "    }\n",
       "\n",
       "    .dataframe tbody tr th {\n",
       "        vertical-align: top;\n",
       "    }\n",
       "</style>\n",
       "<table border=\"1\" class=\"dataframe\">\n",
       "  <thead>\n",
       "    <tr style=\"text-align: right;\">\n",
       "      <th></th>\n",
       "      <th>dispatching_base_number</th>\n",
       "      <th>date</th>\n",
       "      <th>active_vehicles</th>\n",
       "      <th>trips</th>\n",
       "    </tr>\n",
       "  </thead>\n",
       "  <tbody>\n",
       "    <tr>\n",
       "      <th>0</th>\n",
       "      <td>B02512</td>\n",
       "      <td>2015-01-01</td>\n",
       "      <td>190</td>\n",
       "      <td>1132</td>\n",
       "    </tr>\n",
       "    <tr>\n",
       "      <th>1</th>\n",
       "      <td>B02765</td>\n",
       "      <td>2015-01-01</td>\n",
       "      <td>225</td>\n",
       "      <td>1765</td>\n",
       "    </tr>\n",
       "    <tr>\n",
       "      <th>2</th>\n",
       "      <td>B02764</td>\n",
       "      <td>2015-01-01</td>\n",
       "      <td>3427</td>\n",
       "      <td>29421</td>\n",
       "    </tr>\n",
       "  </tbody>\n",
       "</table>\n",
       "</div>"
      ],
      "text/plain": [
       "  dispatching_base_number       date  active_vehicles  trips\n",
       "0                  B02512 2015-01-01              190   1132\n",
       "1                  B02765 2015-01-01              225   1765\n",
       "2                  B02764 2015-01-01             3427  29421"
      ]
     },
     "execution_count": 2,
     "metadata": {},
     "output_type": "execute_result"
    }
   ],
   "source": [
    "foil_538 = pd.read_csv(\"data/uber/uber-foil.csv\", parse_dates=[\"date\"])\n",
    "foil_538.head(3)"
   ]
  },
  {
   "cell_type": "code",
   "execution_count": 3,
   "metadata": {},
   "outputs": [
    {
     "data": {
      "text/html": [
       "<div>\n",
       "<style>\n",
       "    .dataframe thead tr:only-child th {\n",
       "        text-align: right;\n",
       "    }\n",
       "\n",
       "    .dataframe thead th {\n",
       "        text-align: left;\n",
       "    }\n",
       "\n",
       "    .dataframe tbody tr th {\n",
       "        vertical-align: top;\n",
       "    }\n",
       "</style>\n",
       "<table border=\"1\" class=\"dataframe\">\n",
       "  <thead>\n",
       "    <tr style=\"text-align: right;\">\n",
       "      <th></th>\n",
       "      <th>Date/Time</th>\n",
       "      <th>Lat</th>\n",
       "      <th>Lon</th>\n",
       "      <th>Base</th>\n",
       "    </tr>\n",
       "  </thead>\n",
       "  <tbody>\n",
       "    <tr>\n",
       "      <th>0</th>\n",
       "      <td>2014-04-01 00:11:00</td>\n",
       "      <td>40.7690</td>\n",
       "      <td>-73.9549</td>\n",
       "      <td>B02512</td>\n",
       "    </tr>\n",
       "    <tr>\n",
       "      <th>1</th>\n",
       "      <td>2014-04-01 00:17:00</td>\n",
       "      <td>40.7267</td>\n",
       "      <td>-74.0345</td>\n",
       "      <td>B02512</td>\n",
       "    </tr>\n",
       "    <tr>\n",
       "      <th>2</th>\n",
       "      <td>2014-04-01 00:21:00</td>\n",
       "      <td>40.7316</td>\n",
       "      <td>-73.9873</td>\n",
       "      <td>B02512</td>\n",
       "    </tr>\n",
       "  </tbody>\n",
       "</table>\n",
       "</div>"
      ],
      "text/plain": [
       "            Date/Time      Lat      Lon    Base\n",
       "0 2014-04-01 00:11:00  40.7690 -73.9549  B02512\n",
       "1 2014-04-01 00:17:00  40.7267 -74.0345  B02512\n",
       "2 2014-04-01 00:21:00  40.7316 -73.9873  B02512"
      ]
     },
     "execution_count": 3,
     "metadata": {},
     "output_type": "execute_result"
    }
   ],
   "source": [
    "dapr_538 = pd.read_csv(\"data/uber/uber-raw-apr14.csv\", parse_dates=[\"Date/Time\"])\n",
    "dapr_538.head(3)"
   ]
  },
  {
   "cell_type": "markdown",
   "metadata": {},
   "source": [
    "## Solution"
   ]
  },
  {
   "cell_type": "markdown",
   "metadata": {},
   "source": [
    "Generate an entire universe of simulated marketplace data. Duh.\n",
    "\n",
    "In this universe, our ridesharing data exists in four tables:\n",
    "\n",
    "**trips**\n",
    "\n",
    "* id - integer\n",
    "* pilot - integer\n",
    "* passenger - integer\n",
    "* planet - id\n",
    "* trip_completed - boolean\n",
    "* trip_requested - timestamp\n",
    "* trip_started - timestamp\n",
    "* trip_ended - timestamp\n",
    "* price - integer\n",
    "* pilot_rating - integer\n",
    "* passenger_rating - integer\n",
    "\n",
    "**planets**\n",
    "\n",
    "* id - integer\n",
    "* name - string\n",
    "\n",
    "**pilots**\n",
    "\n",
    "* id - integer\n",
    "* rating - integer\n",
    "* banned - boolean\n",
    "* created - timestamp\n",
    "\n",
    "**passengers**\n",
    "\n",
    "* id - integer\n",
    "* rating - integer\n",
    "* banned - boolean\n",
    "* created - timestamp\n",
    "\n",
    "Yes, when I said \"universe\" I meant it literally."
   ]
  },
  {
   "cell_type": "markdown",
   "metadata": {},
   "source": [
    "## Planets"
   ]
  },
  {
   "cell_type": "markdown",
   "metadata": {},
   "source": [
    "* id - integer\n",
    "* name - string\n",
    "\n",
    "Let's start with planets, which seems like it should be pretty easy."
   ]
  },
  {
   "cell_type": "code",
   "execution_count": 4,
   "metadata": {
    "collapsed": true
   },
   "outputs": [],
   "source": [
    "planets = [\"Alderaan\", \"Chandrila\", \"Corellia\", \"Coruscant\", \"Duro\", \"Hosnian Prime\", \"Kuat\"]"
   ]
  },
  {
   "cell_type": "markdown",
   "metadata": {},
   "source": [
    "I know that I'm listing core worlds only, and I can already hear your accusations about my liberal core world elitism, but the reality is that worlds in the outer rim simply don't have the infrastructure to support ridesharing on the scale we're interested in. \n",
    "\n",
    "Pilots and passengers do occasionally arrange shared rides within and between systems, but these trips are usually negotiated in a more informal setting like, for example, a cantina."
   ]
  },
  {
   "cell_type": "code",
   "execution_count": 5,
   "metadata": {},
   "outputs": [
    {
     "data": {
      "text/html": [
       "<div>\n",
       "<style>\n",
       "    .dataframe thead tr:only-child th {\n",
       "        text-align: right;\n",
       "    }\n",
       "\n",
       "    .dataframe thead th {\n",
       "        text-align: left;\n",
       "    }\n",
       "\n",
       "    .dataframe tbody tr th {\n",
       "        vertical-align: top;\n",
       "    }\n",
       "</style>\n",
       "<table border=\"1\" class=\"dataframe\">\n",
       "  <thead>\n",
       "    <tr style=\"text-align: right;\">\n",
       "      <th></th>\n",
       "      <th>id</th>\n",
       "      <th>name</th>\n",
       "    </tr>\n",
       "  </thead>\n",
       "  <tbody>\n",
       "    <tr>\n",
       "      <th>0</th>\n",
       "      <td>0</td>\n",
       "      <td>Alderaan</td>\n",
       "    </tr>\n",
       "    <tr>\n",
       "      <th>1</th>\n",
       "      <td>1</td>\n",
       "      <td>Chandrila</td>\n",
       "    </tr>\n",
       "    <tr>\n",
       "      <th>2</th>\n",
       "      <td>2</td>\n",
       "      <td>Corellia</td>\n",
       "    </tr>\n",
       "    <tr>\n",
       "      <th>3</th>\n",
       "      <td>3</td>\n",
       "      <td>Coruscant</td>\n",
       "    </tr>\n",
       "    <tr>\n",
       "      <th>4</th>\n",
       "      <td>4</td>\n",
       "      <td>Duro</td>\n",
       "    </tr>\n",
       "    <tr>\n",
       "      <th>5</th>\n",
       "      <td>5</td>\n",
       "      <td>Hosnian Prime</td>\n",
       "    </tr>\n",
       "    <tr>\n",
       "      <th>6</th>\n",
       "      <td>6</td>\n",
       "      <td>Kuat</td>\n",
       "    </tr>\n",
       "  </tbody>\n",
       "</table>\n",
       "</div>"
      ],
      "text/plain": [
       "   id           name\n",
       "0   0       Alderaan\n",
       "1   1      Chandrila\n",
       "2   2       Corellia\n",
       "3   3      Coruscant\n",
       "4   4           Duro\n",
       "5   5  Hosnian Prime\n",
       "6   6           Kuat"
      ]
     },
     "execution_count": 5,
     "metadata": {},
     "output_type": "execute_result"
    }
   ],
   "source": [
    "df_planets = pd.DataFrame({\"name\": planets, \"id\": range(len(planets))})\n",
    "df_planets"
   ]
  },
  {
   "cell_type": "markdown",
   "metadata": {},
   "source": [
    "## Pilots"
   ]
  },
  {
   "cell_type": "markdown",
   "metadata": {},
   "source": [
    "* id - integer\n",
    "* rating - integer\n",
    "* banned - boolean\n",
    "* created - timestamp\n",
    "\n",
    "Let's say that we have 100 pilots in our system. Pilot maintain a rating between 1 and 5 stars. Just like in our world, passengers in our simulated universe tend to be pretty nice when rating pilots, so distributions of pilot ratings are skewed towards the higher end."
   ]
  },
  {
   "cell_type": "code",
   "execution_count": 6,
   "metadata": {
    "collapsed": true
   },
   "outputs": [],
   "source": [
    "%matplotlib inline\n",
    "import numpy as np\n",
    "import scipy.stats as stats"
   ]
  },
  {
   "cell_type": "code",
   "execution_count": 7,
   "metadata": {},
   "outputs": [],
   "source": [
    "pilot_ratings = np.concatenate((\n",
    "    stats.norm.rvs(loc=4.5, scale=0.3, size=70),\n",
    "    stats.skewnorm.rvs(a=-1, loc=4, scale=1, size=30)\n",
    ")).clip(0.01, 4.99)\n",
    "\n",
    "df_pilots = pd.DataFrame({\"rating\" : pilot_ratings, \"id\": range(len(pilot_ratings))})"
   ]
  },
  {
   "cell_type": "code",
   "execution_count": 8,
   "metadata": {},
   "outputs": [
    {
     "data": {
      "image/png": "[encoded data removed]",
      "text/plain": [
       "<matplotlib.figure.Figure at 0x118b87cd0>"
      ]
     },
     "metadata": {},
     "output_type": "display_data"
    }
   ],
   "source": [
    "_ = df_pilots[\"rating\"].plot(kind=\"hist\", bins=11)"
   ]
  },
  {
   "cell_type": "markdown",
   "metadata": {},
   "source": [
    "Some portion of pilots have been banned from our system. Pilots with low ratings are more likely to be banned."
   ]
  },
  {
   "cell_type": "code",
   "execution_count": 9,
   "metadata": {},
   "outputs": [],
   "source": [
    "df_pilots[\"banned\"] = 0\n",
    "\n",
    "pilot_pct_75 = df_pilots[\"rating\"].quantile(0.75)\n",
    "pilot_pct_50 = df_pilots[\"rating\"].quantile(0.50)\n",
    "\n",
    "pilots_abv_75th_pct = (df_pilots[\"rating\"] >= pilot_pct_75)\n",
    "pilots_abv_50th_pct = ((df_pilots[\"rating\"] >= pilot_pct_50) & (df_pilots[\"rating\"] < pilot_pct_75))\n",
    "pilots_blw_50th_pct = (df_pilots[\"rating\"] < pilot_pct_50)\n",
    "\n",
    "df_pilots.loc[pilots_abv_75th_pct, \"banned\"] = np.random.choice([1, 0], size=25, p=[0.05, 0.95])\n",
    "df_pilots.loc[pilots_abv_50th_pct, \"banned\"] = np.random.choice([1, 0], size=25, p=[0.10, 0.90]) \n",
    "df_pilots.loc[pilots_blw_50th_pct, \"banned\"] = np.random.choice([1, 0], size=50, p=[0.15, 0.85]) "
   ]
  },
  {
   "cell_type": "markdown",
   "metadata": {},
   "source": [
    "Finally, let's uniformly distribute the time and day each pilot account was created throughout 2017 (yes, our simulated universe runs entirely on UTC it's really quite a remarkable feat of coordination):"
   ]
  },
  {
   "cell_type": "code",
   "execution_count": 10,
   "metadata": {
    "collapsed": true
   },
   "outputs": [],
   "source": [
    "import datetime, random"
   ]
  },
  {
   "cell_type": "code",
   "execution_count": 11,
   "metadata": {},
   "outputs": [],
   "source": [
    "def timestamps_between(start, end, size):\n",
    "    ts_start = int((start - datetime.datetime(1970, 1, 1)).total_seconds())\n",
    "    duration = int((end - start).total_seconds())\n",
    "    return np.array(random.sample(range(int(duration)), size)) + ts_start"
   ]
  },
  {
   "cell_type": "code",
   "execution_count": 12,
   "metadata": {
    "collapsed": true
   },
   "outputs": [],
   "source": [
    "str_2017 = datetime.datetime(2017, 1, 1, 0, 0, 0)\n",
    "end_2017 = datetime.datetime(2017, 12, 31, 23, 59, 59)"
   ]
  },
  {
   "cell_type": "code",
   "execution_count": 13,
   "metadata": {},
   "outputs": [],
   "source": [
    "pilot_timestamps = timestamps_between(str_2017, end_2017, 100)\n",
    "df_pilots[\"created\"] = pilot_timestamps"
   ]
  },
  {
   "cell_type": "code",
   "execution_count": 14,
   "metadata": {},
   "outputs": [
    {
     "data": {
      "image/png": "[encoded data removed]",
      "text/plain": [
       "<matplotlib.figure.Figure at 0x11bf4e390>"
      ]
     },
     "metadata": {},
     "output_type": "display_data"
    }
   ],
   "source": [
    "_ = df_pilots[\"created\"].plot(kind=\"density\")"
   ]
  },
  {
   "cell_type": "code",
   "execution_count": 15,
   "metadata": {},
   "outputs": [
    {
     "data": {
      "text/html": [
       "<div>\n",
       "<style>\n",
       "    .dataframe thead tr:only-child th {\n",
       "        text-align: right;\n",
       "    }\n",
       "\n",
       "    .dataframe thead th {\n",
       "        text-align: left;\n",
       "    }\n",
       "\n",
       "    .dataframe tbody tr th {\n",
       "        vertical-align: top;\n",
       "    }\n",
       "</style>\n",
       "<table border=\"1\" class=\"dataframe\">\n",
       "  <thead>\n",
       "    <tr style=\"text-align: right;\">\n",
       "      <th></th>\n",
       "      <th>id</th>\n",
       "      <th>rating</th>\n",
       "      <th>banned</th>\n",
       "      <th>created</th>\n",
       "    </tr>\n",
       "  </thead>\n",
       "  <tbody>\n",
       "    <tr>\n",
       "      <th>0</th>\n",
       "      <td>0</td>\n",
       "      <td>4.377809</td>\n",
       "      <td>1</td>\n",
       "      <td>1488210567</td>\n",
       "    </tr>\n",
       "    <tr>\n",
       "      <th>1</th>\n",
       "      <td>1</td>\n",
       "      <td>4.767935</td>\n",
       "      <td>0</td>\n",
       "      <td>1500441065</td>\n",
       "    </tr>\n",
       "    <tr>\n",
       "      <th>2</th>\n",
       "      <td>2</td>\n",
       "      <td>4.402110</td>\n",
       "      <td>0</td>\n",
       "      <td>1494907854</td>\n",
       "    </tr>\n",
       "  </tbody>\n",
       "</table>\n",
       "</div>"
      ],
      "text/plain": [
       "   id    rating  banned     created\n",
       "0   0  4.377809       1  1488210567\n",
       "1   1  4.767935       0  1500441065\n",
       "2   2  4.402110       0  1494907854"
      ]
     },
     "execution_count": 15,
     "metadata": {},
     "output_type": "execute_result"
    }
   ],
   "source": [
    "df_pilots.head(3)"
   ]
  },
  {
   "cell_type": "markdown",
   "metadata": {},
   "source": [
    "Nice."
   ]
  },
  {
   "cell_type": "markdown",
   "metadata": {},
   "source": [
    "## Passengers"
   ]
  },
  {
   "cell_type": "markdown",
   "metadata": {},
   "source": [
    "We're going to do the same for our 1,000 passengers, but relax the skew in the distribution of their ratings."
   ]
  },
  {
   "cell_type": "code",
   "execution_count": 16,
   "metadata": {
    "collapsed": true
   },
   "outputs": [],
   "source": [
    "passenger_ratings = np.concatenate((\n",
    "    stats.norm.rvs(loc=4.5, scale=0.3, size=500),\n",
    "    stats.skewnorm.rvs(a=-1, loc=4, scale=1, size=500)\n",
    ")).clip(0.01, 4.99)\n",
    "\n",
    "df_passengers = pd.DataFrame({\"rating\": passenger_ratings, \"id\": range(len(passenger_ratings))})"
   ]
  },
  {
   "cell_type": "code",
   "execution_count": 17,
   "metadata": {},
   "outputs": [
    {
     "data": {
      "image/png": "[encoded data removed]",
      "text/plain": [
       "<matplotlib.figure.Figure at 0x11c0b25d0>"
      ]
     },
     "metadata": {},
     "output_type": "display_data"
    }
   ],
   "source": [
    "_ = df_passengers[\"rating\"].plot(kind=\"hist\", bins=11)"
   ]
  },
  {
   "cell_type": "markdown",
   "metadata": {},
   "source": [
    "We'll also slightly reduce the probability of a passenger having been banned from the service..."
   ]
  },
  {
   "cell_type": "code",
   "execution_count": 18,
   "metadata": {},
   "outputs": [],
   "source": [
    "df_passengers[\"banned\"] = 0\n",
    "\n",
    "passenger_pct_75 = df_passengers[\"rating\"].quantile(0.75)\n",
    "passenger_pct_50 = df_passengers[\"rating\"].quantile(0.50)\n",
    "\n",
    "passengers_abv_75th_pct = (df_passengers[\"rating\"] >= passenger_pct_75)\n",
    "passengers_abv_50th_pct = ((df_passengers[\"rating\"] >= passenger_pct_50) & (df_passengers[\"rating\"] < passenger_pct_75))\n",
    "passengers_blw_50th_pct = (df_passengers[\"rating\"] < passenger_pct_50)\n",
    "\n",
    "df_passengers.loc[passengers_abv_75th_pct, \"banned\"] = np.random.choice([1, 0], size=250, p=[0.03, 0.97])\n",
    "df_passengers.loc[passengers_abv_50th_pct, \"banned\"] = np.random.choice([1, 0], size=250, p=[0.07, 0.93]) \n",
    "df_passengers.loc[passengers_blw_50th_pct, \"banned\"] = np.random.choice([1, 0], size=500, p=[0.13, 0.87]) "
   ]
  },
  {
   "cell_type": "markdown",
   "metadata": {},
   "source": [
    "... But keep the rules for account creation the same."
   ]
  },
  {
   "cell_type": "code",
   "execution_count": 19,
   "metadata": {},
   "outputs": [],
   "source": [
    "passenger_timestamps = timestamps_between(str_2017, end_2017, 1000)\n",
    "df_passengers[\"created\"] = passenger_timestamps"
   ]
  },
  {
   "cell_type": "code",
   "execution_count": 20,
   "metadata": {},
   "outputs": [
    {
     "data": {
      "image/png": "[encoded data removed]",
      "text/plain": [
       "<matplotlib.figure.Figure at 0x11c293910>"
      ]
     },
     "metadata": {},
     "output_type": "display_data"
    }
   ],
   "source": [
    "_ = df_passengers[\"created\"].plot(kind=\"density\")"
   ]
  },
  {
   "cell_type": "code",
   "execution_count": 21,
   "metadata": {},
   "outputs": [
    {
     "data": {
      "text/html": [
       "<div>\n",
       "<style>\n",
       "    .dataframe thead tr:only-child th {\n",
       "        text-align: right;\n",
       "    }\n",
       "\n",
       "    .dataframe thead th {\n",
       "        text-align: left;\n",
       "    }\n",
       "\n",
       "    .dataframe tbody tr th {\n",
       "        vertical-align: top;\n",
       "    }\n",
       "</style>\n",
       "<table border=\"1\" class=\"dataframe\">\n",
       "  <thead>\n",
       "    <tr style=\"text-align: right;\">\n",
       "      <th></th>\n",
       "      <th>id</th>\n",
       "      <th>rating</th>\n",
       "      <th>banned</th>\n",
       "      <th>created</th>\n",
       "    </tr>\n",
       "  </thead>\n",
       "  <tbody>\n",
       "    <tr>\n",
       "      <th>0</th>\n",
       "      <td>0</td>\n",
       "      <td>4.877295</td>\n",
       "      <td>0</td>\n",
       "      <td>1513789940</td>\n",
       "    </tr>\n",
       "    <tr>\n",
       "      <th>1</th>\n",
       "      <td>1</td>\n",
       "      <td>4.598253</td>\n",
       "      <td>0</td>\n",
       "      <td>1513626537</td>\n",
       "    </tr>\n",
       "    <tr>\n",
       "      <th>2</th>\n",
       "      <td>2</td>\n",
       "      <td>4.873773</td>\n",
       "      <td>0</td>\n",
       "      <td>1490545741</td>\n",
       "    </tr>\n",
       "  </tbody>\n",
       "</table>\n",
       "</div>"
      ],
      "text/plain": [
       "   id    rating  banned     created\n",
       "0   0  4.877295       0  1513789940\n",
       "1   1  4.598253       0  1513626537\n",
       "2   2  4.873773       0  1490545741"
      ]
     },
     "execution_count": 21,
     "metadata": {},
     "output_type": "execute_result"
    }
   ],
   "source": [
    "df_passengers.head(3)"
   ]
  },
  {
   "cell_type": "markdown",
   "metadata": {},
   "source": [
    "## Trips"
   ]
  },
  {
   "cell_type": "markdown",
   "metadata": {},
   "source": [
    "This is a big one. Let's break it down into several parts:\n",
    "\n",
    "* id - integer\n",
    "* pilot - integer\n",
    "* passenger - integer\n",
    "* planet - id\n",
    "\n",
    "We can start by assigning pilots and passengers to planets. For sanity's sake, we'll make the assumption that neither pilots nor passengers ever participate in trips outside their home planets."
   ]
  },
  {
   "cell_type": "code",
   "execution_count": 22,
   "metadata": {},
   "outputs": [],
   "source": [
    "probs_planets = [0.05, 0.03, 0.18, 0.34, 0.10, 0.16, 0.14]"
   ]
  },
  {
   "cell_type": "code",
   "execution_count": 23,
   "metadata": {},
   "outputs": [],
   "source": [
    "pilot_planets = pd.DataFrame({\n",
    "    \"pilot\": df_pilots[\"id\"],\n",
    "    \"planet\": np.random.choice(df_planets[\"id\"], size=len(df_pilots), p=probs_planets)\n",
    "})\n",
    "\n",
    "passenger_planets = pd.DataFrame({\n",
    "    \"passenger\": df_passengers[\"id\"],\n",
    "    \"planet\": np.random.choice(df_planets[\"id\"], size=len(df_passengers), p=probs_planets)\n",
    "})"
   ]
  },
  {
   "cell_type": "markdown",
   "metadata": {},
   "source": [
    "We'll suppose that 40% of our pilots are providing roughly 50% of the 10,000 trips."
   ]
  },
  {
   "cell_type": "code",
   "execution_count": 24,
   "metadata": {},
   "outputs": [],
   "source": [
    "def split_df(df, split_size):\n",
    "    a = np.random.choice(df.index, size=split_size, replace=False)\n",
    "    b = np.array(df.copy().drop(a).index)\n",
    "    return a, b"
   ]
  },
  {
   "cell_type": "code",
   "execution_count": 25,
   "metadata": {},
   "outputs": [],
   "source": [
    "pilots_40_idx, pilots_60_idx = split_df(df_pilots, 40)\n",
    "\n",
    "trip_pilots = np.concatenate((\n",
    "    np.random.choice(pilots_40_idx, size=5000, replace=True),\n",
    "    np.random.choice(pilots_60_idx, size=5000, replace=True)\n",
    "))\n",
    "\n",
    "df_trips = pd.DataFrame({\"pilot\": trip_pilots, \"id\": range(len(trip_pilots))})"
   ]
  },
  {
   "cell_type": "markdown",
   "metadata": {},
   "source": [
    "Which gives us a bimodal-looking distribution for trips per pilot:"
   ]
  },
  {
   "cell_type": "code",
   "execution_count": 26,
   "metadata": {},
   "outputs": [
    {
     "data": {
      "image/png": "[encoded data removed]",
      "text/plain": [
       "<matplotlib.figure.Figure at 0x11c2f3350>"
      ]
     },
     "metadata": {},
     "output_type": "display_data"
    }
   ],
   "source": [
    "_ = pd.DataFrame(df_trips[\"pilot\"].value_counts()).plot(kind=\"hist\", bins=11)"
   ]
  },
  {
   "cell_type": "markdown",
   "metadata": {},
   "source": [
    "Now let's assign a planet to each trip depending on the pilot's planet."
   ]
  },
  {
   "cell_type": "code",
   "execution_count": 27,
   "metadata": {},
   "outputs": [],
   "source": [
    "df_trips = pd.merge(df_trips, pilot_planets, how=\"left\", on=\"pilot\")"
   ]
  },
  {
   "cell_type": "markdown",
   "metadata": {},
   "source": [
    "And assign passengers to trips that took place on their planet."
   ]
  },
  {
   "cell_type": "code",
   "execution_count": 28,
   "metadata": {},
   "outputs": [],
   "source": [
    "for idx, row in df_trips.iterrows():\n",
    "    passengers_from_planet = passenger_planets[passenger_planets[\"planet\"] == row[\"planet\"]]\n",
    "    df_trips.loc[idx, \"passenger\"] = row[\"passenger\"] = np.random.choice(passengers_from_planet[\"passenger\"])\n",
    "    \n",
    "df_trips[\"passenger\"] = df_trips[\"passenger\"].astype(\"int64\")"
   ]
  },
  {
   "cell_type": "markdown",
   "metadata": {},
   "source": [
    "The way we do this results in a more normal-looking distribution for passenger trips:"
   ]
  },
  {
   "cell_type": "code",
   "execution_count": 29,
   "metadata": {},
   "outputs": [
    {
     "data": {
      "image/png": "[encoded data removed]",
      "text/plain": [
       "<matplotlib.figure.Figure at 0x11c2f3090>"
      ]
     },
     "metadata": {},
     "output_type": "display_data"
    }
   ],
   "source": [
    "_ = pd.DataFrame(df_trips[\"passenger\"].value_counts()).plot(kind=\"hist\", bins=11)"
   ]
  },
  {
   "cell_type": "code",
   "execution_count": 30,
   "metadata": {},
   "outputs": [
    {
     "data": {
      "text/html": [
       "<div>\n",
       "<style>\n",
       "    .dataframe thead tr:only-child th {\n",
       "        text-align: right;\n",
       "    }\n",
       "\n",
       "    .dataframe thead th {\n",
       "        text-align: left;\n",
       "    }\n",
       "\n",
       "    .dataframe tbody tr th {\n",
       "        vertical-align: top;\n",
       "    }\n",
       "</style>\n",
       "<table border=\"1\" class=\"dataframe\">\n",
       "  <thead>\n",
       "    <tr style=\"text-align: right;\">\n",
       "      <th></th>\n",
       "      <th>id</th>\n",
       "      <th>pilot</th>\n",
       "      <th>planet</th>\n",
       "      <th>passenger</th>\n",
       "    </tr>\n",
       "  </thead>\n",
       "  <tbody>\n",
       "    <tr>\n",
       "      <th>0</th>\n",
       "      <td>0</td>\n",
       "      <td>39</td>\n",
       "      <td>3</td>\n",
       "      <td>423</td>\n",
       "    </tr>\n",
       "    <tr>\n",
       "      <th>1</th>\n",
       "      <td>1</td>\n",
       "      <td>3</td>\n",
       "      <td>6</td>\n",
       "      <td>53</td>\n",
       "    </tr>\n",
       "    <tr>\n",
       "      <th>2</th>\n",
       "      <td>2</td>\n",
       "      <td>36</td>\n",
       "      <td>2</td>\n",
       "      <td>458</td>\n",
       "    </tr>\n",
       "  </tbody>\n",
       "</table>\n",
       "</div>"
      ],
      "text/plain": [
       "   id  pilot  planet  passenger\n",
       "0   0     39       3        423\n",
       "1   1      3       6         53\n",
       "2   2     36       2        458"
      ]
     },
     "execution_count": 30,
     "metadata": {},
     "output_type": "execute_result"
    }
   ],
   "source": [
    "df_trips.head(3)"
   ]
  },
  {
   "cell_type": "markdown",
   "metadata": {},
   "source": [
    "* trip_completed - boolean\n",
    "* trip_requested - timestamp\n",
    "* trip_started - timestamp\n",
    "* trip_ended - timestamp\n",
    "\n",
    "Let's say the likelihood of a trip being completed is uniform across the population of trips."
   ]
  },
  {
   "cell_type": "code",
   "execution_count": 31,
   "metadata": {},
   "outputs": [],
   "source": [
    "trips_completed = stats.binom.rvs(n=1, p=0.95, size=len(df_trips))\n",
    "df_trips[\"trip_completed\"] = trips_completed"
   ]
  },
  {
   "cell_type": "markdown",
   "metadata": {},
   "source": [
    "A trip can only be requested after both the pilot and passenger's accounts have been created."
   ]
  },
  {
   "cell_type": "code",
   "execution_count": 32,
   "metadata": {},
   "outputs": [],
   "source": [
    "max_trip = int((end_2017 - datetime.datetime(1970, 1, 1)).total_seconds())"
   ]
  },
  {
   "cell_type": "code",
   "execution_count": 33,
   "metadata": {},
   "outputs": [],
   "source": [
    "for idx, row in df_trips.iterrows():\n",
    "    \n",
    "    pilot_created = df_pilots.loc[row[\"pilot\"], \"created\"]\n",
    "    passenger_created = df_passengers.loc[row[\"passenger\"], \"created\"]\n",
    "    min_trip = max(pilot_created, passenger_created)\n",
    "    \n",
    "    df_trips.loc[idx, \"trip_requested\"] = np.random.randint(min_trip, max_trip)"
   ]
  },
  {
   "cell_type": "markdown",
   "metadata": {},
   "source": [
    "Remember that pilot and passenger account creation is distributed uniformly throughout the year. This means that trips become more likely to take place as the year goes on."
   ]
  },
  {
   "cell_type": "code",
   "execution_count": 34,
   "metadata": {
    "scrolled": true
   },
   "outputs": [
    {
     "data": {
      "image/png": "[encoded data removed]",
      "text/plain": [
       "<matplotlib.figure.Figure at 0x11c293710>"
      ]
     },
     "metadata": {},
     "output_type": "display_data"
    }
   ],
   "source": [
    "_ = df_trips.trip_requested.plot(kind=\"hist\", bins=11)"
   ]
  },
  {
   "cell_type": "markdown",
   "metadata": {},
   "source": [
    "Trips start between 1-15 minutes after they are requested."
   ]
  },
  {
   "cell_type": "code",
   "execution_count": 35,
   "metadata": {},
   "outputs": [],
   "source": [
    "for idx, row in df_trips.iterrows():\n",
    "    df_trips.loc[idx, \"trip_started\"] = row[\"trip_requested\"] + np.random.randint(60, 60 * 15)"
   ]
  },
  {
   "cell_type": "markdown",
   "metadata": {},
   "source": [
    "And end between 5-60 minutes after they start."
   ]
  },
  {
   "cell_type": "code",
   "execution_count": 36,
   "metadata": {
    "collapsed": true
   },
   "outputs": [],
   "source": [
    "for idx, row in df_trips.iterrows():\n",
    "    df_trips.loc[idx, \"trip_ended\"] = row[\"trip_started\"] + np.random.randint(60 * 5, 60 * 60)"
   ]
  },
  {
   "cell_type": "markdown",
   "metadata": {},
   "source": [
    "Trips can have a start and end time without having been completed. What we *don't* want is for any pilot or passenger to have started a trip while in the middle of an ongoing trip. This is slightly trickier than it sounds, so let's go over it step by step.\n",
    "\n",
    "First, we'll want an idea of how widespread the issue of overlapping trips is. Let's create a new dataframe, grouping trips provided by individual pilots and sorting them into chronological order."
   ]
  },
  {
   "cell_type": "code",
   "execution_count": 37,
   "metadata": {},
   "outputs": [],
   "source": [
    "trips_sorted_pilot = df_trips.sort_values([\"pilot\", \"trip_requested\"])"
   ]
  },
  {
   "cell_type": "markdown",
   "metadata": {},
   "source": [
    "Let's examine the `trip_started` and `trip_ended` values in our new dataframe, and create some additional columns that will help us parse our timestamps more intuitively."
   ]
  },
  {
   "cell_type": "code",
   "execution_count": 38,
   "metadata": {},
   "outputs": [],
   "source": [
    "trips_sorted_pilot = pd.DataFrame({\n",
    "    \"id\": trips_sorted_pilot[\"id\"].values,\n",
    "    \"pilot\": trips_sorted_pilot[\"pilot\"].values,\n",
    "    \"trip_started\": trips_sorted_pilot[\"trip_started\"].values,\n",
    "    \"trip_ended\": trips_sorted_pilot[\"trip_ended\"].values,\n",
    "    \"trip_started_readable\": pd.to_datetime(trips_sorted_pilot[\"trip_started\"], unit=\"s\").values,\n",
    "    \"trip_ended_readable\": pd.to_datetime(trips_sorted_pilot[\"trip_ended\"], unit=\"s\").values\n",
    "}, index=range(len(df_trips)))[[\"id\", \"pilot\", \"trip_started_readable\", \"trip_ended_readable\", \"trip_started\", \"trip_ended\"]]\n",
    "\n",
    "trips_sorted_pilot_duration = pd.DataFrame({\"trip_duration\": trips_sorted_pilot[\"trip_ended_readable\"] - trips_sorted_pilot[\"trip_started_readable\"]})\n",
    "trips_sorted_pilot = pd.concat([trips_sorted_pilot, trips_sorted_pilot_duration], axis=1)"
   ]
  },
  {
   "cell_type": "code",
   "execution_count": 39,
   "metadata": {},
   "outputs": [
    {
     "data": {
      "text/html": [
       "<div>\n",
       "<style>\n",
       "    .dataframe thead tr:only-child th {\n",
       "        text-align: right;\n",
       "    }\n",
       "\n",
       "    .dataframe thead th {\n",
       "        text-align: left;\n",
       "    }\n",
       "\n",
       "    .dataframe tbody tr th {\n",
       "        vertical-align: top;\n",
       "    }\n",
       "</style>\n",
       "<table border=\"1\" class=\"dataframe\">\n",
       "  <thead>\n",
       "    <tr style=\"text-align: right;\">\n",
       "      <th></th>\n",
       "      <th>id</th>\n",
       "      <th>pilot</th>\n",
       "      <th>trip_started_readable</th>\n",
       "      <th>trip_ended_readable</th>\n",
       "      <th>trip_started</th>\n",
       "      <th>trip_ended</th>\n",
       "      <th>trip_duration</th>\n",
       "    </tr>\n",
       "  </thead>\n",
       "  <tbody>\n",
       "    <tr>\n",
       "      <th>0</th>\n",
       "      <td>2262</td>\n",
       "      <td>0</td>\n",
       "      <td>2017-03-16 01:41:42</td>\n",
       "      <td>2017-03-16 02:27:41</td>\n",
       "      <td>1.489629e+09</td>\n",
       "      <td>1.489631e+09</td>\n",
       "      <td>00:45:59</td>\n",
       "    </tr>\n",
       "    <tr>\n",
       "      <th>1</th>\n",
       "      <td>4444</td>\n",
       "      <td>0</td>\n",
       "      <td>2017-03-21 00:12:05</td>\n",
       "      <td>2017-03-21 01:05:27</td>\n",
       "      <td>1.490055e+09</td>\n",
       "      <td>1.490058e+09</td>\n",
       "      <td>00:53:22</td>\n",
       "    </tr>\n",
       "    <tr>\n",
       "      <th>2</th>\n",
       "      <td>4006</td>\n",
       "      <td>0</td>\n",
       "      <td>2017-03-25 07:10:14</td>\n",
       "      <td>2017-03-25 07:20:14</td>\n",
       "      <td>1.490426e+09</td>\n",
       "      <td>1.490426e+09</td>\n",
       "      <td>00:10:00</td>\n",
       "    </tr>\n",
       "  </tbody>\n",
       "</table>\n",
       "</div>"
      ],
      "text/plain": [
       "     id  pilot trip_started_readable trip_ended_readable  trip_started  \\\n",
       "0  2262      0   2017-03-16 01:41:42 2017-03-16 02:27:41  1.489629e+09   \n",
       "1  4444      0   2017-03-21 00:12:05 2017-03-21 01:05:27  1.490055e+09   \n",
       "2  4006      0   2017-03-25 07:10:14 2017-03-25 07:20:14  1.490426e+09   \n",
       "\n",
       "     trip_ended trip_duration  \n",
       "0  1.489631e+09      00:45:59  \n",
       "1  1.490058e+09      00:53:22  \n",
       "2  1.490426e+09      00:10:00  "
      ]
     },
     "execution_count": 39,
     "metadata": {},
     "output_type": "execute_result"
    }
   ],
   "source": [
    "trips_sorted_pilot.head(3)"
   ]
  },
  {
   "cell_type": "markdown",
   "metadata": {},
   "source": [
    "We can subtract from each row's `trip_started` time the `trip_ended` time of the previous row to get the time elapsed between the two trips. Any negative value returned by this calculation indicates an overlap."
   ]
  },
  {
   "cell_type": "code",
   "execution_count": 40,
   "metadata": {},
   "outputs": [
    {
     "name": "stdout",
     "output_type": "stream",
     "text": [
      "CPU times: user 30 s, sys: 463 ms, total: 30.5 s\n",
      "Wall time: 34.3 s\n"
     ]
    }
   ],
   "source": [
    "%%time\n",
    "\n",
    "trips_sorted_pilot[\"prev_trip_elapsed\"] = None\n",
    "trips_sorted_pilot[\"overlap\"] = None\n",
    "\n",
    "for idx, row in trips_sorted_pilot.iterrows():\n",
    "    if idx == 0: continue\n",
    "        \n",
    "    curr_pilot = row[\"pilot\"]\n",
    "    prev_pilot = trips_sorted_pilot.loc[idx - 1][\"pilot\"]\n",
    "    if curr_pilot != prev_pilot: continue\n",
    "        \n",
    "    prev_end = trips_sorted_pilot.loc[idx - 1][\"trip_ended\"]\n",
    "    curr_str = row[\"trip_started\"]\n",
    "    elapsed = curr_str - prev_end\n",
    "    trips_sorted_pilot.loc[idx, \"prev_trip_elapsed\"] = elapsed\n",
    "    trips_sorted_pilot.loc[idx, \"overlap\"] = 1 if elapsed < 0 else 0"
   ]
  },
  {
   "cell_type": "code",
   "execution_count": 41,
   "metadata": {},
   "outputs": [
    {
     "data": {
      "text/html": [
       "<div>\n",
       "<style>\n",
       "    .dataframe thead tr:only-child th {\n",
       "        text-align: right;\n",
       "    }\n",
       "\n",
       "    .dataframe thead th {\n",
       "        text-align: left;\n",
       "    }\n",
       "\n",
       "    .dataframe tbody tr th {\n",
       "        vertical-align: top;\n",
       "    }\n",
       "</style>\n",
       "<table border=\"1\" class=\"dataframe\">\n",
       "  <thead>\n",
       "    <tr style=\"text-align: right;\">\n",
       "      <th></th>\n",
       "      <th>id</th>\n",
       "      <th>pilot</th>\n",
       "      <th>trip_started_readable</th>\n",
       "      <th>trip_ended_readable</th>\n",
       "      <th>trip_started</th>\n",
       "      <th>trip_ended</th>\n",
       "      <th>trip_duration</th>\n",
       "      <th>prev_trip_elapsed</th>\n",
       "      <th>overlap</th>\n",
       "    </tr>\n",
       "  </thead>\n",
       "  <tbody>\n",
       "    <tr>\n",
       "      <th>0</th>\n",
       "      <td>2262</td>\n",
       "      <td>0</td>\n",
       "      <td>2017-03-16 01:41:42</td>\n",
       "      <td>2017-03-16 02:27:41</td>\n",
       "      <td>1.489629e+09</td>\n",
       "      <td>1.489631e+09</td>\n",
       "      <td>00:45:59</td>\n",
       "      <td>None</td>\n",
       "      <td>None</td>\n",
       "    </tr>\n",
       "    <tr>\n",
       "      <th>1</th>\n",
       "      <td>4444</td>\n",
       "      <td>0</td>\n",
       "      <td>2017-03-21 00:12:05</td>\n",
       "      <td>2017-03-21 01:05:27</td>\n",
       "      <td>1.490055e+09</td>\n",
       "      <td>1.490058e+09</td>\n",
       "      <td>00:53:22</td>\n",
       "      <td>423864</td>\n",
       "      <td>0</td>\n",
       "    </tr>\n",
       "    <tr>\n",
       "      <th>2</th>\n",
       "      <td>4006</td>\n",
       "      <td>0</td>\n",
       "      <td>2017-03-25 07:10:14</td>\n",
       "      <td>2017-03-25 07:20:14</td>\n",
       "      <td>1.490426e+09</td>\n",
       "      <td>1.490426e+09</td>\n",
       "      <td>00:10:00</td>\n",
       "      <td>367487</td>\n",
       "      <td>0</td>\n",
       "    </tr>\n",
       "    <tr>\n",
       "      <th>3</th>\n",
       "      <td>4318</td>\n",
       "      <td>0</td>\n",
       "      <td>2017-04-09 08:19:04</td>\n",
       "      <td>2017-04-09 09:09:57</td>\n",
       "      <td>1.491726e+09</td>\n",
       "      <td>1.491729e+09</td>\n",
       "      <td>00:50:53</td>\n",
       "      <td>1.29953e+06</td>\n",
       "      <td>0</td>\n",
       "    </tr>\n",
       "    <tr>\n",
       "      <th>4</th>\n",
       "      <td>4573</td>\n",
       "      <td>0</td>\n",
       "      <td>2017-04-13 10:02:33</td>\n",
       "      <td>2017-04-13 10:56:54</td>\n",
       "      <td>1.492078e+09</td>\n",
       "      <td>1.492081e+09</td>\n",
       "      <td>00:54:21</td>\n",
       "      <td>348756</td>\n",
       "      <td>0</td>\n",
       "    </tr>\n",
       "    <tr>\n",
       "      <th>5</th>\n",
       "      <td>4484</td>\n",
       "      <td>0</td>\n",
       "      <td>2017-04-22 08:47:18</td>\n",
       "      <td>2017-04-22 09:39:31</td>\n",
       "      <td>1.492851e+09</td>\n",
       "      <td>1.492854e+09</td>\n",
       "      <td>00:52:13</td>\n",
       "      <td>769824</td>\n",
       "      <td>0</td>\n",
       "    </tr>\n",
       "    <tr>\n",
       "      <th>6</th>\n",
       "      <td>842</td>\n",
       "      <td>0</td>\n",
       "      <td>2017-04-25 20:40:45</td>\n",
       "      <td>2017-04-25 21:16:32</td>\n",
       "      <td>1.493153e+09</td>\n",
       "      <td>1.493155e+09</td>\n",
       "      <td>00:35:47</td>\n",
       "      <td>298874</td>\n",
       "      <td>0</td>\n",
       "    </tr>\n",
       "    <tr>\n",
       "      <th>7</th>\n",
       "      <td>563</td>\n",
       "      <td>0</td>\n",
       "      <td>2017-05-05 01:16:02</td>\n",
       "      <td>2017-05-05 01:59:50</td>\n",
       "      <td>1.493947e+09</td>\n",
       "      <td>1.493950e+09</td>\n",
       "      <td>00:43:48</td>\n",
       "      <td>791970</td>\n",
       "      <td>0</td>\n",
       "    </tr>\n",
       "    <tr>\n",
       "      <th>8</th>\n",
       "      <td>1032</td>\n",
       "      <td>0</td>\n",
       "      <td>2017-05-05 04:07:31</td>\n",
       "      <td>2017-05-05 05:05:32</td>\n",
       "      <td>1.493957e+09</td>\n",
       "      <td>1.493961e+09</td>\n",
       "      <td>00:58:01</td>\n",
       "      <td>7661</td>\n",
       "      <td>0</td>\n",
       "    </tr>\n",
       "    <tr>\n",
       "      <th>9</th>\n",
       "      <td>3066</td>\n",
       "      <td>0</td>\n",
       "      <td>2017-05-06 13:45:28</td>\n",
       "      <td>2017-05-06 13:50:28</td>\n",
       "      <td>1.494078e+09</td>\n",
       "      <td>1.494079e+09</td>\n",
       "      <td>00:05:00</td>\n",
       "      <td>117596</td>\n",
       "      <td>0</td>\n",
       "    </tr>\n",
       "  </tbody>\n",
       "</table>\n",
       "</div>"
      ],
      "text/plain": [
       "     id  pilot trip_started_readable trip_ended_readable  trip_started  \\\n",
       "0  2262      0   2017-03-16 01:41:42 2017-03-16 02:27:41  1.489629e+09   \n",
       "1  4444      0   2017-03-21 00:12:05 2017-03-21 01:05:27  1.490055e+09   \n",
       "2  4006      0   2017-03-25 07:10:14 2017-03-25 07:20:14  1.490426e+09   \n",
       "3  4318      0   2017-04-09 08:19:04 2017-04-09 09:09:57  1.491726e+09   \n",
       "4  4573      0   2017-04-13 10:02:33 2017-04-13 10:56:54  1.492078e+09   \n",
       "5  4484      0   2017-04-22 08:47:18 2017-04-22 09:39:31  1.492851e+09   \n",
       "6   842      0   2017-04-25 20:40:45 2017-04-25 21:16:32  1.493153e+09   \n",
       "7   563      0   2017-05-05 01:16:02 2017-05-05 01:59:50  1.493947e+09   \n",
       "8  1032      0   2017-05-05 04:07:31 2017-05-05 05:05:32  1.493957e+09   \n",
       "9  3066      0   2017-05-06 13:45:28 2017-05-06 13:50:28  1.494078e+09   \n",
       "\n",
       "     trip_ended trip_duration prev_trip_elapsed overlap  \n",
       "0  1.489631e+09      00:45:59              None    None  \n",
       "1  1.490058e+09      00:53:22            423864       0  \n",
       "2  1.490426e+09      00:10:00            367487       0  \n",
       "3  1.491729e+09      00:50:53       1.29953e+06       0  \n",
       "4  1.492081e+09      00:54:21            348756       0  \n",
       "5  1.492854e+09      00:52:13            769824       0  \n",
       "6  1.493155e+09      00:35:47            298874       0  \n",
       "7  1.493950e+09      00:43:48            791970       0  \n",
       "8  1.493961e+09      00:58:01              7661       0  \n",
       "9  1.494079e+09      00:05:00            117596       0  "
      ]
     },
     "execution_count": 41,
     "metadata": {},
     "output_type": "execute_result"
    }
   ],
   "source": [
    "trips_sorted_pilot.head(10)"
   ]
  },
  {
   "cell_type": "markdown",
   "metadata": {},
   "source": [
    "The later a pilot's account was created, the more likely they are to have an overlapping trip. \n",
    "\n",
    "At this point, I considered several strategies for dealing with the overlapping trips. Moving the start time of each trip some interval beyond of the end time of the previous trip, isolating the overlapping trips and generating new timestamps for them until no overlap remained in the dataframe, but after finding out that overlapping trips consisted of no more than 5% of our overall trips data..."
   ]
  },
  {
   "cell_type": "code",
   "execution_count": 42,
   "metadata": {},
   "outputs": [
    {
     "data": {
      "text/plain": [
       "0.0268"
      ]
     },
     "execution_count": 42,
     "metadata": {},
     "output_type": "execute_result"
    }
   ],
   "source": [
    "float(trips_sorted_pilot[\"overlap\"].sum()) / len(trips_sorted_pilot)"
   ]
  },
  {
   "cell_type": "markdown",
   "metadata": {},
   "source": [
    "... I decided that moving timestamps around was far more likely to create unintended patterns in our data and just dropped overlapping trips from the dataframe."
   ]
  },
  {
   "cell_type": "code",
   "execution_count": 43,
   "metadata": {
    "collapsed": true
   },
   "outputs": [],
   "source": [
    "overlapping_trip_pilot_ids = trips_sorted_pilot[trips_sorted_pilot[\"overlap\"] == 1][\"id\"].values\n",
    "df_trips = df_trips.drop(overlapping_trip_pilot_ids)"
   ]
  },
  {
   "cell_type": "markdown",
   "metadata": {},
   "source": [
    "Now we have to do the same for passengers - but fewer passengers should have overlapping trips since trips are spread out over a 10x greater number of passengers:"
   ]
  },
  {
   "cell_type": "code",
   "execution_count": 44,
   "metadata": {},
   "outputs": [
    {
     "name": "stdout",
     "output_type": "stream",
     "text": [
      "CPU times: user 30.1 s, sys: 463 ms, total: 30.6 s\n",
      "Wall time: 36.2 s\n"
     ]
    }
   ],
   "source": [
    "%%time\n",
    "\n",
    "trips_sorted_passenger = df_trips.sort_values([\"passenger\", \"trip_requested\"])\n",
    "\n",
    "trips_sorted_passenger = pd.DataFrame({\n",
    "    \"id\": trips_sorted_passenger[\"id\"].values,\n",
    "    \"passenger\": trips_sorted_passenger[\"passenger\"].values,\n",
    "    \"trip_started\": trips_sorted_passenger[\"trip_started\"].values,\n",
    "    \"trip_ended\": trips_sorted_passenger[\"trip_ended\"].values,\n",
    "    \"trip_started_readable\": pd.to_datetime(trips_sorted_passenger[\"trip_started\"], unit=\"s\").values,\n",
    "    \"trip_ended_readable\": pd.to_datetime(trips_sorted_passenger[\"trip_ended\"], unit=\"s\").values\n",
    "}, index=range(len(df_trips)))[[\"id\", \"passenger\", \"trip_started_readable\", \"trip_ended_readable\", \"trip_started\", \"trip_ended\"]]\n",
    "\n",
    "trips_sorted_passenger_duration = pd.DataFrame({\"trip_duration\": trips_sorted_passenger[\"trip_ended_readable\"] - trips_sorted_passenger[\"trip_started_readable\"]})\n",
    "trips_sorted_passenger = pd.concat([trips_sorted_passenger, trips_sorted_passenger_duration], axis=1)\n",
    "\n",
    "trips_sorted_passenger[\"prev_trip_elapsed\"] = None\n",
    "trips_sorted_passenger[\"overlap\"] = None\n",
    "\n",
    "for idx, row in trips_sorted_passenger.iterrows():\n",
    "    if idx == 0: continue\n",
    "        \n",
    "    curr_passenger = row[\"passenger\"]\n",
    "    prev_passenger = trips_sorted_passenger.loc[idx - 1][\"passenger\"]\n",
    "    if curr_passenger != prev_passenger: continue\n",
    "        \n",
    "    prev_end = trips_sorted_passenger.loc[idx - 1][\"trip_ended\"]\n",
    "    curr_str = row[\"trip_started\"]\n",
    "    elapsed = curr_str - prev_end\n",
    "    trips_sorted_passenger.loc[idx, \"prev_trip_elapsed\"] = elapsed\n",
    "    trips_sorted_passenger.loc[idx, \"overlap\"] = 1 if elapsed < 0 else 0"
   ]
  },
  {
   "cell_type": "code",
   "execution_count": 45,
   "metadata": {},
   "outputs": [
    {
     "data": {
      "text/plain": [
       "0.004521167283189478"
      ]
     },
     "execution_count": 45,
     "metadata": {},
     "output_type": "execute_result"
    }
   ],
   "source": [
    "float(trips_sorted_passenger[\"overlap\"].sum()) / len(trips_sorted_passenger)"
   ]
  },
  {
   "cell_type": "markdown",
   "metadata": {},
   "source": [
    "That's 10x less overlap. Let's go ahead and drop those as well."
   ]
  },
  {
   "cell_type": "code",
   "execution_count": 46,
   "metadata": {
    "collapsed": true
   },
   "outputs": [],
   "source": [
    "overlapping_trip_passenger_ids = trips_sorted_passenger[trips_sorted_passenger[\"overlap\"] == 1][\"id\"].values\n",
    "df_trips = df_trips.drop(overlapping_trip_passenger_ids)"
   ]
  },
  {
   "cell_type": "code",
   "execution_count": 47,
   "metadata": {},
   "outputs": [
    {
     "data": {
      "text/html": [
       "<div>\n",
       "<style>\n",
       "    .dataframe thead tr:only-child th {\n",
       "        text-align: right;\n",
       "    }\n",
       "\n",
       "    .dataframe thead th {\n",
       "        text-align: left;\n",
       "    }\n",
       "\n",
       "    .dataframe tbody tr th {\n",
       "        vertical-align: top;\n",
       "    }\n",
       "</style>\n",
       "<table border=\"1\" class=\"dataframe\">\n",
       "  <thead>\n",
       "    <tr style=\"text-align: right;\">\n",
       "      <th></th>\n",
       "      <th>id</th>\n",
       "      <th>pilot</th>\n",
       "      <th>planet</th>\n",
       "      <th>passenger</th>\n",
       "      <th>trip_completed</th>\n",
       "      <th>trip_requested</th>\n",
       "      <th>trip_started</th>\n",
       "      <th>trip_ended</th>\n",
       "    </tr>\n",
       "  </thead>\n",
       "  <tbody>\n",
       "    <tr>\n",
       "      <th>0</th>\n",
       "      <td>0</td>\n",
       "      <td>39</td>\n",
       "      <td>3</td>\n",
       "      <td>423</td>\n",
       "      <td>1</td>\n",
       "      <td>1.501065e+09</td>\n",
       "      <td>1.501065e+09</td>\n",
       "      <td>1.501068e+09</td>\n",
       "    </tr>\n",
       "    <tr>\n",
       "      <th>1</th>\n",
       "      <td>1</td>\n",
       "      <td>3</td>\n",
       "      <td>6</td>\n",
       "      <td>53</td>\n",
       "      <td>1</td>\n",
       "      <td>1.514005e+09</td>\n",
       "      <td>1.514005e+09</td>\n",
       "      <td>1.514006e+09</td>\n",
       "    </tr>\n",
       "    <tr>\n",
       "      <th>2</th>\n",
       "      <td>2</td>\n",
       "      <td>36</td>\n",
       "      <td>2</td>\n",
       "      <td>458</td>\n",
       "      <td>1</td>\n",
       "      <td>1.505107e+09</td>\n",
       "      <td>1.505108e+09</td>\n",
       "      <td>1.505109e+09</td>\n",
       "    </tr>\n",
       "  </tbody>\n",
       "</table>\n",
       "</div>"
      ],
      "text/plain": [
       "   id  pilot  planet  passenger  trip_completed  trip_requested  trip_started  \\\n",
       "0   0     39       3        423               1    1.501065e+09  1.501065e+09   \n",
       "1   1      3       6         53               1    1.514005e+09  1.514005e+09   \n",
       "2   2     36       2        458               1    1.505107e+09  1.505108e+09   \n",
       "\n",
       "     trip_ended  \n",
       "0  1.501068e+09  \n",
       "1  1.514006e+09  \n",
       "2  1.505109e+09  "
      ]
     },
     "execution_count": 47,
     "metadata": {},
     "output_type": "execute_result"
    }
   ],
   "source": [
    "df_trips.head(3)"
   ]
  },
  {
   "cell_type": "markdown",
   "metadata": {},
   "source": [
    "* price - integer\n",
    "* pilot_rating - integer\n",
    "* passenger_rating - integer\n",
    "\n",
    "Price is determined from the duration of the trip. Trips have a higher rate if requested during daytime or rush hours. Let's implement the following:\n",
    "\n",
    "* Trip prices start at 1.99\n",
    "* Trip prices gain an additional 0.5 cents per duration second, which is rounded up to the nearest cent\n",
    "* If a trip is requested between 8am and 8pm, the price per second is 30% higher\n",
    "* If a trip is requested between 9am and 10am, or 5pm and 6pm, the price per second is 80% higher"
   ]
  },
  {
   "cell_type": "code",
   "execution_count": 48,
   "metadata": {
    "collapsed": true
   },
   "outputs": [],
   "source": [
    "import math"
   ]
  },
  {
   "cell_type": "code",
   "execution_count": 49,
   "metadata": {},
   "outputs": [],
   "source": [
    "for idx, row in df_trips.iterrows():\n",
    "    requested_hour = pd.to_datetime(row[\"trip_requested\"], unit=\"s\").hour\n",
    "    premium = 1.0\n",
    "    if ((requested_hour >= 8) & (requested_hour < 20)): premium = 1.3\n",
    "    if ((requested_hour == 9) or (requested_hour == 17)): premium = 1.8\n",
    "    duration = row[\"trip_ended\"] - row[\"trip_started\"]\n",
    "    df_trips.loc[idx, \"price\"] = math.ceil(duration * 0.3 * premium) + 199"
   ]
  },
  {
   "cell_type": "markdown",
   "metadata": {},
   "source": [
    "We can use the same quantile groups as before to randomly assign a trip rating to pilots."
   ]
  },
  {
   "cell_type": "code",
   "execution_count": 50,
   "metadata": {},
   "outputs": [],
   "source": [
    "pilots_abv_75th_pct_ids = df_pilots[pilots_abv_75th_pct][\"id\"].values\n",
    "pilots_abv_50th_pct_ids = df_pilots[pilots_abv_50th_pct][\"id\"].values\n",
    "pilots_blw_50th_pct_ids = df_pilots[pilots_blw_50th_pct][\"id\"].values\n",
    "\n",
    "trip_pilots_abv_75th_pct = (df_trips[\"pilot\"].isin(pilots_abv_75th_pct_ids))\n",
    "trip_pilots_abv_50th_pct = (df_trips[\"pilot\"].isin(pilots_abv_50th_pct_ids))\n",
    "trip_pilots_blw_50th_pct = (df_trips[\"pilot\"].isin(pilots_blw_50th_pct_ids))\n",
    "\n",
    "df_trips.loc[trip_pilots_abv_75th_pct, \"pilot_rating\"] = np.random.choice(\n",
    "    [1, 2, 3, 4, 5], \n",
    "    size=len(df_trips[trip_pilots_abv_75th_pct]),\n",
    "    p=[0.03, 0.03, 0.03, 0.11, 0.80]\n",
    ")\n",
    "\n",
    "df_trips.loc[trip_pilots_abv_50th_pct, \"pilot_rating\"] = np.random.choice(\n",
    "    [1, 2, 3, 4, 5], \n",
    "    size=len(df_trips[trip_pilots_abv_50th_pct]),\n",
    "    p=[0.05, 0.05, 0.05, 0.10, 0.75]\n",
    ")\n",
    "\n",
    "df_trips.loc[trip_pilots_blw_50th_pct, \"pilot_rating\"] = np.random.choice(\n",
    "    [1, 2, 3, 4, 5], \n",
    "    size=len(df_trips[trip_pilots_blw_50th_pct]),\n",
    "    p=[0.07, 0.07, 0.07, 0.09, 0.70]\n",
    ")"
   ]
  },
  {
   "cell_type": "markdown",
   "metadata": {},
   "source": [
    "As well as passengers."
   ]
  },
  {
   "cell_type": "code",
   "execution_count": 51,
   "metadata": {},
   "outputs": [],
   "source": [
    "passengers_abv_75th_pct_ids = df_passengers[passengers_abv_75th_pct][\"id\"].values\n",
    "passengers_abv_50th_pct_ids = df_passengers[passengers_abv_50th_pct][\"id\"].values\n",
    "passengers_blw_50th_pct_ids = df_passengers[passengers_blw_50th_pct][\"id\"].values\n",
    "\n",
    "trip_passengers_abv_75th_pct = (df_trips[\"passenger\"].isin(passengers_abv_75th_pct_ids))\n",
    "trip_passengers_abv_50th_pct = (df_trips[\"passenger\"].isin(passengers_abv_50th_pct_ids))\n",
    "trip_passengers_blw_50th_pct = (df_trips[\"passenger\"].isin(passengers_blw_50th_pct_ids))\n",
    "\n",
    "df_trips.loc[trip_passengers_abv_75th_pct, \"passenger_rating\"] = np.random.choice(\n",
    "    [1, 2, 3, 4, 5], \n",
    "    size=len(df_trips[trip_passengers_abv_75th_pct]),\n",
    "    p=[0.05, 0.05, 0.05, 0.10, 0.75]\n",
    ")\n",
    "\n",
    "df_trips.loc[trip_passengers_abv_50th_pct, \"passenger_rating\"] = np.random.choice(\n",
    "    [1, 2, 3, 4, 5], \n",
    "    size=len(df_trips[trip_passengers_abv_50th_pct]),\n",
    "    p=[0.07, 0.07, 0.07, 0.09, 0.70]\n",
    ")\n",
    "\n",
    "df_trips.loc[trip_passengers_blw_50th_pct, \"passenger_rating\"] = np.random.choice(\n",
    "    [1, 2, 3, 4, 5], \n",
    "    size=len(df_trips[trip_passengers_blw_50th_pct]),\n",
    "    p=[0.09, 0.09, 0.09, 0.08, 0.65]\n",
    ")"
   ]
  },
  {
   "cell_type": "code",
   "execution_count": 52,
   "metadata": {},
   "outputs": [
    {
     "data": {
      "text/html": [
       "<div>\n",
       "<style>\n",
       "    .dataframe thead tr:only-child th {\n",
       "        text-align: right;\n",
       "    }\n",
       "\n",
       "    .dataframe thead th {\n",
       "        text-align: left;\n",
       "    }\n",
       "\n",
       "    .dataframe tbody tr th {\n",
       "        vertical-align: top;\n",
       "    }\n",
       "</style>\n",
       "<table border=\"1\" class=\"dataframe\">\n",
       "  <thead>\n",
       "    <tr style=\"text-align: right;\">\n",
       "      <th></th>\n",
       "      <th>id</th>\n",
       "      <th>pilot</th>\n",
       "      <th>planet</th>\n",
       "      <th>passenger</th>\n",
       "      <th>trip_completed</th>\n",
       "      <th>trip_requested</th>\n",
       "      <th>trip_started</th>\n",
       "      <th>trip_ended</th>\n",
       "      <th>price</th>\n",
       "      <th>pilot_rating</th>\n",
       "      <th>passenger_rating</th>\n",
       "    </tr>\n",
       "  </thead>\n",
       "  <tbody>\n",
       "    <tr>\n",
       "      <th>0</th>\n",
       "      <td>0</td>\n",
       "      <td>39</td>\n",
       "      <td>3</td>\n",
       "      <td>423</td>\n",
       "      <td>1</td>\n",
       "      <td>1.501065e+09</td>\n",
       "      <td>1.501065e+09</td>\n",
       "      <td>1.501068e+09</td>\n",
       "      <td>1489.0</td>\n",
       "      <td>5.0</td>\n",
       "      <td>5.0</td>\n",
       "    </tr>\n",
       "    <tr>\n",
       "      <th>1</th>\n",
       "      <td>1</td>\n",
       "      <td>3</td>\n",
       "      <td>6</td>\n",
       "      <td>53</td>\n",
       "      <td>1</td>\n",
       "      <td>1.514005e+09</td>\n",
       "      <td>1.514005e+09</td>\n",
       "      <td>1.514006e+09</td>\n",
       "      <td>377.0</td>\n",
       "      <td>2.0</td>\n",
       "      <td>5.0</td>\n",
       "    </tr>\n",
       "    <tr>\n",
       "      <th>2</th>\n",
       "      <td>2</td>\n",
       "      <td>36</td>\n",
       "      <td>2</td>\n",
       "      <td>458</td>\n",
       "      <td>1</td>\n",
       "      <td>1.505107e+09</td>\n",
       "      <td>1.505108e+09</td>\n",
       "      <td>1.505109e+09</td>\n",
       "      <td>569.0</td>\n",
       "      <td>4.0</td>\n",
       "      <td>5.0</td>\n",
       "    </tr>\n",
       "  </tbody>\n",
       "</table>\n",
       "</div>"
      ],
      "text/plain": [
       "   id  pilot  planet  passenger  trip_completed  trip_requested  trip_started  \\\n",
       "0   0     39       3        423               1    1.501065e+09  1.501065e+09   \n",
       "1   1      3       6         53               1    1.514005e+09  1.514005e+09   \n",
       "2   2     36       2        458               1    1.505107e+09  1.505108e+09   \n",
       "\n",
       "     trip_ended   price  pilot_rating  passenger_rating  \n",
       "0  1.501068e+09  1489.0           5.0               5.0  \n",
       "1  1.514006e+09   377.0           2.0               5.0  \n",
       "2  1.505109e+09   569.0           4.0               5.0  "
      ]
     },
     "execution_count": 52,
     "metadata": {},
     "output_type": "execute_result"
    }
   ],
   "source": [
    "df_trips.head(3)"
   ]
  },
  {
   "cell_type": "markdown",
   "metadata": {},
   "source": [
    "We have our datasets! SUCH BEAUTIES."
   ]
  },
  {
   "cell_type": "code",
   "execution_count": 53,
   "metadata": {
    "collapsed": true
   },
   "outputs": [],
   "source": [
    "df_trips.to_csv(\"data/generated-marketplace-trips.csv\", index=False)\n",
    "df_planets.to_csv(\"data/generated-marketplace-planets.csv\", index=False)\n",
    "df_pilots.to_csv(\"data/generated-marketplace-pilots.csv\", index=False)\n",
    "df_passengers.to_csv(\"data/generated-marketplace-passengers.csv\", index=False)"
   ]
  },
  {
   "cell_type": "markdown",
   "metadata": {},
   "source": [
    "What kinds of questions can we try to answer with them? Idk let's get to that in another notebook or something."
   ]
  }
 ],
 "metadata": {
  "kernelspec": {
   "display_name": "Python 2",
   "language": "python",
   "name": "python2"
  },
  "language_info": {
   "codemirror_mode": {
    "name": "ipython",
    "version": 2
   },
   "file_extension": ".py",
   "mimetype": "text/x-python",
   "name": "python",
   "nbconvert_exporter": "python",
   "pygments_lexer": "ipython2",
   "version": "2.7.14"
  }
 },
 "nbformat": 4,
 "nbformat_minor": 2
}
